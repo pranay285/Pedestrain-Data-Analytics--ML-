{
 "cells": [
  {
   "cell_type": "code",
   "execution_count": 1,
   "id": "3a8873c3",
   "metadata": {},
   "outputs": [],
   "source": [
    "import numpy as np\n",
    "import pandas as pd\n",
    "import matplotlib.pyplot as plt\n",
    "import seaborn as sns\n",
    "\n",
    "from sklearn.preprocessing import MinMaxScaler\n",
    "from sklearn.model_selection import train_test_split\n",
    "from sklearn.metrics import accuracy_score, mean_squared_error\n",
    "\n",
    "from sklearn.model_selection import GridSearchCV\n",
    "\n",
    "from warnings import filterwarnings\n",
    "filterwarnings(\"ignore\")"
   ]
  },
  {
   "cell_type": "code",
   "execution_count": 2,
   "id": "29172f97",
   "metadata": {},
   "outputs": [
    {
     "data": {
      "text/html": [
       "<div>\n",
       "<style scoped>\n",
       "    .dataframe tbody tr th:only-of-type {\n",
       "        vertical-align: middle;\n",
       "    }\n",
       "\n",
       "    .dataframe tbody tr th {\n",
       "        vertical-align: top;\n",
       "    }\n",
       "\n",
       "    .dataframe thead th {\n",
       "        text-align: right;\n",
       "    }\n",
       "</style>\n",
       "<table border=\"1\" class=\"dataframe\">\n",
       "  <thead>\n",
       "    <tr style=\"text-align: right;\">\n",
       "      <th></th>\n",
       "      <th>oid</th>\n",
       "      <th>timestamp</th>\n",
       "      <th>x</th>\n",
       "      <th>y</th>\n",
       "      <th>body_roll</th>\n",
       "      <th>body_pitch</th>\n",
       "      <th>body_yaw</th>\n",
       "      <th>head_roll</th>\n",
       "      <th>head_pitch</th>\n",
       "      <th>head_yaw</th>\n",
       "      <th>other_oid</th>\n",
       "      <th>other_class</th>\n",
       "      <th>other_x</th>\n",
       "      <th>other_y</th>\n",
       "    </tr>\n",
       "  </thead>\n",
       "  <tbody>\n",
       "    <tr>\n",
       "      <th>0</th>\n",
       "      <td>50187</td>\n",
       "      <td>1842.4</td>\n",
       "      <td>495854.6403</td>\n",
       "      <td>5.405751e+06</td>\n",
       "      <td>0.3</td>\n",
       "      <td>-0.71</td>\n",
       "      <td>190.56</td>\n",
       "      <td>-0.25</td>\n",
       "      <td>-1.09</td>\n",
       "      <td>186.37</td>\n",
       "      <td>[47646, 50181, 50184, 50187]</td>\n",
       "      <td>[0, 4, 4, 4]</td>\n",
       "      <td>[495923.373133135, 495899.069769386, 495899.05...</td>\n",
       "      <td>[5405744.32136751, 5405738.47595118, 5405739.1...</td>\n",
       "    </tr>\n",
       "    <tr>\n",
       "      <th>1</th>\n",
       "      <td>50187</td>\n",
       "      <td>1842.5</td>\n",
       "      <td>495854.7921</td>\n",
       "      <td>5.405751e+06</td>\n",
       "      <td>0.3</td>\n",
       "      <td>-0.71</td>\n",
       "      <td>190.56</td>\n",
       "      <td>-0.25</td>\n",
       "      <td>-1.09</td>\n",
       "      <td>186.37</td>\n",
       "      <td>[50181, 50187, 50184, 47646]</td>\n",
       "      <td>[4, 4, 4, 0]</td>\n",
       "      <td>[495899.234566716, 495854.792078353, 495899.22...</td>\n",
       "      <td>[5405738.39126416, 5405750.93930797, 5405739.2...</td>\n",
       "    </tr>\n",
       "    <tr>\n",
       "      <th>2</th>\n",
       "      <td>50187</td>\n",
       "      <td>1842.6</td>\n",
       "      <td>495854.9438</td>\n",
       "      <td>5.405751e+06</td>\n",
       "      <td>0.3</td>\n",
       "      <td>-0.71</td>\n",
       "      <td>190.56</td>\n",
       "      <td>-0.25</td>\n",
       "      <td>-1.09</td>\n",
       "      <td>186.37</td>\n",
       "      <td>[47646, 50187, 50184, 50181]</td>\n",
       "      <td>[0, 4, 4, 4]</td>\n",
       "      <td>[495921.779445452, 495854.943847121, 495899.35...</td>\n",
       "      <td>[5405744.51929698, 5405750.96626812, 5405739.1...</td>\n",
       "    </tr>\n",
       "    <tr>\n",
       "      <th>3</th>\n",
       "      <td>50187</td>\n",
       "      <td>1842.7</td>\n",
       "      <td>495855.0956</td>\n",
       "      <td>5.405751e+06</td>\n",
       "      <td>0.3</td>\n",
       "      <td>-0.71</td>\n",
       "      <td>190.56</td>\n",
       "      <td>-0.25</td>\n",
       "      <td>-1.09</td>\n",
       "      <td>186.37</td>\n",
       "      <td>[50187, 47646, 50184, 50181]</td>\n",
       "      <td>[4, 0, 4, 4]</td>\n",
       "      <td>[495855.09561589, 495920.943052671, 495899.490...</td>\n",
       "      <td>[5405750.99322827, 5405744.63008031, 5405739.1...</td>\n",
       "    </tr>\n",
       "    <tr>\n",
       "      <th>4</th>\n",
       "      <td>50187</td>\n",
       "      <td>1842.8</td>\n",
       "      <td>495855.2569</td>\n",
       "      <td>5.405751e+06</td>\n",
       "      <td>0.3</td>\n",
       "      <td>-0.71</td>\n",
       "      <td>190.56</td>\n",
       "      <td>-0.25</td>\n",
       "      <td>-1.09</td>\n",
       "      <td>186.37</td>\n",
       "      <td>[50187, 50184, 50181, 47646]</td>\n",
       "      <td>[4, 4, 4, 0]</td>\n",
       "      <td>[495855.256935427, 495899.585908147, 495899.72...</td>\n",
       "      <td>[5405751.02150176, 5405739.0332702, 5405738.08...</td>\n",
       "    </tr>\n",
       "  </tbody>\n",
       "</table>\n",
       "</div>"
      ],
      "text/plain": [
       "     oid  timestamp            x             y  body_roll  body_pitch  \\\n",
       "0  50187     1842.4  495854.6403  5.405751e+06        0.3       -0.71   \n",
       "1  50187     1842.5  495854.7921  5.405751e+06        0.3       -0.71   \n",
       "2  50187     1842.6  495854.9438  5.405751e+06        0.3       -0.71   \n",
       "3  50187     1842.7  495855.0956  5.405751e+06        0.3       -0.71   \n",
       "4  50187     1842.8  495855.2569  5.405751e+06        0.3       -0.71   \n",
       "\n",
       "   body_yaw  head_roll  head_pitch  head_yaw                     other_oid  \\\n",
       "0    190.56      -0.25       -1.09    186.37  [47646, 50181, 50184, 50187]   \n",
       "1    190.56      -0.25       -1.09    186.37  [50181, 50187, 50184, 47646]   \n",
       "2    190.56      -0.25       -1.09    186.37  [47646, 50187, 50184, 50181]   \n",
       "3    190.56      -0.25       -1.09    186.37  [50187, 47646, 50184, 50181]   \n",
       "4    190.56      -0.25       -1.09    186.37  [50187, 50184, 50181, 47646]   \n",
       "\n",
       "    other_class                                            other_x  \\\n",
       "0  [0, 4, 4, 4]  [495923.373133135, 495899.069769386, 495899.05...   \n",
       "1  [4, 4, 4, 0]  [495899.234566716, 495854.792078353, 495899.22...   \n",
       "2  [0, 4, 4, 4]  [495921.779445452, 495854.943847121, 495899.35...   \n",
       "3  [4, 0, 4, 4]  [495855.09561589, 495920.943052671, 495899.490...   \n",
       "4  [4, 4, 4, 0]  [495855.256935427, 495899.585908147, 495899.72...   \n",
       "\n",
       "                                             other_y  \n",
       "0  [5405744.32136751, 5405738.47595118, 5405739.1...  \n",
       "1  [5405738.39126416, 5405750.93930797, 5405739.2...  \n",
       "2  [5405744.51929698, 5405750.96626812, 5405739.1...  \n",
       "3  [5405750.99322827, 5405744.63008031, 5405739.1...  \n",
       "4  [5405751.02150176, 5405739.0332702, 5405738.08...  "
      ]
     },
     "execution_count": 2,
     "metadata": {},
     "output_type": "execute_result"
    }
   ],
   "source": [
    "tracks_dataset = pd.read_csv(\"Group_18_data_cleaned.csv\") #read the excel file \n",
    "tracks_dataset.head()"
   ]
  },
  {
   "cell_type": "code",
   "execution_count": 3,
   "id": "a8b0970a",
   "metadata": {},
   "outputs": [
    {
     "data": {
      "text/plain": [
       "(4759, 14)"
      ]
     },
     "execution_count": 3,
     "metadata": {},
     "output_type": "execute_result"
    }
   ],
   "source": [
    "tracks_dataset.shape"
   ]
  },
  {
   "cell_type": "code",
   "execution_count": 4,
   "id": "393b686f",
   "metadata": {},
   "outputs": [
    {
     "data": {
      "text/html": [
       "<div>\n",
       "<style scoped>\n",
       "    .dataframe tbody tr th:only-of-type {\n",
       "        vertical-align: middle;\n",
       "    }\n",
       "\n",
       "    .dataframe tbody tr th {\n",
       "        vertical-align: top;\n",
       "    }\n",
       "\n",
       "    .dataframe thead th {\n",
       "        text-align: right;\n",
       "    }\n",
       "</style>\n",
       "<table border=\"1\" class=\"dataframe\">\n",
       "  <thead>\n",
       "    <tr style=\"text-align: right;\">\n",
       "      <th></th>\n",
       "      <th>body_roll</th>\n",
       "      <th>body_pitch</th>\n",
       "      <th>body_yaw</th>\n",
       "      <th>head_roll</th>\n",
       "      <th>head_pitch</th>\n",
       "      <th>head_yaw</th>\n",
       "    </tr>\n",
       "  </thead>\n",
       "  <tbody>\n",
       "    <tr>\n",
       "      <th>0</th>\n",
       "      <td>0.3</td>\n",
       "      <td>-0.71</td>\n",
       "      <td>190.56</td>\n",
       "      <td>-0.25</td>\n",
       "      <td>-1.09</td>\n",
       "      <td>186.37</td>\n",
       "    </tr>\n",
       "    <tr>\n",
       "      <th>1</th>\n",
       "      <td>0.3</td>\n",
       "      <td>-0.71</td>\n",
       "      <td>190.56</td>\n",
       "      <td>-0.25</td>\n",
       "      <td>-1.09</td>\n",
       "      <td>186.37</td>\n",
       "    </tr>\n",
       "    <tr>\n",
       "      <th>2</th>\n",
       "      <td>0.3</td>\n",
       "      <td>-0.71</td>\n",
       "      <td>190.56</td>\n",
       "      <td>-0.25</td>\n",
       "      <td>-1.09</td>\n",
       "      <td>186.37</td>\n",
       "    </tr>\n",
       "    <tr>\n",
       "      <th>3</th>\n",
       "      <td>0.3</td>\n",
       "      <td>-0.71</td>\n",
       "      <td>190.56</td>\n",
       "      <td>-0.25</td>\n",
       "      <td>-1.09</td>\n",
       "      <td>186.37</td>\n",
       "    </tr>\n",
       "    <tr>\n",
       "      <th>4</th>\n",
       "      <td>0.3</td>\n",
       "      <td>-0.71</td>\n",
       "      <td>190.56</td>\n",
       "      <td>-0.25</td>\n",
       "      <td>-1.09</td>\n",
       "      <td>186.37</td>\n",
       "    </tr>\n",
       "    <tr>\n",
       "      <th>...</th>\n",
       "      <td>...</td>\n",
       "      <td>...</td>\n",
       "      <td>...</td>\n",
       "      <td>...</td>\n",
       "      <td>...</td>\n",
       "      <td>...</td>\n",
       "    </tr>\n",
       "    <tr>\n",
       "      <th>4754</th>\n",
       "      <td>0.3</td>\n",
       "      <td>-0.71</td>\n",
       "      <td>190.56</td>\n",
       "      <td>-0.25</td>\n",
       "      <td>-1.09</td>\n",
       "      <td>186.37</td>\n",
       "    </tr>\n",
       "    <tr>\n",
       "      <th>4755</th>\n",
       "      <td>0.3</td>\n",
       "      <td>-0.71</td>\n",
       "      <td>190.56</td>\n",
       "      <td>-0.25</td>\n",
       "      <td>-1.09</td>\n",
       "      <td>186.37</td>\n",
       "    </tr>\n",
       "    <tr>\n",
       "      <th>4756</th>\n",
       "      <td>0.3</td>\n",
       "      <td>-0.71</td>\n",
       "      <td>190.56</td>\n",
       "      <td>-0.25</td>\n",
       "      <td>-1.09</td>\n",
       "      <td>186.37</td>\n",
       "    </tr>\n",
       "    <tr>\n",
       "      <th>4757</th>\n",
       "      <td>0.3</td>\n",
       "      <td>-0.71</td>\n",
       "      <td>190.56</td>\n",
       "      <td>-0.25</td>\n",
       "      <td>-1.09</td>\n",
       "      <td>186.37</td>\n",
       "    </tr>\n",
       "    <tr>\n",
       "      <th>4758</th>\n",
       "      <td>0.3</td>\n",
       "      <td>-0.71</td>\n",
       "      <td>190.56</td>\n",
       "      <td>-0.25</td>\n",
       "      <td>-1.09</td>\n",
       "      <td>186.37</td>\n",
       "    </tr>\n",
       "  </tbody>\n",
       "</table>\n",
       "<p>4759 rows × 6 columns</p>\n",
       "</div>"
      ],
      "text/plain": [
       "      body_roll  body_pitch  body_yaw  head_roll  head_pitch  head_yaw\n",
       "0           0.3       -0.71    190.56      -0.25       -1.09    186.37\n",
       "1           0.3       -0.71    190.56      -0.25       -1.09    186.37\n",
       "2           0.3       -0.71    190.56      -0.25       -1.09    186.37\n",
       "3           0.3       -0.71    190.56      -0.25       -1.09    186.37\n",
       "4           0.3       -0.71    190.56      -0.25       -1.09    186.37\n",
       "...         ...         ...       ...        ...         ...       ...\n",
       "4754        0.3       -0.71    190.56      -0.25       -1.09    186.37\n",
       "4755        0.3       -0.71    190.56      -0.25       -1.09    186.37\n",
       "4756        0.3       -0.71    190.56      -0.25       -1.09    186.37\n",
       "4757        0.3       -0.71    190.56      -0.25       -1.09    186.37\n",
       "4758        0.3       -0.71    190.56      -0.25       -1.09    186.37\n",
       "\n",
       "[4759 rows x 6 columns]"
      ]
     },
     "execution_count": 4,
     "metadata": {},
     "output_type": "execute_result"
    }
   ],
   "source": [
    "X = tracks_dataset[['body_roll','body_pitch','body_yaw','head_roll','head_pitch','head_yaw']]\n",
    "X"
   ]
  },
  {
   "cell_type": "code",
   "execution_count": 5,
   "id": "93d5c4bc",
   "metadata": {},
   "outputs": [
    {
     "data": {
      "text/html": [
       "<div>\n",
       "<style scoped>\n",
       "    .dataframe tbody tr th:only-of-type {\n",
       "        vertical-align: middle;\n",
       "    }\n",
       "\n",
       "    .dataframe tbody tr th {\n",
       "        vertical-align: top;\n",
       "    }\n",
       "\n",
       "    .dataframe thead th {\n",
       "        text-align: right;\n",
       "    }\n",
       "</style>\n",
       "<table border=\"1\" class=\"dataframe\">\n",
       "  <thead>\n",
       "    <tr style=\"text-align: right;\">\n",
       "      <th></th>\n",
       "      <th>body_roll</th>\n",
       "      <th>body_pitch</th>\n",
       "      <th>body_yaw</th>\n",
       "      <th>head_roll</th>\n",
       "      <th>head_pitch</th>\n",
       "      <th>head_yaw</th>\n",
       "    </tr>\n",
       "  </thead>\n",
       "  <tbody>\n",
       "    <tr>\n",
       "      <th>body_roll</th>\n",
       "      <td>1.000000</td>\n",
       "      <td>-0.068315</td>\n",
       "      <td>0.071149</td>\n",
       "      <td>0.245400</td>\n",
       "      <td>0.026663</td>\n",
       "      <td>0.047139</td>\n",
       "    </tr>\n",
       "    <tr>\n",
       "      <th>body_pitch</th>\n",
       "      <td>-0.068315</td>\n",
       "      <td>1.000000</td>\n",
       "      <td>-0.117957</td>\n",
       "      <td>0.058121</td>\n",
       "      <td>0.293689</td>\n",
       "      <td>-0.060023</td>\n",
       "    </tr>\n",
       "    <tr>\n",
       "      <th>body_yaw</th>\n",
       "      <td>0.071149</td>\n",
       "      <td>-0.117957</td>\n",
       "      <td>1.000000</td>\n",
       "      <td>-0.055772</td>\n",
       "      <td>-0.073947</td>\n",
       "      <td>0.826301</td>\n",
       "    </tr>\n",
       "    <tr>\n",
       "      <th>head_roll</th>\n",
       "      <td>0.245400</td>\n",
       "      <td>0.058121</td>\n",
       "      <td>-0.055772</td>\n",
       "      <td>1.000000</td>\n",
       "      <td>0.025732</td>\n",
       "      <td>0.031402</td>\n",
       "    </tr>\n",
       "    <tr>\n",
       "      <th>head_pitch</th>\n",
       "      <td>0.026663</td>\n",
       "      <td>0.293689</td>\n",
       "      <td>-0.073947</td>\n",
       "      <td>0.025732</td>\n",
       "      <td>1.000000</td>\n",
       "      <td>-0.015390</td>\n",
       "    </tr>\n",
       "    <tr>\n",
       "      <th>head_yaw</th>\n",
       "      <td>0.047139</td>\n",
       "      <td>-0.060023</td>\n",
       "      <td>0.826301</td>\n",
       "      <td>0.031402</td>\n",
       "      <td>-0.015390</td>\n",
       "      <td>1.000000</td>\n",
       "    </tr>\n",
       "  </tbody>\n",
       "</table>\n",
       "</div>"
      ],
      "text/plain": [
       "            body_roll  body_pitch  body_yaw  head_roll  head_pitch  head_yaw\n",
       "body_roll    1.000000   -0.068315  0.071149   0.245400    0.026663  0.047139\n",
       "body_pitch  -0.068315    1.000000 -0.117957   0.058121    0.293689 -0.060023\n",
       "body_yaw     0.071149   -0.117957  1.000000  -0.055772   -0.073947  0.826301\n",
       "head_roll    0.245400    0.058121 -0.055772   1.000000    0.025732  0.031402\n",
       "head_pitch   0.026663    0.293689 -0.073947   0.025732    1.000000 -0.015390\n",
       "head_yaw     0.047139   -0.060023  0.826301   0.031402   -0.015390  1.000000"
      ]
     },
     "execution_count": 5,
     "metadata": {},
     "output_type": "execute_result"
    }
   ],
   "source": [
    "X.corr()"
   ]
  },
  {
   "cell_type": "markdown",
   "id": "3d1c97cd",
   "metadata": {},
   "source": [
    "LASSO -  Lasso stands for Least Absolute Shrinkage and Selection Operator.\n",
    "It is a type of linear regression that uses shrinkage.\n",
    "What LASSO does well is to provide a principled way to reduce the number of features in a model. In contrast, automated feature selection based on standard linear regression by stepwise selection or choosing features with the lowest p-values has many drawbacks. Advantages of LASSO over other regression-based approaches are specifically described here. LASSO involves a penalty factor that determines how many features are retained; using cross-validation to choose the penalty factor helps assure that the model will generalize well to future data samples."
   ]
  },
  {
   "cell_type": "code",
   "execution_count": 6,
   "id": "ac17a6f4",
   "metadata": {},
   "outputs": [
    {
     "data": {
      "text/plain": [
       "0       186.37\n",
       "1       186.37\n",
       "2       186.37\n",
       "3       186.37\n",
       "4       186.37\n",
       "         ...  \n",
       "4754    186.37\n",
       "4755    186.37\n",
       "4756    186.37\n",
       "4757    186.37\n",
       "4758    186.37\n",
       "Name: head_yaw, Length: 4759, dtype: float64"
      ]
     },
     "execution_count": 6,
     "metadata": {},
     "output_type": "execute_result"
    }
   ],
   "source": [
    "y = tracks_dataset['head_yaw']\n",
    "y"
   ]
  },
  {
   "cell_type": "code",
   "execution_count": 7,
   "id": "2962b429",
   "metadata": {},
   "outputs": [],
   "source": [
    "X = X.drop(['head_yaw'],axis=1)"
   ]
  },
  {
   "cell_type": "code",
   "execution_count": 8,
   "id": "7e0619b0",
   "metadata": {},
   "outputs": [],
   "source": [
    "X_train_full, X_test, y_train_full, y_test = train_test_split(X, y, test_size=0.3, random_state=42)\n",
    "\n",
    "X_train, X_valid, y_train, y_valid = train_test_split(X_train_full, y_train_full, test_size=0.3, random_state=42)"
   ]
  },
  {
   "cell_type": "code",
   "execution_count": 9,
   "id": "7621219e",
   "metadata": {},
   "outputs": [
    {
     "name": "stdout",
     "output_type": "stream",
     "text": [
      "(2331, 5) (1000, 5) (1428, 5)\n"
     ]
    }
   ],
   "source": [
    "print(X_train.shape, X_valid.shape, X_test.shape)"
   ]
  },
  {
   "cell_type": "code",
   "execution_count": 10,
   "id": "681892fc",
   "metadata": {},
   "outputs": [],
   "source": [
    "from sklearn.linear_model import Lasso"
   ]
  },
  {
   "cell_type": "code",
   "execution_count": 11,
   "id": "fee77db8",
   "metadata": {},
   "outputs": [
    {
     "data": {
      "text/plain": [
       "Index(['body_roll', 'body_pitch', 'body_yaw', 'head_roll', 'head_pitch'], dtype='object')"
      ]
     },
     "execution_count": 11,
     "metadata": {},
     "output_type": "execute_result"
    }
   ],
   "source": [
    "features = X.columns\n",
    "features"
   ]
  },
  {
   "cell_type": "code",
   "execution_count": 12,
   "id": "ceb7c1c5",
   "metadata": {},
   "outputs": [],
   "source": [
    "from sklearn.pipeline import Pipeline\n",
    "pipeline = Pipeline([('model',Lasso())])"
   ]
  },
  {
   "cell_type": "code",
   "execution_count": 13,
   "id": "9a63e82c",
   "metadata": {},
   "outputs": [],
   "source": [
    "search = GridSearchCV(pipeline,\n",
    "                      {'model__alpha':np.arange(0.1,10,0.1)},\n",
    "                      cv = 5, scoring=\"neg_mean_squared_error\",verbose=3)"
   ]
  },
  {
   "cell_type": "code",
   "execution_count": 14,
   "id": "70db7280",
   "metadata": {},
   "outputs": [
    {
     "name": "stdout",
     "output_type": "stream",
     "text": [
      "Fitting 5 folds for each of 99 candidates, totalling 495 fits\n",
      "[CV 1/5] END ...............model__alpha=0.1;, score=-795.311 total time=   0.0s\n",
      "[CV 2/5] END ...............model__alpha=0.1;, score=-752.544 total time=   0.0s\n",
      "[CV 3/5] END ..............model__alpha=0.1;, score=-1311.174 total time=   0.0s\n",
      "[CV 4/5] END ...............model__alpha=0.1;, score=-819.622 total time=   0.0s\n",
      "[CV 5/5] END ...............model__alpha=0.1;, score=-378.661 total time=   0.0s\n",
      "[CV 1/5] END ...............model__alpha=0.2;, score=-794.879 total time=   0.0s\n",
      "[CV 2/5] END ...............model__alpha=0.2;, score=-751.341 total time=   0.0s\n",
      "[CV 3/5] END ..............model__alpha=0.2;, score=-1309.559 total time=   0.0s\n",
      "[CV 4/5] END ...............model__alpha=0.2;, score=-819.530 total time=   0.0s\n",
      "[CV 5/5] END ...............model__alpha=0.2;, score=-378.101 total time=   0.0s\n",
      "[CV 1/5] END model__alpha=0.30000000000000004;, score=-794.485 total time=   0.0s\n",
      "[CV 2/5] END model__alpha=0.30000000000000004;, score=-750.368 total time=   0.0s\n",
      "[CV 3/5] END model__alpha=0.30000000000000004;, score=-1307.990 total time=   0.0s\n",
      "[CV 4/5] END model__alpha=0.30000000000000004;, score=-819.448 total time=   0.0s\n",
      "[CV 5/5] END model__alpha=0.30000000000000004;, score=-377.595 total time=   0.0s\n",
      "[CV 1/5] END ...............model__alpha=0.4;, score=-794.130 total time=   0.0s\n",
      "[CV 2/5] END ...............model__alpha=0.4;, score=-749.427 total time=   0.0s\n",
      "[CV 3/5] END ..............model__alpha=0.4;, score=-1306.469 total time=   0.0s\n",
      "[CV 4/5] END ...............model__alpha=0.4;, score=-819.376 total time=   0.0s\n",
      "[CV 5/5] END ...............model__alpha=0.4;, score=-377.144 total time=   0.0s\n",
      "[CV 1/5] END ...............model__alpha=0.5;, score=-793.813 total time=   0.0s\n",
      "[CV 2/5] END ...............model__alpha=0.5;, score=-748.918 total time=   0.0s\n",
      "[CV 3/5] END ..............model__alpha=0.5;, score=-1304.995 total time=   0.0s\n",
      "[CV 4/5] END ...............model__alpha=0.5;, score=-819.315 total time=   0.0s\n",
      "[CV 5/5] END ...............model__alpha=0.5;, score=-376.747 total time=   0.0s\n",
      "[CV 1/5] END ...............model__alpha=0.6;, score=-793.595 total time=   0.0s\n",
      "[CV 2/5] END ...............model__alpha=0.6;, score=-749.150 total time=   0.0s\n",
      "[CV 3/5] END ..............model__alpha=0.6;, score=-1303.568 total time=   0.0s\n",
      "[CV 4/5] END ...............model__alpha=0.6;, score=-819.263 total time=   0.0s\n",
      "[CV 5/5] END ...............model__alpha=0.6;, score=-376.467 total time=   0.0s\n",
      "[CV 1/5] END model__alpha=0.7000000000000001;, score=-793.432 total time=   0.0s\n",
      "[CV 2/5] END model__alpha=0.7000000000000001;, score=-749.394 total time=   0.0s\n",
      "[CV 3/5] END model__alpha=0.7000000000000001;, score=-1302.188 total time=   0.0s\n",
      "[CV 4/5] END model__alpha=0.7000000000000001;, score=-819.222 total time=   0.0s\n",
      "[CV 5/5] END model__alpha=0.7000000000000001;, score=-376.262 total time=   0.0s\n",
      "[CV 1/5] END ...............model__alpha=0.8;, score=-793.280 total time=   0.0s\n",
      "[CV 2/5] END ...............model__alpha=0.8;, score=-749.651 total time=   0.0s\n",
      "[CV 3/5] END ..............model__alpha=0.8;, score=-1300.854 total time=   0.0s\n",
      "[CV 4/5] END ...............model__alpha=0.8;, score=-819.191 total time=   0.0s\n",
      "[CV 5/5] END ...............model__alpha=0.8;, score=-376.079 total time=   0.0s\n",
      "[CV 1/5] END ...............model__alpha=0.9;, score=-793.138 total time=   0.0s\n",
      "[CV 2/5] END ...............model__alpha=0.9;, score=-749.921 total time=   0.0s\n",
      "[CV 3/5] END ..............model__alpha=0.9;, score=-1299.569 total time=   0.0s\n",
      "[CV 4/5] END ...............model__alpha=0.9;, score=-819.170 total time=   0.0s\n",
      "[CV 5/5] END ...............model__alpha=0.9;, score=-375.920 total time=   0.0s\n",
      "[CV 1/5] END ...............model__alpha=1.0;, score=-793.006 total time=   0.0s\n",
      "[CV 2/5] END ...............model__alpha=1.0;, score=-750.203 total time=   0.0s\n",
      "[CV 3/5] END ..............model__alpha=1.0;, score=-1298.330 total time=   0.0s\n",
      "[CV 4/5] END ...............model__alpha=1.0;, score=-819.159 total time=   0.0s\n",
      "[CV 5/5] END ...............model__alpha=1.0;, score=-375.783 total time=   0.0s\n",
      "[CV 1/5] END ...............model__alpha=1.1;, score=-792.884 total time=   0.0s\n",
      "[CV 2/5] END ...............model__alpha=1.1;, score=-750.498 total time=   0.0s\n",
      "[CV 3/5] END ..............model__alpha=1.1;, score=-1297.138 total time=   0.0s\n",
      "[CV 4/5] END ...............model__alpha=1.1;, score=-819.158 total time=   0.0s\n",
      "[CV 5/5] END ...............model__alpha=1.1;, score=-375.669 total time=   0.0s\n",
      "[CV 1/5] END model__alpha=1.2000000000000002;, score=-792.773 total time=   0.0s\n",
      "[CV 2/5] END model__alpha=1.2000000000000002;, score=-750.805 total time=   0.0s\n",
      "[CV 3/5] END model__alpha=1.2000000000000002;, score=-1296.078 total time=   0.0s\n",
      "[CV 4/5] END model__alpha=1.2000000000000002;, score=-819.168 total time=   0.0s\n",
      "[CV 5/5] END model__alpha=1.2000000000000002;, score=-375.577 total time=   0.0s\n",
      "[CV 1/5] END model__alpha=1.3000000000000003;, score=-792.672 total time=   0.0s\n",
      "[CV 2/5] END model__alpha=1.3000000000000003;, score=-751.126 total time=   0.0s\n",
      "[CV 3/5] END model__alpha=1.3000000000000003;, score=-1296.011 total time=   0.0s\n",
      "[CV 4/5] END model__alpha=1.3000000000000003;, score=-819.187 total time=   0.0s\n",
      "[CV 5/5] END model__alpha=1.3000000000000003;, score=-375.509 total time=   0.0s\n",
      "[CV 1/5] END model__alpha=1.4000000000000001;, score=-792.582 total time=   0.0s\n",
      "[CV 2/5] END model__alpha=1.4000000000000001;, score=-751.459 total time=   0.0s\n",
      "[CV 3/5] END model__alpha=1.4000000000000001;, score=-1295.900 total time=   0.0s\n",
      "[CV 4/5] END model__alpha=1.4000000000000001;, score=-819.217 total time=   0.0s\n",
      "[CV 5/5] END model__alpha=1.4000000000000001;, score=-375.464 total time=   0.0s\n",
      "[CV 1/5] END model__alpha=1.5000000000000002;, score=-792.501 total time=   0.0s\n",
      "[CV 2/5] END model__alpha=1.5000000000000002;, score=-751.804 total time=   0.0s\n",
      "[CV 3/5] END model__alpha=1.5000000000000002;, score=-1295.792 total time=   0.0s\n",
      "[CV 4/5] END model__alpha=1.5000000000000002;, score=-819.257 total time=   0.0s\n",
      "[CV 5/5] END model__alpha=1.5000000000000002;, score=-375.441 total time=   0.0s\n",
      "[CV 1/5] END ...............model__alpha=1.6;, score=-792.431 total time=   0.0s\n",
      "[CV 2/5] END ...............model__alpha=1.6;, score=-752.107 total time=   0.0s\n",
      "[CV 3/5] END ..............model__alpha=1.6;, score=-1295.686 total time=   0.0s\n",
      "[CV 4/5] END ...............model__alpha=1.6;, score=-819.308 total time=   0.0s\n",
      "[CV 5/5] END ...............model__alpha=1.6;, score=-375.441 total time=   0.0s\n",
      "[CV 1/5] END model__alpha=1.7000000000000002;, score=-792.372 total time=   0.0s\n",
      "[CV 2/5] END model__alpha=1.7000000000000002;, score=-752.305 total time=   0.0s\n",
      "[CV 3/5] END model__alpha=1.7000000000000002;, score=-1295.583 total time=   0.0s\n",
      "[CV 4/5] END model__alpha=1.7000000000000002;, score=-819.368 total time=   0.0s\n",
      "[CV 5/5] END model__alpha=1.7000000000000002;, score=-375.465 total time=   0.0s\n",
      "[CV 1/5] END model__alpha=1.8000000000000003;, score=-792.322 total time=   0.0s\n",
      "[CV 2/5] END model__alpha=1.8000000000000003;, score=-752.507 total time=   0.0s\n",
      "[CV 3/5] END model__alpha=1.8000000000000003;, score=-1295.482 total time=   0.0s\n",
      "[CV 4/5] END model__alpha=1.8000000000000003;, score=-819.438 total time=   0.0s\n",
      "[CV 5/5] END model__alpha=1.8000000000000003;, score=-375.511 total time=   0.0s\n",
      "[CV 1/5] END model__alpha=1.9000000000000001;, score=-792.283 total time=   0.0s\n",
      "[CV 2/5] END model__alpha=1.9000000000000001;, score=-752.710 total time=   0.0s\n",
      "[CV 3/5] END model__alpha=1.9000000000000001;, score=-1295.384 total time=   0.0s\n",
      "[CV 4/5] END model__alpha=1.9000000000000001;, score=-819.519 total time=   0.0s\n",
      "[CV 5/5] END model__alpha=1.9000000000000001;, score=-375.579 total time=   0.0s\n",
      "[CV 1/5] END ...............model__alpha=2.0;, score=-792.254 total time=   0.0s\n",
      "[CV 2/5] END ...............model__alpha=2.0;, score=-752.917 total time=   0.0s\n",
      "[CV 3/5] END ..............model__alpha=2.0;, score=-1295.289 total time=   0.0s\n",
      "[CV 4/5] END ...............model__alpha=2.0;, score=-819.610 total time=   0.0s\n",
      "[CV 5/5] END ...............model__alpha=2.0;, score=-375.642 total time=   0.0s\n",
      "[CV 1/5] END ...............model__alpha=2.1;, score=-792.253 total time=   0.0s\n",
      "[CV 2/5] END ...............model__alpha=2.1;, score=-753.127 total time=   0.0s\n",
      "[CV 3/5] END ..............model__alpha=2.1;, score=-1295.196 total time=   0.0s\n",
      "[CV 4/5] END ...............model__alpha=2.1;, score=-819.738 total time=   0.0s\n",
      "[CV 5/5] END ...............model__alpha=2.1;, score=-375.706 total time=   0.0s\n",
      "[CV 1/5] END ...............model__alpha=2.2;, score=-792.263 total time=   0.0s\n",
      "[CV 2/5] END ...............model__alpha=2.2;, score=-753.339 total time=   0.0s\n",
      "[CV 3/5] END ..............model__alpha=2.2;, score=-1295.106 total time=   0.0s\n",
      "[CV 4/5] END ...............model__alpha=2.2;, score=-819.883 total time=   0.0s\n",
      "[CV 5/5] END ...............model__alpha=2.2;, score=-375.777 total time=   0.0s\n",
      "[CV 1/5] END model__alpha=2.3000000000000003;, score=-792.278 total time=   0.0s\n",
      "[CV 2/5] END model__alpha=2.3000000000000003;, score=-753.554 total time=   0.0s\n",
      "[CV 3/5] END model__alpha=2.3000000000000003;, score=-1295.018 total time=   0.0s\n"
     ]
    },
    {
     "name": "stdout",
     "output_type": "stream",
     "text": [
      "[CV 4/5] END model__alpha=2.3000000000000003;, score=-820.034 total time=   0.0s\n",
      "[CV 5/5] END model__alpha=2.3000000000000003;, score=-375.853 total time=   0.0s\n",
      "[CV 1/5] END model__alpha=2.4000000000000004;, score=-792.299 total time=   0.0s\n",
      "[CV 2/5] END model__alpha=2.4000000000000004;, score=-753.772 total time=   0.0s\n",
      "[CV 3/5] END model__alpha=2.4000000000000004;, score=-1294.933 total time=   0.0s\n",
      "[CV 4/5] END model__alpha=2.4000000000000004;, score=-820.191 total time=   0.0s\n",
      "[CV 5/5] END model__alpha=2.4000000000000004;, score=-375.935 total time=   0.0s\n",
      "[CV 1/5] END model__alpha=2.5000000000000004;, score=-792.325 total time=   0.0s\n",
      "[CV 2/5] END model__alpha=2.5000000000000004;, score=-753.992 total time=   0.0s\n",
      "[CV 3/5] END model__alpha=2.5000000000000004;, score=-1294.851 total time=   0.0s\n",
      "[CV 4/5] END model__alpha=2.5000000000000004;, score=-820.349 total time=   0.0s\n",
      "[CV 5/5] END model__alpha=2.5000000000000004;, score=-376.023 total time=   0.0s\n",
      "[CV 1/5] END ...............model__alpha=2.6;, score=-792.358 total time=   0.0s\n",
      "[CV 2/5] END ...............model__alpha=2.6;, score=-754.216 total time=   0.0s\n",
      "[CV 3/5] END ..............model__alpha=2.6;, score=-1294.771 total time=   0.0s\n",
      "[CV 4/5] END ...............model__alpha=2.6;, score=-820.502 total time=   0.0s\n",
      "[CV 5/5] END ...............model__alpha=2.6;, score=-376.116 total time=   0.0s\n",
      "[CV 1/5] END ...............model__alpha=2.7;, score=-792.396 total time=   0.0s\n",
      "[CV 2/5] END ...............model__alpha=2.7;, score=-754.442 total time=   0.0s\n",
      "[CV 3/5] END ..............model__alpha=2.7;, score=-1294.694 total time=   0.0s\n",
      "[CV 4/5] END ...............model__alpha=2.7;, score=-820.658 total time=   0.0s\n",
      "[CV 5/5] END ...............model__alpha=2.7;, score=-376.215 total time=   0.0s\n",
      "[CV 1/5] END model__alpha=2.8000000000000003;, score=-792.441 total time=   0.0s\n",
      "[CV 2/5] END model__alpha=2.8000000000000003;, score=-754.671 total time=   0.0s\n",
      "[CV 3/5] END model__alpha=2.8000000000000003;, score=-1294.620 total time=   0.0s\n",
      "[CV 4/5] END model__alpha=2.8000000000000003;, score=-820.819 total time=   0.0s\n",
      "[CV 5/5] END model__alpha=2.8000000000000003;, score=-376.320 total time=   0.0s\n",
      "[CV 1/5] END model__alpha=2.9000000000000004;, score=-792.491 total time=   0.0s\n",
      "[CV 2/5] END model__alpha=2.9000000000000004;, score=-754.902 total time=   0.0s\n",
      "[CV 3/5] END model__alpha=2.9000000000000004;, score=-1294.548 total time=   0.0s\n",
      "[CV 4/5] END model__alpha=2.9000000000000004;, score=-820.983 total time=   0.0s\n",
      "[CV 5/5] END model__alpha=2.9000000000000004;, score=-376.431 total time=   0.0s\n",
      "[CV 1/5] END model__alpha=3.0000000000000004;, score=-792.546 total time=   0.0s\n",
      "[CV 2/5] END model__alpha=3.0000000000000004;, score=-755.137 total time=   0.0s\n",
      "[CV 3/5] END model__alpha=3.0000000000000004;, score=-1294.478 total time=   0.0s\n",
      "[CV 4/5] END model__alpha=3.0000000000000004;, score=-821.151 total time=   0.0s\n",
      "[CV 5/5] END model__alpha=3.0000000000000004;, score=-376.547 total time=   0.0s\n",
      "[CV 1/5] END ...............model__alpha=3.1;, score=-792.606 total time=   0.0s\n",
      "[CV 2/5] END ...............model__alpha=3.1;, score=-755.374 total time=   0.0s\n",
      "[CV 3/5] END ..............model__alpha=3.1;, score=-1294.411 total time=   0.0s\n",
      "[CV 4/5] END ...............model__alpha=3.1;, score=-821.324 total time=   0.0s\n",
      "[CV 5/5] END ...............model__alpha=3.1;, score=-376.668 total time=   0.0s\n",
      "[CV 1/5] END ...............model__alpha=3.2;, score=-792.671 total time=   0.0s\n",
      "[CV 2/5] END ...............model__alpha=3.2;, score=-755.614 total time=   0.0s\n",
      "[CV 3/5] END ..............model__alpha=3.2;, score=-1294.347 total time=   0.0s\n",
      "[CV 4/5] END ...............model__alpha=3.2;, score=-821.500 total time=   0.0s\n",
      "[CV 5/5] END ...............model__alpha=3.2;, score=-376.796 total time=   0.0s\n",
      "[CV 1/5] END model__alpha=3.3000000000000003;, score=-792.740 total time=   0.0s\n",
      "[CV 2/5] END model__alpha=3.3000000000000003;, score=-755.857 total time=   0.0s\n",
      "[CV 3/5] END model__alpha=3.3000000000000003;, score=-1294.286 total time=   0.0s\n",
      "[CV 4/5] END model__alpha=3.3000000000000003;, score=-821.680 total time=   0.0s\n",
      "[CV 5/5] END model__alpha=3.3000000000000003;, score=-376.929 total time=   0.0s\n",
      "[CV 1/5] END model__alpha=3.4000000000000004;, score=-792.815 total time=   0.0s\n",
      "[CV 2/5] END model__alpha=3.4000000000000004;, score=-756.103 total time=   0.0s\n",
      "[CV 3/5] END model__alpha=3.4000000000000004;, score=-1294.227 total time=   0.0s\n",
      "[CV 4/5] END model__alpha=3.4000000000000004;, score=-821.864 total time=   0.0s\n",
      "[CV 5/5] END model__alpha=3.4000000000000004;, score=-377.089 total time=   0.0s\n",
      "[CV 1/5] END model__alpha=3.5000000000000004;, score=-792.895 total time=   0.0s\n",
      "[CV 2/5] END model__alpha=3.5000000000000004;, score=-756.351 total time=   0.0s\n",
      "[CV 3/5] END model__alpha=3.5000000000000004;, score=-1294.170 total time=   0.0s\n",
      "[CV 4/5] END model__alpha=3.5000000000000004;, score=-822.051 total time=   0.0s\n",
      "[CV 5/5] END model__alpha=3.5000000000000004;, score=-377.267 total time=   0.0s\n",
      "[CV 1/5] END ...............model__alpha=3.6;, score=-792.979 total time=   0.0s\n",
      "[CV 2/5] END ...............model__alpha=3.6;, score=-756.602 total time=   0.0s\n",
      "[CV 3/5] END ..............model__alpha=3.6;, score=-1294.116 total time=   0.0s\n",
      "[CV 4/5] END ...............model__alpha=3.6;, score=-822.243 total time=   0.0s\n",
      "[CV 5/5] END ...............model__alpha=3.6;, score=-377.449 total time=   0.0s\n",
      "[CV 1/5] END ...............model__alpha=3.7;, score=-793.069 total time=   0.0s\n",
      "[CV 2/5] END ...............model__alpha=3.7;, score=-756.856 total time=   0.0s\n",
      "[CV 3/5] END ..............model__alpha=3.7;, score=-1294.065 total time=   0.0s\n",
      "[CV 4/5] END ...............model__alpha=3.7;, score=-822.439 total time=   0.0s\n",
      "[CV 5/5] END ...............model__alpha=3.7;, score=-377.637 total time=   0.0s\n",
      "[CV 1/5] END model__alpha=3.8000000000000003;, score=-793.163 total time=   0.0s\n",
      "[CV 2/5] END model__alpha=3.8000000000000003;, score=-757.113 total time=   0.0s\n",
      "[CV 3/5] END model__alpha=3.8000000000000003;, score=-1294.016 total time=   0.0s\n",
      "[CV 4/5] END model__alpha=3.8000000000000003;, score=-822.638 total time=   0.0s\n",
      "[CV 5/5] END model__alpha=3.8000000000000003;, score=-377.828 total time=   0.0s\n",
      "[CV 1/5] END model__alpha=3.9000000000000004;, score=-793.263 total time=   0.0s\n",
      "[CV 2/5] END model__alpha=3.9000000000000004;, score=-757.373 total time=   0.0s\n",
      "[CV 3/5] END model__alpha=3.9000000000000004;, score=-1293.970 total time=   0.0s\n",
      "[CV 4/5] END model__alpha=3.9000000000000004;, score=-822.841 total time=   0.0s\n",
      "[CV 5/5] END model__alpha=3.9000000000000004;, score=-378.025 total time=   0.0s\n",
      "[CV 1/5] END ...............model__alpha=4.0;, score=-793.367 total time=   0.0s\n",
      "[CV 2/5] END ...............model__alpha=4.0;, score=-757.635 total time=   0.0s\n",
      "[CV 3/5] END ..............model__alpha=4.0;, score=-1293.927 total time=   0.0s\n",
      "[CV 4/5] END ...............model__alpha=4.0;, score=-823.049 total time=   0.0s\n",
      "[CV 5/5] END ...............model__alpha=4.0;, score=-378.226 total time=   0.0s\n",
      "[CV 1/5] END ...............model__alpha=4.1;, score=-793.476 total time=   0.0s\n",
      "[CV 2/5] END ...............model__alpha=4.1;, score=-757.900 total time=   0.0s\n",
      "[CV 3/5] END ..............model__alpha=4.1;, score=-1293.886 total time=   0.0s\n",
      "[CV 4/5] END ...............model__alpha=4.1;, score=-823.260 total time=   0.0s\n",
      "[CV 5/5] END ...............model__alpha=4.1;, score=-378.432 total time=   0.0s\n",
      "[CV 1/5] END ...............model__alpha=4.2;, score=-793.591 total time=   0.0s\n",
      "[CV 2/5] END ...............model__alpha=4.2;, score=-758.168 total time=   0.0s\n",
      "[CV 3/5] END ..............model__alpha=4.2;, score=-1293.848 total time=   0.0s\n",
      "[CV 4/5] END ...............model__alpha=4.2;, score=-823.475 total time=   0.0s\n",
      "[CV 5/5] END ...............model__alpha=4.2;, score=-378.643 total time=   0.0s\n",
      "[CV 1/5] END ...............model__alpha=4.3;, score=-793.710 total time=   0.0s\n",
      "[CV 2/5] END ...............model__alpha=4.3;, score=-758.439 total time=   0.0s\n",
      "[CV 3/5] END ..............model__alpha=4.3;, score=-1293.812 total time=   0.0s\n",
      "[CV 4/5] END ...............model__alpha=4.3;, score=-823.694 total time=   0.0s\n",
      "[CV 5/5] END ...............model__alpha=4.3;, score=-378.858 total time=   0.0s\n",
      "[CV 1/5] END model__alpha=4.3999999999999995;, score=-793.834 total time=   0.0s\n",
      "[CV 2/5] END model__alpha=4.3999999999999995;, score=-758.712 total time=   0.0s\n",
      "[CV 3/5] END model__alpha=4.3999999999999995;, score=-1293.779 total time=   0.0s\n",
      "[CV 4/5] END model__alpha=4.3999999999999995;, score=-823.917 total time=   0.0s\n",
      "[CV 5/5] END model__alpha=4.3999999999999995;, score=-379.078 total time=   0.0s\n",
      "[CV 1/5] END ...............model__alpha=4.5;, score=-793.963 total time=   0.0s\n",
      "[CV 2/5] END ...............model__alpha=4.5;, score=-758.989 total time=   0.0s\n",
      "[CV 3/5] END ..............model__alpha=4.5;, score=-1293.749 total time=   0.0s\n",
      "[CV 4/5] END ...............model__alpha=4.5;, score=-824.144 total time=   0.0s\n",
      "[CV 5/5] END ...............model__alpha=4.5;, score=-379.303 total time=   0.0s\n",
      "[CV 1/5] END ...............model__alpha=4.6;, score=-794.097 total time=   0.0s\n",
      "[CV 2/5] END ...............model__alpha=4.6;, score=-759.268 total time=   0.0s\n",
      "[CV 3/5] END ..............model__alpha=4.6;, score=-1293.721 total time=   0.0s\n",
      "[CV 4/5] END ...............model__alpha=4.6;, score=-824.374 total time=   0.0s\n",
      "[CV 5/5] END ...............model__alpha=4.6;, score=-379.532 total time=   0.0s\n",
      "[CV 1/5] END ...............model__alpha=4.7;, score=-794.236 total time=   0.0s\n",
      "[CV 2/5] END ...............model__alpha=4.7;, score=-759.550 total time=   0.0s\n",
      "[CV 3/5] END ..............model__alpha=4.7;, score=-1293.696 total time=   0.0s\n",
      "[CV 4/5] END ...............model__alpha=4.7;, score=-824.609 total time=   0.0s\n"
     ]
    },
    {
     "name": "stdout",
     "output_type": "stream",
     "text": [
      "[CV 5/5] END ...............model__alpha=4.7;, score=-379.766 total time=   0.0s\n",
      "[CV 1/5] END ...............model__alpha=4.8;, score=-794.380 total time=   0.0s\n",
      "[CV 2/5] END ...............model__alpha=4.8;, score=-759.834 total time=   0.0s\n",
      "[CV 3/5] END ..............model__alpha=4.8;, score=-1293.673 total time=   0.0s\n",
      "[CV 4/5] END ...............model__alpha=4.8;, score=-824.847 total time=   0.0s\n",
      "[CV 5/5] END ...............model__alpha=4.8;, score=-380.005 total time=   0.0s\n",
      "[CV 1/5] END ...............model__alpha=4.9;, score=-794.529 total time=   0.0s\n",
      "[CV 2/5] END ...............model__alpha=4.9;, score=-760.122 total time=   0.0s\n",
      "[CV 3/5] END ..............model__alpha=4.9;, score=-1293.653 total time=   0.0s\n",
      "[CV 4/5] END ...............model__alpha=4.9;, score=-825.090 total time=   0.0s\n",
      "[CV 5/5] END ...............model__alpha=4.9;, score=-380.248 total time=   0.0s\n",
      "[CV 1/5] END ...............model__alpha=5.0;, score=-794.682 total time=   0.0s\n",
      "[CV 2/5] END ...............model__alpha=5.0;, score=-760.412 total time=   0.0s\n",
      "[CV 3/5] END ..............model__alpha=5.0;, score=-1293.636 total time=   0.0s\n",
      "[CV 4/5] END ...............model__alpha=5.0;, score=-825.336 total time=   0.0s\n",
      "[CV 5/5] END ...............model__alpha=5.0;, score=-380.496 total time=   0.0s\n",
      "[CV 1/5] END ...............model__alpha=5.1;, score=-794.841 total time=   0.0s\n",
      "[CV 2/5] END ...............model__alpha=5.1;, score=-760.705 total time=   0.0s\n",
      "[CV 3/5] END ..............model__alpha=5.1;, score=-1293.621 total time=   0.0s\n",
      "[CV 4/5] END ...............model__alpha=5.1;, score=-825.586 total time=   0.0s\n",
      "[CV 5/5] END ...............model__alpha=5.1;, score=-380.748 total time=   0.0s\n",
      "[CV 1/5] END ...............model__alpha=5.2;, score=-795.005 total time=   0.0s\n",
      "[CV 2/5] END ...............model__alpha=5.2;, score=-761.001 total time=   0.0s\n",
      "[CV 3/5] END ..............model__alpha=5.2;, score=-1293.608 total time=   0.0s\n",
      "[CV 4/5] END ...............model__alpha=5.2;, score=-825.840 total time=   0.0s\n",
      "[CV 5/5] END ...............model__alpha=5.2;, score=-381.005 total time=   0.0s\n",
      "[CV 1/5] END ...............model__alpha=5.3;, score=-795.173 total time=   0.0s\n",
      "[CV 2/5] END ...............model__alpha=5.3;, score=-761.299 total time=   0.0s\n",
      "[CV 3/5] END ..............model__alpha=5.3;, score=-1293.599 total time=   0.0s\n",
      "[CV 4/5] END ...............model__alpha=5.3;, score=-826.098 total time=   0.0s\n",
      "[CV 5/5] END ...............model__alpha=5.3;, score=-381.267 total time=   0.0s\n",
      "[CV 1/5] END ...............model__alpha=5.4;, score=-795.347 total time=   0.0s\n",
      "[CV 2/5] END ...............model__alpha=5.4;, score=-761.601 total time=   0.0s\n",
      "[CV 3/5] END ..............model__alpha=5.4;, score=-1293.592 total time=   0.0s\n",
      "[CV 4/5] END ...............model__alpha=5.4;, score=-826.360 total time=   0.0s\n",
      "[CV 5/5] END ...............model__alpha=5.4;, score=-381.534 total time=   0.0s\n",
      "[CV 1/5] END ...............model__alpha=5.5;, score=-795.525 total time=   0.0s\n",
      "[CV 2/5] END ...............model__alpha=5.5;, score=-761.905 total time=   0.0s\n",
      "[CV 3/5] END ..............model__alpha=5.5;, score=-1293.587 total time=   0.0s\n",
      "[CV 4/5] END ...............model__alpha=5.5;, score=-826.625 total time=   0.0s\n",
      "[CV 5/5] END ...............model__alpha=5.5;, score=-381.805 total time=   0.0s\n",
      "[CV 1/5] END ...............model__alpha=5.6;, score=-795.709 total time=   0.0s\n",
      "[CV 2/5] END ...............model__alpha=5.6;, score=-762.212 total time=   0.0s\n",
      "[CV 3/5] END ..............model__alpha=5.6;, score=-1293.585 total time=   0.0s\n",
      "[CV 4/5] END ...............model__alpha=5.6;, score=-826.895 total time=   0.0s\n",
      "[CV 5/5] END ...............model__alpha=5.6;, score=-382.081 total time=   0.0s\n",
      "[CV 1/5] END ...............model__alpha=5.7;, score=-795.897 total time=   0.0s\n",
      "[CV 2/5] END ...............model__alpha=5.7;, score=-762.521 total time=   0.0s\n",
      "[CV 3/5] END ..............model__alpha=5.7;, score=-1293.586 total time=   0.0s\n",
      "[CV 4/5] END ...............model__alpha=5.7;, score=-827.169 total time=   0.0s\n",
      "[CV 5/5] END ...............model__alpha=5.7;, score=-382.361 total time=   0.0s\n",
      "[CV 1/5] END ...............model__alpha=5.8;, score=-796.091 total time=   0.0s\n",
      "[CV 2/5] END ...............model__alpha=5.8;, score=-762.834 total time=   0.0s\n",
      "[CV 3/5] END ..............model__alpha=5.8;, score=-1293.589 total time=   0.0s\n",
      "[CV 4/5] END ...............model__alpha=5.8;, score=-827.446 total time=   0.0s\n",
      "[CV 5/5] END ...............model__alpha=5.8;, score=-382.647 total time=   0.0s\n",
      "[CV 1/5] END ...............model__alpha=5.9;, score=-796.289 total time=   0.0s\n",
      "[CV 2/5] END ...............model__alpha=5.9;, score=-763.149 total time=   0.0s\n",
      "[CV 3/5] END ..............model__alpha=5.9;, score=-1293.595 total time=   0.0s\n",
      "[CV 4/5] END ...............model__alpha=5.9;, score=-827.727 total time=   0.0s\n",
      "[CV 5/5] END ...............model__alpha=5.9;, score=-382.936 total time=   0.0s\n",
      "[CV 1/5] END ...............model__alpha=6.0;, score=-796.492 total time=   0.0s\n",
      "[CV 2/5] END ...............model__alpha=6.0;, score=-763.467 total time=   0.0s\n",
      "[CV 3/5] END ..............model__alpha=6.0;, score=-1293.604 total time=   0.0s\n",
      "[CV 4/5] END ...............model__alpha=6.0;, score=-828.013 total time=   0.0s\n",
      "[CV 5/5] END ...............model__alpha=6.0;, score=-383.231 total time=   0.0s\n",
      "[CV 1/5] END ...............model__alpha=6.1;, score=-796.700 total time=   0.0s\n",
      "[CV 2/5] END ...............model__alpha=6.1;, score=-763.788 total time=   0.0s\n",
      "[CV 3/5] END ..............model__alpha=6.1;, score=-1293.615 total time=   0.0s\n",
      "[CV 4/5] END ...............model__alpha=6.1;, score=-828.302 total time=   0.0s\n",
      "[CV 5/5] END ...............model__alpha=6.1;, score=-383.530 total time=   0.0s\n",
      "[CV 1/5] END ...............model__alpha=6.2;, score=-796.913 total time=   0.0s\n",
      "[CV 2/5] END ...............model__alpha=6.2;, score=-764.112 total time=   0.0s\n",
      "[CV 3/5] END ..............model__alpha=6.2;, score=-1293.629 total time=   0.0s\n",
      "[CV 4/5] END ...............model__alpha=6.2;, score=-828.595 total time=   0.0s\n",
      "[CV 5/5] END ...............model__alpha=6.2;, score=-383.834 total time=   0.0s\n",
      "[CV 1/5] END ...............model__alpha=6.3;, score=-797.131 total time=   0.0s\n",
      "[CV 2/5] END ...............model__alpha=6.3;, score=-764.438 total time=   0.0s\n",
      "[CV 3/5] END ..............model__alpha=6.3;, score=-1293.645 total time=   0.0s\n",
      "[CV 4/5] END ...............model__alpha=6.3;, score=-828.892 total time=   0.0s\n",
      "[CV 5/5] END ...............model__alpha=6.3;, score=-384.142 total time=   0.0s\n",
      "[CV 1/5] END ...............model__alpha=6.4;, score=-797.354 total time=   0.0s\n",
      "[CV 2/5] END ...............model__alpha=6.4;, score=-764.767 total time=   0.0s\n",
      "[CV 3/5] END ..............model__alpha=6.4;, score=-1293.664 total time=   0.0s\n",
      "[CV 4/5] END ...............model__alpha=6.4;, score=-829.192 total time=   0.0s\n",
      "[CV 5/5] END ...............model__alpha=6.4;, score=-384.456 total time=   0.0s\n",
      "[CV 1/5] END ...............model__alpha=6.5;, score=-797.582 total time=   0.0s\n",
      "[CV 2/5] END ...............model__alpha=6.5;, score=-765.099 total time=   0.0s\n",
      "[CV 3/5] END ..............model__alpha=6.5;, score=-1293.685 total time=   0.0s\n",
      "[CV 4/5] END ...............model__alpha=6.5;, score=-829.497 total time=   0.0s\n",
      "[CV 5/5] END ...............model__alpha=6.5;, score=-384.773 total time=   0.0s\n",
      "[CV 1/5] END ...............model__alpha=6.6;, score=-797.815 total time=   0.0s\n",
      "[CV 2/5] END ...............model__alpha=6.6;, score=-765.434 total time=   0.0s\n",
      "[CV 3/5] END ..............model__alpha=6.6;, score=-1293.710 total time=   0.0s\n",
      "[CV 4/5] END ...............model__alpha=6.6;, score=-829.806 total time=   0.0s\n",
      "[CV 5/5] END ...............model__alpha=6.6;, score=-385.096 total time=   0.0s\n",
      "[CV 1/5] END ...............model__alpha=6.7;, score=-798.053 total time=   0.0s\n",
      "[CV 2/5] END ...............model__alpha=6.7;, score=-765.771 total time=   0.0s\n",
      "[CV 3/5] END ..............model__alpha=6.7;, score=-1293.736 total time=   0.0s\n",
      "[CV 4/5] END ...............model__alpha=6.7;, score=-830.118 total time=   0.0s\n",
      "[CV 5/5] END ...............model__alpha=6.7;, score=-385.423 total time=   0.0s\n",
      "[CV 1/5] END ...............model__alpha=6.8;, score=-798.295 total time=   0.0s\n",
      "[CV 2/5] END ...............model__alpha=6.8;, score=-766.112 total time=   0.0s\n",
      "[CV 3/5] END ..............model__alpha=6.8;, score=-1293.766 total time=   0.0s\n",
      "[CV 4/5] END ...............model__alpha=6.8;, score=-830.435 total time=   0.0s\n",
      "[CV 5/5] END ...............model__alpha=6.8;, score=-385.755 total time=   0.0s\n",
      "[CV 1/5] END ...............model__alpha=6.9;, score=-798.543 total time=   0.0s\n",
      "[CV 2/5] END ...............model__alpha=6.9;, score=-766.455 total time=   0.0s\n",
      "[CV 3/5] END ..............model__alpha=6.9;, score=-1293.797 total time=   0.0s\n",
      "[CV 4/5] END ...............model__alpha=6.9;, score=-830.755 total time=   0.0s\n",
      "[CV 5/5] END ...............model__alpha=6.9;, score=-386.091 total time=   0.0s\n",
      "[CV 1/5] END ...............model__alpha=7.0;, score=-798.796 total time=   0.0s\n",
      "[CV 2/5] END ...............model__alpha=7.0;, score=-766.801 total time=   0.0s\n",
      "[CV 3/5] END ..............model__alpha=7.0;, score=-1293.832 total time=   0.0s\n",
      "[CV 4/5] END ...............model__alpha=7.0;, score=-831.079 total time=   0.0s\n",
      "[CV 5/5] END ...............model__alpha=7.0;, score=-386.432 total time=   0.0s\n",
      "[CV 1/5] END ...............model__alpha=7.1;, score=-799.053 total time=   0.0s\n",
      "[CV 2/5] END ...............model__alpha=7.1;, score=-767.149 total time=   0.0s\n",
      "[CV 3/5] END ..............model__alpha=7.1;, score=-1293.869 total time=   0.0s\n",
      "[CV 4/5] END ...............model__alpha=7.1;, score=-831.407 total time=   0.0s\n"
     ]
    },
    {
     "name": "stdout",
     "output_type": "stream",
     "text": [
      "[CV 5/5] END ...............model__alpha=7.1;, score=-386.778 total time=   0.0s\n",
      "[CV 1/5] END ...............model__alpha=7.2;, score=-799.316 total time=   0.0s\n",
      "[CV 2/5] END ...............model__alpha=7.2;, score=-767.501 total time=   0.0s\n",
      "[CV 3/5] END ..............model__alpha=7.2;, score=-1293.909 total time=   0.0s\n",
      "[CV 4/5] END ...............model__alpha=7.2;, score=-831.739 total time=   0.0s\n",
      "[CV 5/5] END ...............model__alpha=7.2;, score=-387.128 total time=   0.0s\n",
      "[CV 1/5] END ...............model__alpha=7.3;, score=-799.583 total time=   0.0s\n",
      "[CV 2/5] END ...............model__alpha=7.3;, score=-767.855 total time=   0.0s\n",
      "[CV 3/5] END ..............model__alpha=7.3;, score=-1293.951 total time=   0.0s\n",
      "[CV 4/5] END ...............model__alpha=7.3;, score=-832.075 total time=   0.0s\n",
      "[CV 5/5] END ...............model__alpha=7.3;, score=-387.484 total time=   0.0s\n",
      "[CV 1/5] END ...............model__alpha=7.4;, score=-799.856 total time=   0.0s\n",
      "[CV 2/5] END ...............model__alpha=7.4;, score=-768.212 total time=   0.0s\n",
      "[CV 3/5] END ..............model__alpha=7.4;, score=-1293.996 total time=   0.0s\n",
      "[CV 4/5] END ...............model__alpha=7.4;, score=-832.415 total time=   0.0s\n",
      "[CV 5/5] END ...............model__alpha=7.4;, score=-387.843 total time=   0.0s\n",
      "[CV 1/5] END ...............model__alpha=7.5;, score=-800.133 total time=   0.0s\n",
      "[CV 2/5] END ...............model__alpha=7.5;, score=-768.572 total time=   0.0s\n",
      "[CV 3/5] END ..............model__alpha=7.5;, score=-1294.043 total time=   0.0s\n",
      "[CV 4/5] END ...............model__alpha=7.5;, score=-832.758 total time=   0.0s\n",
      "[CV 5/5] END ...............model__alpha=7.5;, score=-388.208 total time=   0.0s\n",
      "[CV 1/5] END ...............model__alpha=7.6;, score=-800.415 total time=   0.0s\n",
      "[CV 2/5] END ...............model__alpha=7.6;, score=-768.935 total time=   0.0s\n",
      "[CV 3/5] END ..............model__alpha=7.6;, score=-1294.093 total time=   0.0s\n",
      "[CV 4/5] END ...............model__alpha=7.6;, score=-833.106 total time=   0.0s\n",
      "[CV 5/5] END ...............model__alpha=7.6;, score=-388.577 total time=   0.0s\n",
      "[CV 1/5] END ...............model__alpha=7.7;, score=-800.702 total time=   0.0s\n",
      "[CV 2/5] END ...............model__alpha=7.7;, score=-769.300 total time=   0.0s\n",
      "[CV 3/5] END ..............model__alpha=7.7;, score=-1294.146 total time=   0.0s\n",
      "[CV 4/5] END ...............model__alpha=7.7;, score=-833.457 total time=   0.0s\n",
      "[CV 5/5] END ...............model__alpha=7.7;, score=-388.950 total time=   0.0s\n",
      "[CV 1/5] END ...............model__alpha=7.8;, score=-800.994 total time=   0.0s\n",
      "[CV 2/5] END ...............model__alpha=7.8;, score=-769.668 total time=   0.0s\n",
      "[CV 3/5] END ..............model__alpha=7.8;, score=-1294.201 total time=   0.0s\n",
      "[CV 4/5] END ...............model__alpha=7.8;, score=-833.813 total time=   0.0s\n",
      "[CV 5/5] END ...............model__alpha=7.8;, score=-389.329 total time=   0.0s\n",
      "[CV 1/5] END ...............model__alpha=7.9;, score=-801.292 total time=   0.0s\n",
      "[CV 2/5] END ...............model__alpha=7.9;, score=-770.039 total time=   0.0s\n",
      "[CV 3/5] END ..............model__alpha=7.9;, score=-1294.259 total time=   0.0s\n",
      "[CV 4/5] END ...............model__alpha=7.9;, score=-834.172 total time=   0.0s\n",
      "[CV 5/5] END ...............model__alpha=7.9;, score=-389.712 total time=   0.0s\n",
      "[CV 1/5] END ...............model__alpha=8.0;, score=-801.594 total time=   0.0s\n",
      "[CV 2/5] END ...............model__alpha=8.0;, score=-770.413 total time=   0.0s\n",
      "[CV 3/5] END ..............model__alpha=8.0;, score=-1294.320 total time=   0.0s\n",
      "[CV 4/5] END ...............model__alpha=8.0;, score=-834.535 total time=   0.0s\n",
      "[CV 5/5] END ...............model__alpha=8.0;, score=-390.100 total time=   0.0s\n",
      "[CV 1/5] END ...............model__alpha=8.1;, score=-801.901 total time=   0.0s\n",
      "[CV 2/5] END ...............model__alpha=8.1;, score=-770.789 total time=   0.0s\n",
      "[CV 3/5] END ..............model__alpha=8.1;, score=-1294.383 total time=   0.0s\n",
      "[CV 4/5] END ...............model__alpha=8.1;, score=-834.902 total time=   0.0s\n",
      "[CV 5/5] END ...............model__alpha=8.1;, score=-390.492 total time=   0.0s\n",
      "[CV 1/5] END ...............model__alpha=8.2;, score=-802.212 total time=   0.0s\n",
      "[CV 2/5] END ...............model__alpha=8.2;, score=-771.169 total time=   0.0s\n",
      "[CV 3/5] END ..............model__alpha=8.2;, score=-1294.449 total time=   0.0s\n",
      "[CV 4/5] END ...............model__alpha=8.2;, score=-835.273 total time=   0.0s\n",
      "[CV 5/5] END ...............model__alpha=8.2;, score=-390.889 total time=   0.0s\n",
      "[CV 1/5] END ...............model__alpha=8.3;, score=-802.529 total time=   0.0s\n",
      "[CV 2/5] END ...............model__alpha=8.3;, score=-771.551 total time=   0.0s\n",
      "[CV 3/5] END ..............model__alpha=8.3;, score=-1294.517 total time=   0.0s\n",
      "[CV 4/5] END ...............model__alpha=8.3;, score=-835.648 total time=   0.0s\n",
      "[CV 5/5] END ...............model__alpha=8.3;, score=-391.291 total time=   0.0s\n",
      "[CV 1/5] END ...............model__alpha=8.4;, score=-802.851 total time=   0.0s\n",
      "[CV 2/5] END ...............model__alpha=8.4;, score=-771.936 total time=   0.0s\n",
      "[CV 3/5] END ..............model__alpha=8.4;, score=-1294.588 total time=   0.0s\n",
      "[CV 4/5] END ...............model__alpha=8.4;, score=-836.027 total time=   0.0s\n",
      "[CV 5/5] END ...............model__alpha=8.4;, score=-391.697 total time=   0.0s\n",
      "[CV 1/5] END ...............model__alpha=8.5;, score=-803.178 total time=   0.0s\n",
      "[CV 2/5] END ...............model__alpha=8.5;, score=-772.323 total time=   0.0s\n",
      "[CV 3/5] END ..............model__alpha=8.5;, score=-1294.661 total time=   0.0s\n",
      "[CV 4/5] END ...............model__alpha=8.5;, score=-836.409 total time=   0.0s\n",
      "[CV 5/5] END ...............model__alpha=8.5;, score=-392.108 total time=   0.0s\n",
      "[CV 1/5] END ...............model__alpha=8.6;, score=-803.509 total time=   0.0s\n",
      "[CV 2/5] END ...............model__alpha=8.6;, score=-772.714 total time=   0.0s\n",
      "[CV 3/5] END ..............model__alpha=8.6;, score=-1294.737 total time=   0.0s\n",
      "[CV 4/5] END ...............model__alpha=8.6;, score=-836.796 total time=   0.0s\n",
      "[CV 5/5] END ...............model__alpha=8.6;, score=-392.524 total time=   0.0s\n",
      "[CV 1/5] END ...............model__alpha=8.7;, score=-803.846 total time=   0.0s\n",
      "[CV 2/5] END ...............model__alpha=8.7;, score=-773.107 total time=   0.0s\n",
      "[CV 3/5] END ..............model__alpha=8.7;, score=-1294.816 total time=   0.0s\n",
      "[CV 4/5] END ...............model__alpha=8.7;, score=-837.186 total time=   0.0s\n",
      "[CV 5/5] END ...............model__alpha=8.7;, score=-392.944 total time=   0.0s\n",
      "[CV 1/5] END ...............model__alpha=8.8;, score=-804.188 total time=   0.0s\n",
      "[CV 2/5] END ...............model__alpha=8.8;, score=-773.503 total time=   0.0s\n",
      "[CV 3/5] END ..............model__alpha=8.8;, score=-1294.897 total time=   0.0s\n",
      "[CV 4/5] END ...............model__alpha=8.8;, score=-837.581 total time=   0.0s\n",
      "[CV 5/5] END ...............model__alpha=8.8;, score=-393.369 total time=   0.0s\n",
      "[CV 1/5] END ...............model__alpha=8.9;, score=-804.534 total time=   0.0s\n",
      "[CV 2/5] END ...............model__alpha=8.9;, score=-773.902 total time=   0.0s\n",
      "[CV 3/5] END ..............model__alpha=8.9;, score=-1294.981 total time=   0.0s\n",
      "[CV 4/5] END ...............model__alpha=8.9;, score=-837.979 total time=   0.0s\n",
      "[CV 5/5] END ...............model__alpha=8.9;, score=-393.799 total time=   0.0s\n",
      "[CV 1/5] END ...............model__alpha=9.0;, score=-804.886 total time=   0.0s\n",
      "[CV 2/5] END ...............model__alpha=9.0;, score=-774.303 total time=   0.0s\n",
      "[CV 3/5] END ..............model__alpha=9.0;, score=-1295.067 total time=   0.0s\n",
      "[CV 4/5] END ...............model__alpha=9.0;, score=-838.381 total time=   0.0s\n",
      "[CV 5/5] END ...............model__alpha=9.0;, score=-394.233 total time=   0.0s\n",
      "[CV 1/5] END ...............model__alpha=9.1;, score=-805.242 total time=   0.0s\n",
      "[CV 2/5] END ...............model__alpha=9.1;, score=-774.708 total time=   0.0s\n",
      "[CV 3/5] END ..............model__alpha=9.1;, score=-1295.156 total time=   0.0s\n",
      "[CV 4/5] END ...............model__alpha=9.1;, score=-838.787 total time=   0.0s\n",
      "[CV 5/5] END ...............model__alpha=9.1;, score=-394.672 total time=   0.0s\n",
      "[CV 1/5] END ...............model__alpha=9.2;, score=-805.603 total time=   0.0s\n",
      "[CV 2/5] END ...............model__alpha=9.2;, score=-775.115 total time=   0.0s\n",
      "[CV 3/5] END ..............model__alpha=9.2;, score=-1295.248 total time=   0.0s\n",
      "[CV 4/5] END ...............model__alpha=9.2;, score=-839.197 total time=   0.0s\n"
     ]
    },
    {
     "name": "stdout",
     "output_type": "stream",
     "text": [
      "[CV 5/5] END ...............model__alpha=9.2;, score=-395.116 total time=   0.0s\n",
      "[CV 1/5] END ...............model__alpha=9.3;, score=-805.970 total time=   0.0s\n",
      "[CV 2/5] END ...............model__alpha=9.3;, score=-775.525 total time=   0.0s\n",
      "[CV 3/5] END ..............model__alpha=9.3;, score=-1295.342 total time=   0.0s\n",
      "[CV 4/5] END ...............model__alpha=9.3;, score=-839.611 total time=   0.0s\n",
      "[CV 5/5] END ...............model__alpha=9.3;, score=-395.564 total time=   0.0s\n",
      "[CV 1/5] END ...............model__alpha=9.4;, score=-806.341 total time=   0.0s\n",
      "[CV 2/5] END ...............model__alpha=9.4;, score=-775.938 total time=   0.0s\n",
      "[CV 3/5] END ..............model__alpha=9.4;, score=-1295.439 total time=   0.0s\n",
      "[CV 4/5] END ...............model__alpha=9.4;, score=-840.028 total time=   0.0s\n",
      "[CV 5/5] END ...............model__alpha=9.4;, score=-396.017 total time=   0.0s\n",
      "[CV 1/5] END ...............model__alpha=9.5;, score=-806.717 total time=   0.0s\n",
      "[CV 2/5] END ...............model__alpha=9.5;, score=-776.353 total time=   0.0s\n",
      "[CV 3/5] END ..............model__alpha=9.5;, score=-1295.539 total time=   0.0s\n",
      "[CV 4/5] END ...............model__alpha=9.5;, score=-840.450 total time=   0.0s\n",
      "[CV 5/5] END ...............model__alpha=9.5;, score=-396.474 total time=   0.0s\n",
      "[CV 1/5] END ...............model__alpha=9.6;, score=-807.098 total time=   0.0s\n",
      "[CV 2/5] END ...............model__alpha=9.6;, score=-776.771 total time=   0.0s\n",
      "[CV 3/5] END ..............model__alpha=9.6;, score=-1295.641 total time=   0.0s\n",
      "[CV 4/5] END ...............model__alpha=9.6;, score=-840.876 total time=   0.0s\n",
      "[CV 5/5] END ...............model__alpha=9.6;, score=-396.937 total time=   0.0s\n",
      "[CV 1/5] END .model__alpha=9.700000000000001;, score=-807.484 total time=   0.0s\n",
      "[CV 2/5] END .model__alpha=9.700000000000001;, score=-777.192 total time=   0.0s\n",
      "[CV 3/5] END model__alpha=9.700000000000001;, score=-1295.745 total time=   0.0s\n",
      "[CV 4/5] END .model__alpha=9.700000000000001;, score=-841.305 total time=   0.0s\n",
      "[CV 5/5] END .model__alpha=9.700000000000001;, score=-397.404 total time=   0.0s\n",
      "[CV 1/5] END ...............model__alpha=9.8;, score=-807.875 total time=   0.0s\n",
      "[CV 2/5] END ...............model__alpha=9.8;, score=-777.616 total time=   0.0s\n",
      "[CV 3/5] END ..............model__alpha=9.8;, score=-1295.852 total time=   0.0s\n",
      "[CV 4/5] END ...............model__alpha=9.8;, score=-841.738 total time=   0.0s\n",
      "[CV 5/5] END ...............model__alpha=9.8;, score=-397.875 total time=   0.0s\n",
      "[CV 1/5] END ...............model__alpha=9.9;, score=-808.271 total time=   0.0s\n",
      "[CV 2/5] END ...............model__alpha=9.9;, score=-778.043 total time=   0.0s\n",
      "[CV 3/5] END ..............model__alpha=9.9;, score=-1295.962 total time=   0.0s\n",
      "[CV 4/5] END ...............model__alpha=9.9;, score=-842.175 total time=   0.0s\n",
      "[CV 5/5] END ...............model__alpha=9.9;, score=-398.351 total time=   0.0s\n"
     ]
    },
    {
     "data": {
      "text/plain": [
       "GridSearchCV(cv=5, estimator=Pipeline(steps=[('model', Lasso())]),\n",
       "             param_grid={'model__alpha': array([0.1, 0.2, 0.3, 0.4, 0.5, 0.6, 0.7, 0.8, 0.9, 1. , 1.1, 1.2, 1.3,\n",
       "       1.4, 1.5, 1.6, 1.7, 1.8, 1.9, 2. , 2.1, 2.2, 2.3, 2.4, 2.5, 2.6,\n",
       "       2.7, 2.8, 2.9, 3. , 3.1, 3.2, 3.3, 3.4, 3.5, 3.6, 3.7, 3.8, 3.9,\n",
       "       4. , 4.1, 4.2, 4.3, 4.4, 4.5, 4.6, 4.7, 4.8, 4.9, 5. , 5.1, 5.2,\n",
       "       5.3, 5.4, 5.5, 5.6, 5.7, 5.8, 5.9, 6. , 6.1, 6.2, 6.3, 6.4, 6.5,\n",
       "       6.6, 6.7, 6.8, 6.9, 7. , 7.1, 7.2, 7.3, 7.4, 7.5, 7.6, 7.7, 7.8,\n",
       "       7.9, 8. , 8.1, 8.2, 8.3, 8.4, 8.5, 8.6, 8.7, 8.8, 8.9, 9. , 9.1,\n",
       "       9.2, 9.3, 9.4, 9.5, 9.6, 9.7, 9.8, 9.9])},\n",
       "             scoring='neg_mean_squared_error', verbose=3)"
      ]
     },
     "execution_count": 14,
     "metadata": {},
     "output_type": "execute_result"
    }
   ],
   "source": [
    "search.fit(X_train,y_train)"
   ]
  },
  {
   "cell_type": "code",
   "execution_count": 15,
   "id": "abdcd419",
   "metadata": {},
   "outputs": [
    {
     "data": {
      "text/plain": [
       "{'model__alpha': 1.2000000000000002}"
      ]
     },
     "execution_count": 15,
     "metadata": {},
     "output_type": "execute_result"
    }
   ],
   "source": [
    "search.best_params_\n",
    "# {'model__alpha': 1.2000000000000002}"
   ]
  },
  {
   "cell_type": "code",
   "execution_count": 16,
   "id": "f962ca22",
   "metadata": {},
   "outputs": [],
   "source": [
    "coefficients = search.best_estimator_.named_steps['model'].coef_"
   ]
  },
  {
   "cell_type": "code",
   "execution_count": 17,
   "id": "595a602a",
   "metadata": {},
   "outputs": [
    {
     "data": {
      "text/plain": [
       "array([0.        , 0.16921831, 0.81192259, 1.9229217 , 0.04531236])"
      ]
     },
     "execution_count": 17,
     "metadata": {},
     "output_type": "execute_result"
    }
   ],
   "source": [
    "importance = np.abs(coefficients)\n",
    "importance"
   ]
  },
  {
   "cell_type": "code",
   "execution_count": 18,
   "id": "46e9bc75",
   "metadata": {},
   "outputs": [
    {
     "data": {
      "text/plain": [
       "array(['body_pitch', 'body_yaw', 'head_roll', 'head_pitch'], dtype=object)"
      ]
     },
     "execution_count": 18,
     "metadata": {},
     "output_type": "execute_result"
    }
   ],
   "source": [
    "np.array(features)[importance > 0.03]"
   ]
  },
  {
   "cell_type": "markdown",
   "id": "60c90b53",
   "metadata": {},
   "source": [
    "In this way, we have used a properly optimized Lasso regression to get information about the most important features of our dataset according to the given target variable.\n",
    "\n",
    "From the above correlation matrix also we can conclude that these three ['body_roll', 'body_yaw', 'head_roll'] are important features inorder to predict the target data."
   ]
  },
  {
   "cell_type": "markdown",
   "id": "20e83a91",
   "metadata": {},
   "source": [
    "Using the best model from project -2 (Random Forest Regressor) with the optimized features"
   ]
  },
  {
   "cell_type": "code",
   "execution_count": 19,
   "id": "d22f7b29",
   "metadata": {},
   "outputs": [],
   "source": [
    "X = tracks_dataset[['body_roll','body_pitch','body_yaw','head_roll','head_pitch','head_yaw']]\n",
    "X\n",
    "\n",
    "# MinMaxScaler\n",
    "min_max_scaler = MinMaxScaler()\n",
    "\n",
    "X_scaled = pd.DataFrame(min_max_scaler.fit_transform(X))\n",
    "\n",
    "# While scaling the columns names are removed, so resigining them back\n",
    "X_scaled.columns = X.columns\n",
    "X_scaled\n",
    "\n",
    "y_scaled = X_scaled['head_yaw']\n",
    "X_scaled = X_scaled.drop(['head_yaw'],axis=1)"
   ]
  },
  {
   "cell_type": "code",
   "execution_count": 20,
   "id": "54d733ea",
   "metadata": {},
   "outputs": [],
   "source": [
    "X_train_full, X_test, y_train_full, y_test = train_test_split(X_scaled, y_scaled, test_size=0.3, random_state=42)\n",
    "\n",
    "X_train, X_valid, y_train, y_valid = train_test_split(X_train_full, y_train_full, test_size=0.3, random_state=42)"
   ]
  },
  {
   "cell_type": "code",
   "execution_count": 21,
   "id": "e6097752",
   "metadata": {},
   "outputs": [
    {
     "data": {
      "text/plain": [
       "2571    0.544675\n",
       "2542    0.518761\n",
       "4270    0.512164\n",
       "2007    0.566720\n",
       "1913    0.175917\n",
       "          ...   \n",
       "480     0.518761\n",
       "115     0.351834\n",
       "1496    0.518761\n",
       "3776    0.518761\n",
       "4097    0.324779\n",
       "Name: head_yaw, Length: 2331, dtype: float64"
      ]
     },
     "execution_count": 21,
     "metadata": {},
     "output_type": "execute_result"
    }
   ],
   "source": [
    "X_selected_train2 = X_train[['body_pitch','body_yaw','head_roll','head_pitch']]\n",
    "y_selected_train2 = y_train\n",
    "y_train"
   ]
  },
  {
   "cell_type": "code",
   "execution_count": 22,
   "id": "53624501",
   "metadata": {},
   "outputs": [],
   "source": [
    "from sklearn.ensemble import RandomForestRegressor\n",
    "from sklearn.model_selection import GridSearchCV"
   ]
  },
  {
   "cell_type": "code",
   "execution_count": 23,
   "id": "4f0981ab",
   "metadata": {},
   "outputs": [],
   "source": [
    "X_selected_valid = X_valid[['body_pitch','body_yaw','head_roll','head_pitch']]\n",
    "y_selected_valid = y_valid"
   ]
  },
  {
   "cell_type": "code",
   "execution_count": 24,
   "id": "e79516c5",
   "metadata": {},
   "outputs": [
    {
     "data": {
      "text/plain": [
       "RandomForestRegressor(max_depth=90, max_features=3, min_samples_leaf=3,\n",
       "                      min_samples_split=8, n_estimators=200)"
      ]
     },
     "execution_count": 24,
     "metadata": {},
     "output_type": "execute_result"
    }
   ],
   "source": [
    "rf = RandomForestRegressor(bootstrap= True,max_depth= 90,max_features= 3,min_samples_leaf= 3,min_samples_split= 8,\n",
    " n_estimators= 200)\n",
    "rf.fit(X_selected_train2, y_selected_train2)"
   ]
  },
  {
   "cell_type": "code",
   "execution_count": 25,
   "id": "97410826",
   "metadata": {},
   "outputs": [],
   "source": [
    "pred = rf.predict(X_selected_valid)"
   ]
  },
  {
   "cell_type": "code",
   "execution_count": 26,
   "id": "0e4eda84",
   "metadata": {},
   "outputs": [
    {
     "name": "stdout",
     "output_type": "stream",
     "text": [
      "RMSE for Random forest using LASSO variable selection: 0.0057\n"
     ]
    }
   ],
   "source": [
    "print(\"RMSE for Random forest using LASSO variable selection:\",np.round(mean_squared_error(y_selected_valid,rf.predict(X_selected_valid)),4))"
   ]
  },
  {
   "cell_type": "markdown",
   "id": "f80769fe",
   "metadata": {},
   "source": [
    "Using the best model from project -3 (SVM Non-Linear) with the optimized features"
   ]
  },
  {
   "cell_type": "code",
   "execution_count": 27,
   "id": "3db55ef3",
   "metadata": {},
   "outputs": [],
   "source": [
    "from sklearn.svm import SVR\n",
    "SVR_Radial_Basis = SVR(kernel=\"rbf\").fit(X_selected_train2,y_selected_train2)\n",
    "\n",
    "svr_parameters = {\"C\": np.arange(0.2,5,0.1)}\n",
    "svr_cv_model= GridSearchCV(SVR_Radial_Basis,svr_parameters,cv=5).fit(X_selected_train2,y_selected_train2)"
   ]
  },
  {
   "cell_type": "code",
   "execution_count": 28,
   "id": "f019787b",
   "metadata": {},
   "outputs": [
    {
     "data": {
      "text/plain": [
       "{'C': 0.2}"
      ]
     },
     "execution_count": 28,
     "metadata": {},
     "output_type": "execute_result"
    }
   ],
   "source": [
    "svr_cv_model.best_params_"
   ]
  },
  {
   "cell_type": "code",
   "execution_count": 29,
   "id": "cf37facd",
   "metadata": {},
   "outputs": [
    {
     "data": {
      "text/plain": [
       "0.2"
      ]
     },
     "execution_count": 29,
     "metadata": {},
     "output_type": "execute_result"
    }
   ],
   "source": [
    "svr_cv_model.best_params_['C']"
   ]
  },
  {
   "cell_type": "code",
   "execution_count": 30,
   "id": "f8ef063b",
   "metadata": {},
   "outputs": [],
   "source": [
    "svr_tuned = SVR(kernel=\"rbf\",\n",
    "                C=svr_cv_model.best_params_['C']).fit(X_selected_train2,y_selected_train2)"
   ]
  },
  {
   "cell_type": "code",
   "execution_count": 31,
   "id": "cba8acb4",
   "metadata": {},
   "outputs": [
    {
     "data": {
      "text/plain": [
       "array([0.52955573, 0.51653144, 0.50504684, ..., 0.51653144, 0.51653144,\n",
       "       0.28507125])"
      ]
     },
     "execution_count": 31,
     "metadata": {},
     "output_type": "execute_result"
    }
   ],
   "source": [
    "y_pred=svr_tuned.predict(X_selected_train2)\n",
    "y_pred"
   ]
  },
  {
   "cell_type": "code",
   "execution_count": 32,
   "id": "a01dcabc",
   "metadata": {},
   "outputs": [
    {
     "data": {
      "text/plain": [
       "0.0048"
      ]
     },
     "execution_count": 32,
     "metadata": {},
     "output_type": "execute_result"
    }
   ],
   "source": [
    "from sklearn.metrics import mean_squared_error\n",
    "#Train Error\n",
    "np.round(mean_squared_error(y_selected_train2,y_pred),4)"
   ]
  },
  {
   "cell_type": "code",
   "execution_count": 33,
   "id": "ac5e3fdf",
   "metadata": {},
   "outputs": [],
   "source": [
    "X_selected_valid2 = X_valid[['body_roll','body_yaw','head_roll','head_pitch']]\n",
    "y_selected_valid2 = y_valid"
   ]
  },
  {
   "cell_type": "code",
   "execution_count": 34,
   "id": "5df3408b",
   "metadata": {},
   "outputs": [],
   "source": [
    "y_pred=svr_tuned.predict(X_selected_valid2)"
   ]
  },
  {
   "cell_type": "code",
   "execution_count": 35,
   "id": "ceb63896",
   "metadata": {},
   "outputs": [
    {
     "data": {
      "text/plain": [
       "0.013"
      ]
     },
     "execution_count": 35,
     "metadata": {},
     "output_type": "execute_result"
    }
   ],
   "source": [
    "#Valid Error\n",
    "pred = np.round(mean_squared_error(y_selected_valid2,y_pred),4)\n",
    "pred"
   ]
  },
  {
   "cell_type": "code",
   "execution_count": 36,
   "id": "969a8c67",
   "metadata": {},
   "outputs": [
    {
     "name": "stdout",
     "output_type": "stream",
     "text": [
      "RMSE with SVM after using LASSO feature selection :  0.013\n"
     ]
    }
   ],
   "source": [
    "print('RMSE with SVM after using LASSO feature selection : ', np.round(mean_squared_error(y_selected_valid2,y_pred),4))"
   ]
  },
  {
   "cell_type": "code",
   "execution_count": 38,
   "id": "ea7c447d",
   "metadata": {},
   "outputs": [
    {
     "name": "stdout",
     "output_type": "stream",
     "text": [
      "Index(['body_pitch', 'body_yaw', 'head_roll', 'head_pitch'], dtype='object')\n"
     ]
    }
   ],
   "source": [
    "import pickle\n",
    "# open a file, where you ant to store the data\n",
    "file = open('lasso_feature_model.pkl', 'wb')\n",
    "file3 = open('best_features_LAASO.pkl', 'wb')\n",
    "\n",
    "lasso_mse = []\n",
    "lasso_mse.append(np.round(mean_squared_error(y_selected_valid,rf.predict(X_selected_valid)),4))\n",
    "lasso_mse.append(np.round(mean_squared_error(y_selected_valid2,y_pred),4))\n",
    "\n",
    "best_features = X_selected_train2.columns\n",
    "\n",
    "print(best_features)\n",
    "\n",
    "# dump information to that file\n",
    "pickle.dump(lasso_mse, file)\n",
    "pickle.dump(best_features, file3)"
   ]
  },
  {
   "cell_type": "markdown",
   "id": "2d8aef2e",
   "metadata": {},
   "source": [
    "We got the best result using LAASO feature selection on Random Forest with MSE of 0.0057"
   ]
  }
 ],
 "metadata": {
  "kernelspec": {
   "display_name": "Python 3 (ipykernel)",
   "language": "python",
   "name": "python3"
  },
  "language_info": {
   "codemirror_mode": {
    "name": "ipython",
    "version": 3
   },
   "file_extension": ".py",
   "mimetype": "text/x-python",
   "name": "python",
   "nbconvert_exporter": "python",
   "pygments_lexer": "ipython3",
   "version": "3.9.12"
  }
 },
 "nbformat": 4,
 "nbformat_minor": 5
}
