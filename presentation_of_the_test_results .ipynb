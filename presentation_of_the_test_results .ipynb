{
 "cells": [
  {
   "cell_type": "code",
   "execution_count": 22,
   "id": "9468b558",
   "metadata": {},
   "outputs": [],
   "source": [
    "import numpy as np\n",
    "import pandas as pd\n",
    "import matplotlib.pyplot as plt\n",
    "import seaborn as sns\n",
    "\n",
    "from sklearn.preprocessing import MinMaxScaler\n",
    "from sklearn.model_selection import train_test_split\n",
    "from sklearn.metrics import mean_squared_error,mean_absolute_error,r2_score\n",
    "\n",
    "from warnings import filterwarnings\n",
    "filterwarnings(\"ignore\")"
   ]
  },
  {
   "cell_type": "code",
   "execution_count": 23,
   "id": "b274ed2b",
   "metadata": {},
   "outputs": [
    {
     "data": {
      "text/html": [
       "<div>\n",
       "<style scoped>\n",
       "    .dataframe tbody tr th:only-of-type {\n",
       "        vertical-align: middle;\n",
       "    }\n",
       "\n",
       "    .dataframe tbody tr th {\n",
       "        vertical-align: top;\n",
       "    }\n",
       "\n",
       "    .dataframe thead th {\n",
       "        text-align: right;\n",
       "    }\n",
       "</style>\n",
       "<table border=\"1\" class=\"dataframe\">\n",
       "  <thead>\n",
       "    <tr style=\"text-align: right;\">\n",
       "      <th></th>\n",
       "      <th>oid</th>\n",
       "      <th>timestamp</th>\n",
       "      <th>x</th>\n",
       "      <th>y</th>\n",
       "      <th>body_roll</th>\n",
       "      <th>body_pitch</th>\n",
       "      <th>body_yaw</th>\n",
       "      <th>head_roll</th>\n",
       "      <th>head_pitch</th>\n",
       "      <th>head_yaw</th>\n",
       "      <th>other_oid</th>\n",
       "      <th>other_class</th>\n",
       "      <th>other_x</th>\n",
       "      <th>other_y</th>\n",
       "    </tr>\n",
       "  </thead>\n",
       "  <tbody>\n",
       "    <tr>\n",
       "      <th>0</th>\n",
       "      <td>50187</td>\n",
       "      <td>1842.4</td>\n",
       "      <td>495854.6403</td>\n",
       "      <td>5.405751e+06</td>\n",
       "      <td>0.3</td>\n",
       "      <td>-0.71</td>\n",
       "      <td>190.56</td>\n",
       "      <td>-0.25</td>\n",
       "      <td>-1.09</td>\n",
       "      <td>186.37</td>\n",
       "      <td>[47646, 50181, 50184, 50187]</td>\n",
       "      <td>[0, 4, 4, 4]</td>\n",
       "      <td>[495923.373133135, 495899.069769386, 495899.05...</td>\n",
       "      <td>[5405744.32136751, 5405738.47595118, 5405739.1...</td>\n",
       "    </tr>\n",
       "    <tr>\n",
       "      <th>1</th>\n",
       "      <td>50187</td>\n",
       "      <td>1842.5</td>\n",
       "      <td>495854.7921</td>\n",
       "      <td>5.405751e+06</td>\n",
       "      <td>0.3</td>\n",
       "      <td>-0.71</td>\n",
       "      <td>190.56</td>\n",
       "      <td>-0.25</td>\n",
       "      <td>-1.09</td>\n",
       "      <td>186.37</td>\n",
       "      <td>[50181, 50187, 50184, 47646]</td>\n",
       "      <td>[4, 4, 4, 0]</td>\n",
       "      <td>[495899.234566716, 495854.792078353, 495899.22...</td>\n",
       "      <td>[5405738.39126416, 5405750.93930797, 5405739.2...</td>\n",
       "    </tr>\n",
       "    <tr>\n",
       "      <th>2</th>\n",
       "      <td>50187</td>\n",
       "      <td>1842.6</td>\n",
       "      <td>495854.9438</td>\n",
       "      <td>5.405751e+06</td>\n",
       "      <td>0.3</td>\n",
       "      <td>-0.71</td>\n",
       "      <td>190.56</td>\n",
       "      <td>-0.25</td>\n",
       "      <td>-1.09</td>\n",
       "      <td>186.37</td>\n",
       "      <td>[47646, 50187, 50184, 50181]</td>\n",
       "      <td>[0, 4, 4, 4]</td>\n",
       "      <td>[495921.779445452, 495854.943847121, 495899.35...</td>\n",
       "      <td>[5405744.51929698, 5405750.96626812, 5405739.1...</td>\n",
       "    </tr>\n",
       "    <tr>\n",
       "      <th>3</th>\n",
       "      <td>50187</td>\n",
       "      <td>1842.7</td>\n",
       "      <td>495855.0956</td>\n",
       "      <td>5.405751e+06</td>\n",
       "      <td>0.3</td>\n",
       "      <td>-0.71</td>\n",
       "      <td>190.56</td>\n",
       "      <td>-0.25</td>\n",
       "      <td>-1.09</td>\n",
       "      <td>186.37</td>\n",
       "      <td>[50187, 47646, 50184, 50181]</td>\n",
       "      <td>[4, 0, 4, 4]</td>\n",
       "      <td>[495855.09561589, 495920.943052671, 495899.490...</td>\n",
       "      <td>[5405750.99322827, 5405744.63008031, 5405739.1...</td>\n",
       "    </tr>\n",
       "    <tr>\n",
       "      <th>4</th>\n",
       "      <td>50187</td>\n",
       "      <td>1842.8</td>\n",
       "      <td>495855.2569</td>\n",
       "      <td>5.405751e+06</td>\n",
       "      <td>0.3</td>\n",
       "      <td>-0.71</td>\n",
       "      <td>190.56</td>\n",
       "      <td>-0.25</td>\n",
       "      <td>-1.09</td>\n",
       "      <td>186.37</td>\n",
       "      <td>[50187, 50184, 50181, 47646]</td>\n",
       "      <td>[4, 4, 4, 0]</td>\n",
       "      <td>[495855.256935427, 495899.585908147, 495899.72...</td>\n",
       "      <td>[5405751.02150176, 5405739.0332702, 5405738.08...</td>\n",
       "    </tr>\n",
       "  </tbody>\n",
       "</table>\n",
       "</div>"
      ],
      "text/plain": [
       "     oid  timestamp            x             y  body_roll  body_pitch  \\\n",
       "0  50187     1842.4  495854.6403  5.405751e+06        0.3       -0.71   \n",
       "1  50187     1842.5  495854.7921  5.405751e+06        0.3       -0.71   \n",
       "2  50187     1842.6  495854.9438  5.405751e+06        0.3       -0.71   \n",
       "3  50187     1842.7  495855.0956  5.405751e+06        0.3       -0.71   \n",
       "4  50187     1842.8  495855.2569  5.405751e+06        0.3       -0.71   \n",
       "\n",
       "   body_yaw  head_roll  head_pitch  head_yaw                     other_oid  \\\n",
       "0    190.56      -0.25       -1.09    186.37  [47646, 50181, 50184, 50187]   \n",
       "1    190.56      -0.25       -1.09    186.37  [50181, 50187, 50184, 47646]   \n",
       "2    190.56      -0.25       -1.09    186.37  [47646, 50187, 50184, 50181]   \n",
       "3    190.56      -0.25       -1.09    186.37  [50187, 47646, 50184, 50181]   \n",
       "4    190.56      -0.25       -1.09    186.37  [50187, 50184, 50181, 47646]   \n",
       "\n",
       "    other_class                                            other_x  \\\n",
       "0  [0, 4, 4, 4]  [495923.373133135, 495899.069769386, 495899.05...   \n",
       "1  [4, 4, 4, 0]  [495899.234566716, 495854.792078353, 495899.22...   \n",
       "2  [0, 4, 4, 4]  [495921.779445452, 495854.943847121, 495899.35...   \n",
       "3  [4, 0, 4, 4]  [495855.09561589, 495920.943052671, 495899.490...   \n",
       "4  [4, 4, 4, 0]  [495855.256935427, 495899.585908147, 495899.72...   \n",
       "\n",
       "                                             other_y  \n",
       "0  [5405744.32136751, 5405738.47595118, 5405739.1...  \n",
       "1  [5405738.39126416, 5405750.93930797, 5405739.2...  \n",
       "2  [5405744.51929698, 5405750.96626812, 5405739.1...  \n",
       "3  [5405750.99322827, 5405744.63008031, 5405739.1...  \n",
       "4  [5405751.02150176, 5405739.0332702, 5405738.08...  "
      ]
     },
     "execution_count": 23,
     "metadata": {},
     "output_type": "execute_result"
    }
   ],
   "source": [
    "tracks_dataset = pd.read_csv(\"Group_18_data_cleaned.csv\") #read the excel file \n",
    "tracks_dataset.head()"
   ]
  },
  {
   "cell_type": "code",
   "execution_count": 24,
   "id": "35da9aad",
   "metadata": {},
   "outputs": [
    {
     "data": {
      "text/plain": [
       "(4759, 14)"
      ]
     },
     "execution_count": 24,
     "metadata": {},
     "output_type": "execute_result"
    }
   ],
   "source": [
    "tracks_dataset.shape"
   ]
  },
  {
   "cell_type": "code",
   "execution_count": 25,
   "id": "1686963a",
   "metadata": {},
   "outputs": [
    {
     "data": {
      "text/html": [
       "<div>\n",
       "<style scoped>\n",
       "    .dataframe tbody tr th:only-of-type {\n",
       "        vertical-align: middle;\n",
       "    }\n",
       "\n",
       "    .dataframe tbody tr th {\n",
       "        vertical-align: top;\n",
       "    }\n",
       "\n",
       "    .dataframe thead th {\n",
       "        text-align: right;\n",
       "    }\n",
       "</style>\n",
       "<table border=\"1\" class=\"dataframe\">\n",
       "  <thead>\n",
       "    <tr style=\"text-align: right;\">\n",
       "      <th></th>\n",
       "      <th>body_roll</th>\n",
       "      <th>body_pitch</th>\n",
       "      <th>body_yaw</th>\n",
       "      <th>head_roll</th>\n",
       "      <th>head_pitch</th>\n",
       "      <th>head_yaw</th>\n",
       "    </tr>\n",
       "  </thead>\n",
       "  <tbody>\n",
       "    <tr>\n",
       "      <th>0</th>\n",
       "      <td>0.3</td>\n",
       "      <td>-0.71</td>\n",
       "      <td>190.56</td>\n",
       "      <td>-0.25</td>\n",
       "      <td>-1.09</td>\n",
       "      <td>186.37</td>\n",
       "    </tr>\n",
       "    <tr>\n",
       "      <th>1</th>\n",
       "      <td>0.3</td>\n",
       "      <td>-0.71</td>\n",
       "      <td>190.56</td>\n",
       "      <td>-0.25</td>\n",
       "      <td>-1.09</td>\n",
       "      <td>186.37</td>\n",
       "    </tr>\n",
       "    <tr>\n",
       "      <th>2</th>\n",
       "      <td>0.3</td>\n",
       "      <td>-0.71</td>\n",
       "      <td>190.56</td>\n",
       "      <td>-0.25</td>\n",
       "      <td>-1.09</td>\n",
       "      <td>186.37</td>\n",
       "    </tr>\n",
       "    <tr>\n",
       "      <th>3</th>\n",
       "      <td>0.3</td>\n",
       "      <td>-0.71</td>\n",
       "      <td>190.56</td>\n",
       "      <td>-0.25</td>\n",
       "      <td>-1.09</td>\n",
       "      <td>186.37</td>\n",
       "    </tr>\n",
       "    <tr>\n",
       "      <th>4</th>\n",
       "      <td>0.3</td>\n",
       "      <td>-0.71</td>\n",
       "      <td>190.56</td>\n",
       "      <td>-0.25</td>\n",
       "      <td>-1.09</td>\n",
       "      <td>186.37</td>\n",
       "    </tr>\n",
       "    <tr>\n",
       "      <th>...</th>\n",
       "      <td>...</td>\n",
       "      <td>...</td>\n",
       "      <td>...</td>\n",
       "      <td>...</td>\n",
       "      <td>...</td>\n",
       "      <td>...</td>\n",
       "    </tr>\n",
       "    <tr>\n",
       "      <th>4754</th>\n",
       "      <td>0.3</td>\n",
       "      <td>-0.71</td>\n",
       "      <td>190.56</td>\n",
       "      <td>-0.25</td>\n",
       "      <td>-1.09</td>\n",
       "      <td>186.37</td>\n",
       "    </tr>\n",
       "    <tr>\n",
       "      <th>4755</th>\n",
       "      <td>0.3</td>\n",
       "      <td>-0.71</td>\n",
       "      <td>190.56</td>\n",
       "      <td>-0.25</td>\n",
       "      <td>-1.09</td>\n",
       "      <td>186.37</td>\n",
       "    </tr>\n",
       "    <tr>\n",
       "      <th>4756</th>\n",
       "      <td>0.3</td>\n",
       "      <td>-0.71</td>\n",
       "      <td>190.56</td>\n",
       "      <td>-0.25</td>\n",
       "      <td>-1.09</td>\n",
       "      <td>186.37</td>\n",
       "    </tr>\n",
       "    <tr>\n",
       "      <th>4757</th>\n",
       "      <td>0.3</td>\n",
       "      <td>-0.71</td>\n",
       "      <td>190.56</td>\n",
       "      <td>-0.25</td>\n",
       "      <td>-1.09</td>\n",
       "      <td>186.37</td>\n",
       "    </tr>\n",
       "    <tr>\n",
       "      <th>4758</th>\n",
       "      <td>0.3</td>\n",
       "      <td>-0.71</td>\n",
       "      <td>190.56</td>\n",
       "      <td>-0.25</td>\n",
       "      <td>-1.09</td>\n",
       "      <td>186.37</td>\n",
       "    </tr>\n",
       "  </tbody>\n",
       "</table>\n",
       "<p>4759 rows × 6 columns</p>\n",
       "</div>"
      ],
      "text/plain": [
       "      body_roll  body_pitch  body_yaw  head_roll  head_pitch  head_yaw\n",
       "0           0.3       -0.71    190.56      -0.25       -1.09    186.37\n",
       "1           0.3       -0.71    190.56      -0.25       -1.09    186.37\n",
       "2           0.3       -0.71    190.56      -0.25       -1.09    186.37\n",
       "3           0.3       -0.71    190.56      -0.25       -1.09    186.37\n",
       "4           0.3       -0.71    190.56      -0.25       -1.09    186.37\n",
       "...         ...         ...       ...        ...         ...       ...\n",
       "4754        0.3       -0.71    190.56      -0.25       -1.09    186.37\n",
       "4755        0.3       -0.71    190.56      -0.25       -1.09    186.37\n",
       "4756        0.3       -0.71    190.56      -0.25       -1.09    186.37\n",
       "4757        0.3       -0.71    190.56      -0.25       -1.09    186.37\n",
       "4758        0.3       -0.71    190.56      -0.25       -1.09    186.37\n",
       "\n",
       "[4759 rows x 6 columns]"
      ]
     },
     "execution_count": 25,
     "metadata": {},
     "output_type": "execute_result"
    }
   ],
   "source": [
    "X = tracks_dataset[['body_roll','body_pitch','body_yaw','head_roll','head_pitch','head_yaw']]\n",
    "X"
   ]
  },
  {
   "cell_type": "code",
   "execution_count": 26,
   "id": "25befbfd",
   "metadata": {},
   "outputs": [
    {
     "data": {
      "text/html": [
       "<div>\n",
       "<style scoped>\n",
       "    .dataframe tbody tr th:only-of-type {\n",
       "        vertical-align: middle;\n",
       "    }\n",
       "\n",
       "    .dataframe tbody tr th {\n",
       "        vertical-align: top;\n",
       "    }\n",
       "\n",
       "    .dataframe thead th {\n",
       "        text-align: right;\n",
       "    }\n",
       "</style>\n",
       "<table border=\"1\" class=\"dataframe\">\n",
       "  <thead>\n",
       "    <tr style=\"text-align: right;\">\n",
       "      <th></th>\n",
       "      <th>body_roll</th>\n",
       "      <th>body_pitch</th>\n",
       "      <th>body_yaw</th>\n",
       "      <th>head_roll</th>\n",
       "      <th>head_pitch</th>\n",
       "      <th>head_yaw</th>\n",
       "    </tr>\n",
       "  </thead>\n",
       "  <tbody>\n",
       "    <tr>\n",
       "      <th>0</th>\n",
       "      <td>0.410112</td>\n",
       "      <td>0.690168</td>\n",
       "      <td>0.532291</td>\n",
       "      <td>0.593075</td>\n",
       "      <td>0.540117</td>\n",
       "      <td>0.518761</td>\n",
       "    </tr>\n",
       "    <tr>\n",
       "      <th>1</th>\n",
       "      <td>0.410112</td>\n",
       "      <td>0.690168</td>\n",
       "      <td>0.532291</td>\n",
       "      <td>0.593075</td>\n",
       "      <td>0.540117</td>\n",
       "      <td>0.518761</td>\n",
       "    </tr>\n",
       "    <tr>\n",
       "      <th>2</th>\n",
       "      <td>0.410112</td>\n",
       "      <td>0.690168</td>\n",
       "      <td>0.532291</td>\n",
       "      <td>0.593075</td>\n",
       "      <td>0.540117</td>\n",
       "      <td>0.518761</td>\n",
       "    </tr>\n",
       "    <tr>\n",
       "      <th>3</th>\n",
       "      <td>0.410112</td>\n",
       "      <td>0.690168</td>\n",
       "      <td>0.532291</td>\n",
       "      <td>0.593075</td>\n",
       "      <td>0.540117</td>\n",
       "      <td>0.518761</td>\n",
       "    </tr>\n",
       "    <tr>\n",
       "      <th>4</th>\n",
       "      <td>0.410112</td>\n",
       "      <td>0.690168</td>\n",
       "      <td>0.532291</td>\n",
       "      <td>0.593075</td>\n",
       "      <td>0.540117</td>\n",
       "      <td>0.518761</td>\n",
       "    </tr>\n",
       "    <tr>\n",
       "      <th>...</th>\n",
       "      <td>...</td>\n",
       "      <td>...</td>\n",
       "      <td>...</td>\n",
       "      <td>...</td>\n",
       "      <td>...</td>\n",
       "      <td>...</td>\n",
       "    </tr>\n",
       "    <tr>\n",
       "      <th>4754</th>\n",
       "      <td>0.410112</td>\n",
       "      <td>0.690168</td>\n",
       "      <td>0.532291</td>\n",
       "      <td>0.593075</td>\n",
       "      <td>0.540117</td>\n",
       "      <td>0.518761</td>\n",
       "    </tr>\n",
       "    <tr>\n",
       "      <th>4755</th>\n",
       "      <td>0.410112</td>\n",
       "      <td>0.690168</td>\n",
       "      <td>0.532291</td>\n",
       "      <td>0.593075</td>\n",
       "      <td>0.540117</td>\n",
       "      <td>0.518761</td>\n",
       "    </tr>\n",
       "    <tr>\n",
       "      <th>4756</th>\n",
       "      <td>0.410112</td>\n",
       "      <td>0.690168</td>\n",
       "      <td>0.532291</td>\n",
       "      <td>0.593075</td>\n",
       "      <td>0.540117</td>\n",
       "      <td>0.518761</td>\n",
       "    </tr>\n",
       "    <tr>\n",
       "      <th>4757</th>\n",
       "      <td>0.410112</td>\n",
       "      <td>0.690168</td>\n",
       "      <td>0.532291</td>\n",
       "      <td>0.593075</td>\n",
       "      <td>0.540117</td>\n",
       "      <td>0.518761</td>\n",
       "    </tr>\n",
       "    <tr>\n",
       "      <th>4758</th>\n",
       "      <td>0.410112</td>\n",
       "      <td>0.690168</td>\n",
       "      <td>0.532291</td>\n",
       "      <td>0.593075</td>\n",
       "      <td>0.540117</td>\n",
       "      <td>0.518761</td>\n",
       "    </tr>\n",
       "  </tbody>\n",
       "</table>\n",
       "<p>4759 rows × 6 columns</p>\n",
       "</div>"
      ],
      "text/plain": [
       "      body_roll  body_pitch  body_yaw  head_roll  head_pitch  head_yaw\n",
       "0      0.410112    0.690168  0.532291   0.593075    0.540117  0.518761\n",
       "1      0.410112    0.690168  0.532291   0.593075    0.540117  0.518761\n",
       "2      0.410112    0.690168  0.532291   0.593075    0.540117  0.518761\n",
       "3      0.410112    0.690168  0.532291   0.593075    0.540117  0.518761\n",
       "4      0.410112    0.690168  0.532291   0.593075    0.540117  0.518761\n",
       "...         ...         ...       ...        ...         ...       ...\n",
       "4754   0.410112    0.690168  0.532291   0.593075    0.540117  0.518761\n",
       "4755   0.410112    0.690168  0.532291   0.593075    0.540117  0.518761\n",
       "4756   0.410112    0.690168  0.532291   0.593075    0.540117  0.518761\n",
       "4757   0.410112    0.690168  0.532291   0.593075    0.540117  0.518761\n",
       "4758   0.410112    0.690168  0.532291   0.593075    0.540117  0.518761\n",
       "\n",
       "[4759 rows x 6 columns]"
      ]
     },
     "execution_count": 26,
     "metadata": {},
     "output_type": "execute_result"
    }
   ],
   "source": [
    "# MinMaxScaler\n",
    "min_max_scaler = MinMaxScaler()\n",
    "\n",
    "X_scaled = pd.DataFrame(min_max_scaler.fit_transform(X))\n",
    "\n",
    "# While scaling the columns names are removed, so resigining them back\n",
    "X_scaled.columns = X.columns\n",
    "X_scaled"
   ]
  },
  {
   "cell_type": "code",
   "execution_count": 27,
   "id": "3772404e",
   "metadata": {},
   "outputs": [
    {
     "data": {
      "text/plain": [
       "0       0.518761\n",
       "1       0.518761\n",
       "2       0.518761\n",
       "3       0.518761\n",
       "4       0.518761\n",
       "          ...   \n",
       "4754    0.518761\n",
       "4755    0.518761\n",
       "4756    0.518761\n",
       "4757    0.518761\n",
       "4758    0.518761\n",
       "Name: head_yaw, Length: 4759, dtype: float64"
      ]
     },
     "execution_count": 27,
     "metadata": {},
     "output_type": "execute_result"
    }
   ],
   "source": [
    "y_scaled = X_scaled['head_yaw']\n",
    "y_scaled"
   ]
  },
  {
   "cell_type": "code",
   "execution_count": 28,
   "id": "5c06b6e2",
   "metadata": {},
   "outputs": [],
   "source": [
    "X_scaled = X_scaled.drop(['head_yaw'],axis=1)"
   ]
  },
  {
   "cell_type": "code",
   "execution_count": 29,
   "id": "1dda1bc6",
   "metadata": {},
   "outputs": [],
   "source": [
    "X_train_full, X_test, y_train_full, y_test = train_test_split(X_scaled, y_scaled, test_size=0.3, random_state=38)\n",
    "X_train, X_valid, y_train, y_valid = train_test_split(X_train_full, y_train_full, test_size=0.3, random_state=38)"
   ]
  },
  {
   "cell_type": "code",
   "execution_count": 30,
   "id": "724439c9",
   "metadata": {},
   "outputs": [
    {
     "name": "stdout",
     "output_type": "stream",
     "text": [
      "(2331, 5) (1000, 5) (1428, 5)\n"
     ]
    }
   ],
   "source": [
    "print(X_train.shape, X_valid.shape, X_test.shape)"
   ]
  },
  {
   "cell_type": "markdown",
   "id": "e0f3b261",
   "metadata": {},
   "source": [
    "### Linear Regression Model"
   ]
  },
  {
   "cell_type": "code",
   "execution_count": 31,
   "id": "b24c8364",
   "metadata": {},
   "outputs": [
    {
     "name": "stdout",
     "output_type": "stream",
     "text": [
      "Linear Regression with CV\n",
      "MAE on the validation data: 0.0403\n",
      "MSE on the validation data: 0.0085\n",
      "RMSE on the validation data: 0.0924\n"
     ]
    }
   ],
   "source": [
    "from sklearn.linear_model import LinearRegression\n",
    "from sklearn.model_selection import train_test_split\n",
    "from sklearn.model_selection import cross_val_score, cross_val_predict\n",
    "\n",
    "lm = LinearRegression()\n",
    "\n",
    "print('Linear Regression with CV')\n",
    "p = cross_val_predict(lm ,X_valid, y_valid, cv = 3)\n",
    "\n",
    "print('MAE on the validation data:', np.round(mean_absolute_error(y_valid, p),4))\n",
    "print('MSE on the validation data:', np.round(mean_squared_error(y_valid,  p),4))\n",
    "print('RMSE on the validation data:', np.round(np.sqrt(mean_squared_error(y_valid,p)),4))"
   ]
  },
  {
   "cell_type": "markdown",
   "id": "fb6e45c9",
   "metadata": {},
   "source": [
    "### KNeighborsRegressor Model"
   ]
  },
  {
   "cell_type": "code",
   "execution_count": 32,
   "id": "a11fc0d8",
   "metadata": {},
   "outputs": [
    {
     "name": "stdout",
     "output_type": "stream",
     "text": [
      "MAE on the validation data: 0.0314\n",
      "MSE on the validation data: 0.0064\n",
      "RMSE on the validation data: 0.08\n"
     ]
    }
   ],
   "source": [
    "import pickle\n",
    "from sklearn.neighbors import KNeighborsRegressor\n",
    "\n",
    "pickle_in = open(\"knn_model.pkl\",\"rb\")\n",
    "\n",
    "knn= pickle.load(pickle_in)\n",
    "knn = KNeighborsRegressor(n_neighbors= 5, p= 2, weights= 'distance')\n",
    "knn.fit(X_train,y_train)\n",
    "\n",
    "pred=knn.predict(X_valid)\n",
    "\n",
    "print('MAE on the validation data:', np.round(mean_absolute_error(y_valid, pred),4))\n",
    "print('MSE on the validation data:', np.round(mean_squared_error(y_valid,  pred),4))\n",
    "print('RMSE on the validation data:', np.round(np.sqrt(mean_squared_error(y_valid,pred)),4))"
   ]
  },
  {
   "cell_type": "markdown",
   "id": "0dab5288",
   "metadata": {},
   "source": [
    "###  Random Forest Regressor Model"
   ]
  },
  {
   "cell_type": "code",
   "execution_count": 33,
   "id": "3d8ca39e",
   "metadata": {},
   "outputs": [
    {
     "name": "stdout",
     "output_type": "stream",
     "text": [
      "MAE on the validation data: 0.0301\n",
      "MSE on the validation data: 0.0062\n",
      "RMSE on the validation data: 0.0786\n"
     ]
    }
   ],
   "source": [
    "from sklearn.ensemble import RandomForestRegressor\n",
    "\n",
    "rf = RandomForestRegressor(bootstrap= True,max_depth= 90,max_features= 3,min_samples_leaf= 3,min_samples_split= 8,\n",
    " n_estimators= 200)\n",
    "\n",
    "rf.fit(X_train, y_train)\n",
    "\n",
    "pred=rf.predict(X_valid)\n",
    "\n",
    "print('MAE on the validation data:', np.round(mean_absolute_error(y_valid,pred),4))\n",
    "print('MSE on the validation data:', np.round(mean_squared_error(y_valid,pred),4))\n",
    "print('RMSE on the validation data:', np.round(np.sqrt(mean_squared_error(y_valid,pred)),4))"
   ]
  },
  {
   "cell_type": "markdown",
   "id": "24571359",
   "metadata": {},
   "source": [
    "### SVM Linear Model"
   ]
  },
  {
   "cell_type": "code",
   "execution_count": 34,
   "id": "3a4f1870",
   "metadata": {},
   "outputs": [
    {
     "name": "stdout",
     "output_type": "stream",
     "text": [
      "MAE on the validation data: 0.0384\n",
      "MSE on the validation data: 0.0085\n",
      "RMSE on the validation data: 0.0922\n"
     ]
    }
   ],
   "source": [
    "from sklearn.svm import SVR\n",
    "\n",
    "svr_linear = SVR(kernel='linear', C=1.0, epsilon=0.1)\n",
    "svr_linear.fit(X_train, y_train) \n",
    "\n",
    "pred = svr_linear.predict(X_valid) \n",
    "\n",
    "print('MAE on the validation data:', np.round(mean_absolute_error(y_valid,pred),4))\n",
    "print('MSE on the validation data:', np.round(mean_squared_error(y_valid,pred),4))\n",
    "print('RMSE on the validation data:', np.round(np.sqrt(mean_squared_error(y_valid,pred)),4))"
   ]
  },
  {
   "cell_type": "markdown",
   "id": "68edffc6",
   "metadata": {},
   "source": [
    "### SVM Non Linear Model"
   ]
  },
  {
   "cell_type": "code",
   "execution_count": 35,
   "id": "e22efe21",
   "metadata": {},
   "outputs": [
    {
     "name": "stdout",
     "output_type": "stream",
     "text": [
      "MAE on the validation data: 0.036\n",
      "MSE on the validation data: 0.0066\n",
      "RMSE on the validation data: 0.0813\n"
     ]
    }
   ],
   "source": [
    "svr_tuned = SVR(kernel=\"rbf\",\n",
    "                C=0.2).fit(X_train,y_train)\n",
    "\n",
    "pred = svr_tuned.predict(X_valid) \n",
    "\n",
    "print('MAE on the validation data:', np.round(mean_absolute_error(y_valid,pred),4))\n",
    "print('MSE on the validation data:', np.round(mean_squared_error(y_valid,pred),4))\n",
    "print('RMSE on the validation data:', np.round(np.sqrt(mean_squared_error(y_valid,pred)),4))"
   ]
  },
  {
   "cell_type": "markdown",
   "id": "fcd09aa8",
   "metadata": {},
   "source": [
    "### Using LASSO for feature selection"
   ]
  },
  {
   "cell_type": "code",
   "execution_count": 37,
   "id": "ac5c9816",
   "metadata": {},
   "outputs": [
    {
     "name": "stdout",
     "output_type": "stream",
     "text": [
      "MSE on the validation data: using Random Forest  0.0057\n",
      "MSE on the validation data: using SVM non linear  0.013\n"
     ]
    }
   ],
   "source": [
    "pickle_in = open(\"lasso_feature_model.pkl\",\"rb\")\n",
    "\n",
    "lasso_mse= pickle.load(pickle_in)\n",
    "\n",
    "print('MSE on the validation data: using Random Forest ', lasso_mse[0])\n",
    "print('MSE on the validation data: using SVM non linear ', lasso_mse[1])"
   ]
  },
  {
   "cell_type": "markdown",
   "id": "afc0cef5",
   "metadata": {},
   "source": [
    "### Using Bidirectional for feature selection"
   ]
  },
  {
   "cell_type": "code",
   "execution_count": 41,
   "id": "464922a5",
   "metadata": {},
   "outputs": [
    {
     "name": "stdout",
     "output_type": "stream",
     "text": [
      "MSE on the validation data: using Random Forest  0.0058\n",
      "MSE on the validation data: using SVM non linear  0.0058\n"
     ]
    }
   ],
   "source": [
    "pickle_in = open(\"bidirectional_feature_model.pkl\",\"rb\")\n",
    "\n",
    "bidirectional_mse= pickle.load(pickle_in)\n",
    "\n",
    "print('MSE on the validation data: using Random Forest ', bidirectional_mse[0])\n",
    "print('MSE on the validation data: using SVM non linear ', bidirectional_mse[1])"
   ]
  },
  {
   "cell_type": "markdown",
   "id": "644db97a",
   "metadata": {},
   "source": [
    "On comparing all the MSE with the models got the best results for Random Forest Model with LASSO feature technique which is 0.0056. Now performing the predictions on the test data."
   ]
  },
  {
   "cell_type": "code",
   "execution_count": 17,
   "id": "7bba0ace",
   "metadata": {},
   "outputs": [
    {
     "data": {
      "text/plain": [
       "array(['body_pitch', 'body_yaw', 'head_roll', 'head_pitch'], dtype=object)"
      ]
     },
     "execution_count": 17,
     "metadata": {},
     "output_type": "execute_result"
    }
   ],
   "source": [
    "pickle_in = open(\"best_features_LAASO.pkl\",\"rb\")\n",
    "\n",
    "best_features= pickle.load(pickle_in)\n",
    "best_features = best_features.to_numpy()\n",
    "best_features"
   ]
  },
  {
   "cell_type": "code",
   "execution_count": 18,
   "id": "ccf418d8",
   "metadata": {},
   "outputs": [
    {
     "data": {
      "text/plain": [
       "(1428, 4)"
      ]
     },
     "execution_count": 18,
     "metadata": {},
     "output_type": "execute_result"
    }
   ],
   "source": [
    "a= best_features[0]\n",
    "b= best_features[1]\n",
    "c= best_features[2]\n",
    "d= best_features[3]\n",
    "X_selected_train = X_train[[a,b,c,d]]\n",
    "X_selected_test = X_test[[a,b,c,d]]\n",
    "X_selected_test.shape"
   ]
  },
  {
   "cell_type": "code",
   "execution_count": 19,
   "id": "b2d690e9",
   "metadata": {},
   "outputs": [
    {
     "data": {
      "text/plain": [
       "RandomForestRegressor(max_depth=90, max_features=3, min_samples_leaf=3,\n",
       "                      min_samples_split=8, n_estimators=200)"
      ]
     },
     "execution_count": 19,
     "metadata": {},
     "output_type": "execute_result"
    }
   ],
   "source": [
    "rf.fit(X_selected_train,y_train)"
   ]
  },
  {
   "cell_type": "code",
   "execution_count": 20,
   "id": "4183e9a4",
   "metadata": {},
   "outputs": [
    {
     "data": {
      "text/plain": [
       "array([0.64890939, 0.51876363, 0.51876363, ..., 0.51876363, 0.30700558,\n",
       "       0.51876363])"
      ]
     },
     "execution_count": 20,
     "metadata": {},
     "output_type": "execute_result"
    }
   ],
   "source": [
    "pred=rf.predict(X_selected_test)\n",
    "pred"
   ]
  },
  {
   "cell_type": "code",
   "execution_count": 21,
   "id": "93384cf9",
   "metadata": {},
   "outputs": [
    {
     "name": "stdout",
     "output_type": "stream",
     "text": [
      "MAE on the test data: 0.0289\n",
      "MSE on the test data: 0.0053\n",
      "RMSE on the test data: 0.073\n"
     ]
    }
   ],
   "source": [
    "print('MAE on the test data:', np.round(mean_absolute_error(y_test,pred),4))\n",
    "print('MSE on the test data:', np.round(mean_squared_error(y_test,pred),4))\n",
    "print('RMSE on the test data:', np.round(np.sqrt(mean_squared_error(y_test,pred)),4))"
   ]
  }
 ],
 "metadata": {
  "kernelspec": {
   "display_name": "Python 3 (ipykernel)",
   "language": "python",
   "name": "python3"
  },
  "language_info": {
   "codemirror_mode": {
    "name": "ipython",
    "version": 3
   },
   "file_extension": ".py",
   "mimetype": "text/x-python",
   "name": "python",
   "nbconvert_exporter": "python",
   "pygments_lexer": "ipython3",
   "version": "3.9.12"
  }
 },
 "nbformat": 4,
 "nbformat_minor": 5
}
