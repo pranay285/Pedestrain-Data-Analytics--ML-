{
 "cells": [
  {
   "cell_type": "code",
   "execution_count": 1,
   "id": "deb53726",
   "metadata": {},
   "outputs": [],
   "source": [
    "import numpy as np\n",
    "import pandas as pd\n",
    "import matplotlib.pyplot as plt\n",
    "import seaborn as sns\n",
    "\n",
    "from sklearn.preprocessing import MinMaxScaler, LabelEncoder\n",
    "from sklearn.model_selection import train_test_split\n",
    "from sklearn.metrics import accuracy_score\n",
    "\n",
    "from warnings import filterwarnings\n",
    "filterwarnings(\"ignore\")"
   ]
  },
  {
   "cell_type": "code",
   "execution_count": 2,
   "id": "24ff85f0",
   "metadata": {},
   "outputs": [
    {
     "data": {
      "text/html": [
       "<div>\n",
       "<style scoped>\n",
       "    .dataframe tbody tr th:only-of-type {\n",
       "        vertical-align: middle;\n",
       "    }\n",
       "\n",
       "    .dataframe tbody tr th {\n",
       "        vertical-align: top;\n",
       "    }\n",
       "\n",
       "    .dataframe thead th {\n",
       "        text-align: right;\n",
       "    }\n",
       "</style>\n",
       "<table border=\"1\" class=\"dataframe\">\n",
       "  <thead>\n",
       "    <tr style=\"text-align: right;\">\n",
       "      <th></th>\n",
       "      <th>oid</th>\n",
       "      <th>timestamp</th>\n",
       "      <th>x</th>\n",
       "      <th>y</th>\n",
       "      <th>body_roll</th>\n",
       "      <th>body_pitch</th>\n",
       "      <th>body_yaw</th>\n",
       "      <th>head_roll</th>\n",
       "      <th>head_pitch</th>\n",
       "      <th>head_yaw</th>\n",
       "      <th>other_oid</th>\n",
       "      <th>other_class</th>\n",
       "      <th>other_x</th>\n",
       "      <th>other_y</th>\n",
       "    </tr>\n",
       "  </thead>\n",
       "  <tbody>\n",
       "    <tr>\n",
       "      <th>0</th>\n",
       "      <td>50187</td>\n",
       "      <td>1842.4</td>\n",
       "      <td>495854.6403</td>\n",
       "      <td>5.405751e+06</td>\n",
       "      <td>0.3</td>\n",
       "      <td>-0.71</td>\n",
       "      <td>190.56</td>\n",
       "      <td>-0.25</td>\n",
       "      <td>-1.09</td>\n",
       "      <td>186.37</td>\n",
       "      <td>[47646, 50181, 50184, 50187]</td>\n",
       "      <td>[0, 4, 4, 4]</td>\n",
       "      <td>[495923.373133135, 495899.069769386, 495899.05...</td>\n",
       "      <td>[5405744.32136751, 5405738.47595118, 5405739.1...</td>\n",
       "    </tr>\n",
       "    <tr>\n",
       "      <th>1</th>\n",
       "      <td>50187</td>\n",
       "      <td>1842.5</td>\n",
       "      <td>495854.7921</td>\n",
       "      <td>5.405751e+06</td>\n",
       "      <td>0.3</td>\n",
       "      <td>-0.71</td>\n",
       "      <td>190.56</td>\n",
       "      <td>-0.25</td>\n",
       "      <td>-1.09</td>\n",
       "      <td>186.37</td>\n",
       "      <td>[50181, 50187, 50184, 47646]</td>\n",
       "      <td>[4, 4, 4, 0]</td>\n",
       "      <td>[495899.234566716, 495854.792078353, 495899.22...</td>\n",
       "      <td>[5405738.39126416, 5405750.93930797, 5405739.2...</td>\n",
       "    </tr>\n",
       "    <tr>\n",
       "      <th>2</th>\n",
       "      <td>50187</td>\n",
       "      <td>1842.6</td>\n",
       "      <td>495854.9438</td>\n",
       "      <td>5.405751e+06</td>\n",
       "      <td>0.3</td>\n",
       "      <td>-0.71</td>\n",
       "      <td>190.56</td>\n",
       "      <td>-0.25</td>\n",
       "      <td>-1.09</td>\n",
       "      <td>186.37</td>\n",
       "      <td>[47646, 50187, 50184, 50181]</td>\n",
       "      <td>[0, 4, 4, 4]</td>\n",
       "      <td>[495921.779445452, 495854.943847121, 495899.35...</td>\n",
       "      <td>[5405744.51929698, 5405750.96626812, 5405739.1...</td>\n",
       "    </tr>\n",
       "    <tr>\n",
       "      <th>3</th>\n",
       "      <td>50187</td>\n",
       "      <td>1842.7</td>\n",
       "      <td>495855.0956</td>\n",
       "      <td>5.405751e+06</td>\n",
       "      <td>0.3</td>\n",
       "      <td>-0.71</td>\n",
       "      <td>190.56</td>\n",
       "      <td>-0.25</td>\n",
       "      <td>-1.09</td>\n",
       "      <td>186.37</td>\n",
       "      <td>[50187, 47646, 50184, 50181]</td>\n",
       "      <td>[4, 0, 4, 4]</td>\n",
       "      <td>[495855.09561589, 495920.943052671, 495899.490...</td>\n",
       "      <td>[5405750.99322827, 5405744.63008031, 5405739.1...</td>\n",
       "    </tr>\n",
       "    <tr>\n",
       "      <th>4</th>\n",
       "      <td>50187</td>\n",
       "      <td>1842.8</td>\n",
       "      <td>495855.2569</td>\n",
       "      <td>5.405751e+06</td>\n",
       "      <td>0.3</td>\n",
       "      <td>-0.71</td>\n",
       "      <td>190.56</td>\n",
       "      <td>-0.25</td>\n",
       "      <td>-1.09</td>\n",
       "      <td>186.37</td>\n",
       "      <td>[50187, 50184, 50181, 47646]</td>\n",
       "      <td>[4, 4, 4, 0]</td>\n",
       "      <td>[495855.256935427, 495899.585908147, 495899.72...</td>\n",
       "      <td>[5405751.02150176, 5405739.0332702, 5405738.08...</td>\n",
       "    </tr>\n",
       "  </tbody>\n",
       "</table>\n",
       "</div>"
      ],
      "text/plain": [
       "     oid  timestamp            x             y  body_roll  body_pitch  \\\n",
       "0  50187     1842.4  495854.6403  5.405751e+06        0.3       -0.71   \n",
       "1  50187     1842.5  495854.7921  5.405751e+06        0.3       -0.71   \n",
       "2  50187     1842.6  495854.9438  5.405751e+06        0.3       -0.71   \n",
       "3  50187     1842.7  495855.0956  5.405751e+06        0.3       -0.71   \n",
       "4  50187     1842.8  495855.2569  5.405751e+06        0.3       -0.71   \n",
       "\n",
       "   body_yaw  head_roll  head_pitch  head_yaw                     other_oid  \\\n",
       "0    190.56      -0.25       -1.09    186.37  [47646, 50181, 50184, 50187]   \n",
       "1    190.56      -0.25       -1.09    186.37  [50181, 50187, 50184, 47646]   \n",
       "2    190.56      -0.25       -1.09    186.37  [47646, 50187, 50184, 50181]   \n",
       "3    190.56      -0.25       -1.09    186.37  [50187, 47646, 50184, 50181]   \n",
       "4    190.56      -0.25       -1.09    186.37  [50187, 50184, 50181, 47646]   \n",
       "\n",
       "    other_class                                            other_x  \\\n",
       "0  [0, 4, 4, 4]  [495923.373133135, 495899.069769386, 495899.05...   \n",
       "1  [4, 4, 4, 0]  [495899.234566716, 495854.792078353, 495899.22...   \n",
       "2  [0, 4, 4, 4]  [495921.779445452, 495854.943847121, 495899.35...   \n",
       "3  [4, 0, 4, 4]  [495855.09561589, 495920.943052671, 495899.490...   \n",
       "4  [4, 4, 4, 0]  [495855.256935427, 495899.585908147, 495899.72...   \n",
       "\n",
       "                                             other_y  \n",
       "0  [5405744.32136751, 5405738.47595118, 5405739.1...  \n",
       "1  [5405738.39126416, 5405750.93930797, 5405739.2...  \n",
       "2  [5405744.51929698, 5405750.96626812, 5405739.1...  \n",
       "3  [5405750.99322827, 5405744.63008031, 5405739.1...  \n",
       "4  [5405751.02150176, 5405739.0332702, 5405738.08...  "
      ]
     },
     "execution_count": 2,
     "metadata": {},
     "output_type": "execute_result"
    }
   ],
   "source": [
    "tracks_dataset = pd.read_csv(\"Group_18_data_cleaned.csv\") #read the excel file \n",
    "tracks_dataset.head()"
   ]
  },
  {
   "cell_type": "code",
   "execution_count": 3,
   "id": "abae6583",
   "metadata": {},
   "outputs": [
    {
     "data": {
      "text/plain": [
       "(4759, 14)"
      ]
     },
     "execution_count": 3,
     "metadata": {},
     "output_type": "execute_result"
    }
   ],
   "source": [
    "tracks_dataset.shape"
   ]
  },
  {
   "cell_type": "code",
   "execution_count": 4,
   "id": "7f75ebd5",
   "metadata": {},
   "outputs": [
    {
     "data": {
      "text/html": [
       "<div>\n",
       "<style scoped>\n",
       "    .dataframe tbody tr th:only-of-type {\n",
       "        vertical-align: middle;\n",
       "    }\n",
       "\n",
       "    .dataframe tbody tr th {\n",
       "        vertical-align: top;\n",
       "    }\n",
       "\n",
       "    .dataframe thead th {\n",
       "        text-align: right;\n",
       "    }\n",
       "</style>\n",
       "<table border=\"1\" class=\"dataframe\">\n",
       "  <thead>\n",
       "    <tr style=\"text-align: right;\">\n",
       "      <th></th>\n",
       "      <th>body_roll</th>\n",
       "      <th>body_pitch</th>\n",
       "      <th>body_yaw</th>\n",
       "      <th>head_roll</th>\n",
       "      <th>head_pitch</th>\n",
       "      <th>head_yaw</th>\n",
       "    </tr>\n",
       "  </thead>\n",
       "  <tbody>\n",
       "    <tr>\n",
       "      <th>0</th>\n",
       "      <td>0.3</td>\n",
       "      <td>-0.71</td>\n",
       "      <td>190.56</td>\n",
       "      <td>-0.25</td>\n",
       "      <td>-1.09</td>\n",
       "      <td>186.37</td>\n",
       "    </tr>\n",
       "    <tr>\n",
       "      <th>1</th>\n",
       "      <td>0.3</td>\n",
       "      <td>-0.71</td>\n",
       "      <td>190.56</td>\n",
       "      <td>-0.25</td>\n",
       "      <td>-1.09</td>\n",
       "      <td>186.37</td>\n",
       "    </tr>\n",
       "    <tr>\n",
       "      <th>2</th>\n",
       "      <td>0.3</td>\n",
       "      <td>-0.71</td>\n",
       "      <td>190.56</td>\n",
       "      <td>-0.25</td>\n",
       "      <td>-1.09</td>\n",
       "      <td>186.37</td>\n",
       "    </tr>\n",
       "    <tr>\n",
       "      <th>3</th>\n",
       "      <td>0.3</td>\n",
       "      <td>-0.71</td>\n",
       "      <td>190.56</td>\n",
       "      <td>-0.25</td>\n",
       "      <td>-1.09</td>\n",
       "      <td>186.37</td>\n",
       "    </tr>\n",
       "    <tr>\n",
       "      <th>4</th>\n",
       "      <td>0.3</td>\n",
       "      <td>-0.71</td>\n",
       "      <td>190.56</td>\n",
       "      <td>-0.25</td>\n",
       "      <td>-1.09</td>\n",
       "      <td>186.37</td>\n",
       "    </tr>\n",
       "    <tr>\n",
       "      <th>...</th>\n",
       "      <td>...</td>\n",
       "      <td>...</td>\n",
       "      <td>...</td>\n",
       "      <td>...</td>\n",
       "      <td>...</td>\n",
       "      <td>...</td>\n",
       "    </tr>\n",
       "    <tr>\n",
       "      <th>4754</th>\n",
       "      <td>0.3</td>\n",
       "      <td>-0.71</td>\n",
       "      <td>190.56</td>\n",
       "      <td>-0.25</td>\n",
       "      <td>-1.09</td>\n",
       "      <td>186.37</td>\n",
       "    </tr>\n",
       "    <tr>\n",
       "      <th>4755</th>\n",
       "      <td>0.3</td>\n",
       "      <td>-0.71</td>\n",
       "      <td>190.56</td>\n",
       "      <td>-0.25</td>\n",
       "      <td>-1.09</td>\n",
       "      <td>186.37</td>\n",
       "    </tr>\n",
       "    <tr>\n",
       "      <th>4756</th>\n",
       "      <td>0.3</td>\n",
       "      <td>-0.71</td>\n",
       "      <td>190.56</td>\n",
       "      <td>-0.25</td>\n",
       "      <td>-1.09</td>\n",
       "      <td>186.37</td>\n",
       "    </tr>\n",
       "    <tr>\n",
       "      <th>4757</th>\n",
       "      <td>0.3</td>\n",
       "      <td>-0.71</td>\n",
       "      <td>190.56</td>\n",
       "      <td>-0.25</td>\n",
       "      <td>-1.09</td>\n",
       "      <td>186.37</td>\n",
       "    </tr>\n",
       "    <tr>\n",
       "      <th>4758</th>\n",
       "      <td>0.3</td>\n",
       "      <td>-0.71</td>\n",
       "      <td>190.56</td>\n",
       "      <td>-0.25</td>\n",
       "      <td>-1.09</td>\n",
       "      <td>186.37</td>\n",
       "    </tr>\n",
       "  </tbody>\n",
       "</table>\n",
       "<p>4759 rows × 6 columns</p>\n",
       "</div>"
      ],
      "text/plain": [
       "      body_roll  body_pitch  body_yaw  head_roll  head_pitch  head_yaw\n",
       "0           0.3       -0.71    190.56      -0.25       -1.09    186.37\n",
       "1           0.3       -0.71    190.56      -0.25       -1.09    186.37\n",
       "2           0.3       -0.71    190.56      -0.25       -1.09    186.37\n",
       "3           0.3       -0.71    190.56      -0.25       -1.09    186.37\n",
       "4           0.3       -0.71    190.56      -0.25       -1.09    186.37\n",
       "...         ...         ...       ...        ...         ...       ...\n",
       "4754        0.3       -0.71    190.56      -0.25       -1.09    186.37\n",
       "4755        0.3       -0.71    190.56      -0.25       -1.09    186.37\n",
       "4756        0.3       -0.71    190.56      -0.25       -1.09    186.37\n",
       "4757        0.3       -0.71    190.56      -0.25       -1.09    186.37\n",
       "4758        0.3       -0.71    190.56      -0.25       -1.09    186.37\n",
       "\n",
       "[4759 rows x 6 columns]"
      ]
     },
     "execution_count": 4,
     "metadata": {},
     "output_type": "execute_result"
    }
   ],
   "source": [
    "X = tracks_dataset[['body_roll','body_pitch','body_yaw','head_roll','head_pitch','head_yaw']]\n",
    "X"
   ]
  },
  {
   "cell_type": "code",
   "execution_count": 5,
   "id": "1dd7b2d9",
   "metadata": {},
   "outputs": [
    {
     "data": {
      "text/html": [
       "<div>\n",
       "<style scoped>\n",
       "    .dataframe tbody tr th:only-of-type {\n",
       "        vertical-align: middle;\n",
       "    }\n",
       "\n",
       "    .dataframe tbody tr th {\n",
       "        vertical-align: top;\n",
       "    }\n",
       "\n",
       "    .dataframe thead th {\n",
       "        text-align: right;\n",
       "    }\n",
       "</style>\n",
       "<table border=\"1\" class=\"dataframe\">\n",
       "  <thead>\n",
       "    <tr style=\"text-align: right;\">\n",
       "      <th></th>\n",
       "      <th>body_roll</th>\n",
       "      <th>body_pitch</th>\n",
       "      <th>body_yaw</th>\n",
       "      <th>head_roll</th>\n",
       "      <th>head_pitch</th>\n",
       "      <th>head_yaw</th>\n",
       "    </tr>\n",
       "  </thead>\n",
       "  <tbody>\n",
       "    <tr>\n",
       "      <th>0</th>\n",
       "      <td>0.410112</td>\n",
       "      <td>0.690168</td>\n",
       "      <td>0.532291</td>\n",
       "      <td>0.593075</td>\n",
       "      <td>0.540117</td>\n",
       "      <td>0.518761</td>\n",
       "    </tr>\n",
       "    <tr>\n",
       "      <th>1</th>\n",
       "      <td>0.410112</td>\n",
       "      <td>0.690168</td>\n",
       "      <td>0.532291</td>\n",
       "      <td>0.593075</td>\n",
       "      <td>0.540117</td>\n",
       "      <td>0.518761</td>\n",
       "    </tr>\n",
       "    <tr>\n",
       "      <th>2</th>\n",
       "      <td>0.410112</td>\n",
       "      <td>0.690168</td>\n",
       "      <td>0.532291</td>\n",
       "      <td>0.593075</td>\n",
       "      <td>0.540117</td>\n",
       "      <td>0.518761</td>\n",
       "    </tr>\n",
       "    <tr>\n",
       "      <th>3</th>\n",
       "      <td>0.410112</td>\n",
       "      <td>0.690168</td>\n",
       "      <td>0.532291</td>\n",
       "      <td>0.593075</td>\n",
       "      <td>0.540117</td>\n",
       "      <td>0.518761</td>\n",
       "    </tr>\n",
       "    <tr>\n",
       "      <th>4</th>\n",
       "      <td>0.410112</td>\n",
       "      <td>0.690168</td>\n",
       "      <td>0.532291</td>\n",
       "      <td>0.593075</td>\n",
       "      <td>0.540117</td>\n",
       "      <td>0.518761</td>\n",
       "    </tr>\n",
       "    <tr>\n",
       "      <th>...</th>\n",
       "      <td>...</td>\n",
       "      <td>...</td>\n",
       "      <td>...</td>\n",
       "      <td>...</td>\n",
       "      <td>...</td>\n",
       "      <td>...</td>\n",
       "    </tr>\n",
       "    <tr>\n",
       "      <th>4754</th>\n",
       "      <td>0.410112</td>\n",
       "      <td>0.690168</td>\n",
       "      <td>0.532291</td>\n",
       "      <td>0.593075</td>\n",
       "      <td>0.540117</td>\n",
       "      <td>0.518761</td>\n",
       "    </tr>\n",
       "    <tr>\n",
       "      <th>4755</th>\n",
       "      <td>0.410112</td>\n",
       "      <td>0.690168</td>\n",
       "      <td>0.532291</td>\n",
       "      <td>0.593075</td>\n",
       "      <td>0.540117</td>\n",
       "      <td>0.518761</td>\n",
       "    </tr>\n",
       "    <tr>\n",
       "      <th>4756</th>\n",
       "      <td>0.410112</td>\n",
       "      <td>0.690168</td>\n",
       "      <td>0.532291</td>\n",
       "      <td>0.593075</td>\n",
       "      <td>0.540117</td>\n",
       "      <td>0.518761</td>\n",
       "    </tr>\n",
       "    <tr>\n",
       "      <th>4757</th>\n",
       "      <td>0.410112</td>\n",
       "      <td>0.690168</td>\n",
       "      <td>0.532291</td>\n",
       "      <td>0.593075</td>\n",
       "      <td>0.540117</td>\n",
       "      <td>0.518761</td>\n",
       "    </tr>\n",
       "    <tr>\n",
       "      <th>4758</th>\n",
       "      <td>0.410112</td>\n",
       "      <td>0.690168</td>\n",
       "      <td>0.532291</td>\n",
       "      <td>0.593075</td>\n",
       "      <td>0.540117</td>\n",
       "      <td>0.518761</td>\n",
       "    </tr>\n",
       "  </tbody>\n",
       "</table>\n",
       "<p>4759 rows × 6 columns</p>\n",
       "</div>"
      ],
      "text/plain": [
       "      body_roll  body_pitch  body_yaw  head_roll  head_pitch  head_yaw\n",
       "0      0.410112    0.690168  0.532291   0.593075    0.540117  0.518761\n",
       "1      0.410112    0.690168  0.532291   0.593075    0.540117  0.518761\n",
       "2      0.410112    0.690168  0.532291   0.593075    0.540117  0.518761\n",
       "3      0.410112    0.690168  0.532291   0.593075    0.540117  0.518761\n",
       "4      0.410112    0.690168  0.532291   0.593075    0.540117  0.518761\n",
       "...         ...         ...       ...        ...         ...       ...\n",
       "4754   0.410112    0.690168  0.532291   0.593075    0.540117  0.518761\n",
       "4755   0.410112    0.690168  0.532291   0.593075    0.540117  0.518761\n",
       "4756   0.410112    0.690168  0.532291   0.593075    0.540117  0.518761\n",
       "4757   0.410112    0.690168  0.532291   0.593075    0.540117  0.518761\n",
       "4758   0.410112    0.690168  0.532291   0.593075    0.540117  0.518761\n",
       "\n",
       "[4759 rows x 6 columns]"
      ]
     },
     "execution_count": 5,
     "metadata": {},
     "output_type": "execute_result"
    }
   ],
   "source": [
    "# MinMaxScaler\n",
    "min_max_scaler = MinMaxScaler()\n",
    "\n",
    "X_scaled = pd.DataFrame(min_max_scaler.fit_transform(X))\n",
    "\n",
    "# While scaling the columns names are removed, so resigining them back\n",
    "X_scaled.columns = X.columns\n",
    "X_scaled"
   ]
  },
  {
   "cell_type": "code",
   "execution_count": 6,
   "id": "5caca398",
   "metadata": {},
   "outputs": [
    {
     "data": {
      "text/plain": [
       "0       0.518761\n",
       "1       0.518761\n",
       "2       0.518761\n",
       "3       0.518761\n",
       "4       0.518761\n",
       "          ...   \n",
       "4754    0.518761\n",
       "4755    0.518761\n",
       "4756    0.518761\n",
       "4757    0.518761\n",
       "4758    0.518761\n",
       "Name: head_yaw, Length: 4759, dtype: float64"
      ]
     },
     "execution_count": 6,
     "metadata": {},
     "output_type": "execute_result"
    }
   ],
   "source": [
    "y = X_scaled['head_yaw']\n",
    "y"
   ]
  },
  {
   "cell_type": "code",
   "execution_count": 7,
   "id": "5ac606dd",
   "metadata": {},
   "outputs": [],
   "source": [
    "X_scaled = X_scaled.drop(['head_yaw'],axis=1)"
   ]
  },
  {
   "cell_type": "code",
   "execution_count": 8,
   "id": "34c10aec",
   "metadata": {},
   "outputs": [],
   "source": [
    "X_train_full, X_test, y_train_full, y_test = train_test_split(X_scaled, y, test_size=0.3, random_state=42)\n",
    "\n",
    "X_train, X_valid, y_train, y_valid = train_test_split(X_train_full, y_train_full, test_size=0.3, random_state=42)"
   ]
  },
  {
   "cell_type": "code",
   "execution_count": 9,
   "id": "965ac8e8",
   "metadata": {},
   "outputs": [
    {
     "data": {
      "text/plain": [
       "('body_pitch', 'body_yaw', 'head_roll', 'head_pitch')"
      ]
     },
     "execution_count": 9,
     "metadata": {},
     "output_type": "execute_result"
    }
   ],
   "source": [
    "#importing the necessary libraries\n",
    "from mlxtend.feature_selection import SequentialFeatureSelector as SFS\n",
    "from sklearn.ensemble import RandomForestRegressor\n",
    "\n",
    "## Sequential Forward Floating Selection(sffs)\n",
    "sffs = SFS(RandomForestRegressor(n_estimators=200,min_samples_split=8,min_samples_leaf=3,max_depth=3),\n",
    "         k_features=(4),\n",
    "         forward=True,\n",
    "         floating=True,\n",
    "         cv=0)\n",
    "\n",
    "sffs.fit(X_train, y_train)\n",
    "sffs.k_feature_names_"
   ]
  },
  {
   "cell_type": "markdown",
   "id": "7673923d",
   "metadata": {},
   "source": [
    "Using the best model from project -2 (Random Forest Regressor) with the optimized features"
   ]
  },
  {
   "cell_type": "code",
   "execution_count": 10,
   "id": "0247b5f0",
   "metadata": {},
   "outputs": [],
   "source": [
    "X_selected_train = X_train[['body_yaw','head_roll','head_pitch','body_pitch']]\n",
    "y_selected_train = y_train"
   ]
  },
  {
   "cell_type": "code",
   "execution_count": 11,
   "id": "562c508a",
   "metadata": {},
   "outputs": [
    {
     "data": {
      "text/plain": [
       "RandomForestRegressor(max_depth=90, max_features=3, min_samples_leaf=3,\n",
       "                      min_samples_split=8, n_estimators=200)"
      ]
     },
     "execution_count": 11,
     "metadata": {},
     "output_type": "execute_result"
    }
   ],
   "source": [
    "rf = RandomForestRegressor(bootstrap= True,max_depth= 90,max_features= 3,min_samples_leaf= 3,min_samples_split= 8,\n",
    " n_estimators= 200)\n",
    "rf.fit(X_selected_train, y_selected_train)"
   ]
  },
  {
   "cell_type": "code",
   "execution_count": 12,
   "id": "8b4f3700",
   "metadata": {},
   "outputs": [],
   "source": [
    "X_selected_valid = X_valid[['body_yaw','head_roll','head_pitch','body_pitch']]\n",
    "y_selected_valid = y_valid"
   ]
  },
  {
   "cell_type": "code",
   "execution_count": 13,
   "id": "77fe123f",
   "metadata": {},
   "outputs": [],
   "source": [
    "pred = rf.predict(X_selected_valid)"
   ]
  },
  {
   "cell_type": "code",
   "execution_count": 15,
   "id": "1c4f0a70",
   "metadata": {},
   "outputs": [
    {
     "name": "stdout",
     "output_type": "stream",
     "text": [
      "RMSE for Random forest using Bidirectional variable selection: 0.0058\n"
     ]
    }
   ],
   "source": [
    "from sklearn.metrics import accuracy_score, mean_squared_error\n",
    "print(\"RMSE for Random forest using Bidirectional variable selection:\",np.round(mean_squared_error(y_valid,pred),4))"
   ]
  },
  {
   "cell_type": "code",
   "execution_count": 17,
   "id": "f5c2f3a3",
   "metadata": {},
   "outputs": [
    {
     "data": {
      "text/plain": [
       "('body_roll', 'body_yaw', 'head_roll', 'head_pitch')"
      ]
     },
     "execution_count": 17,
     "metadata": {},
     "output_type": "execute_result"
    }
   ],
   "source": [
    "#importing the necessary libraries\n",
    "from sklearn.svm import SVR\n",
    "from mlxtend.feature_selection import SequentialFeatureSelector as SFS\n",
    "from sklearn.ensemble import RandomForestRegressor\n",
    "\n",
    "## Sequential Forward Floating Selection(sffs)\n",
    "sffs = SFS(SVR(kernel=\"rbf\",\n",
    "                C=0.2),\n",
    "          k_features=(4),\n",
    "         forward=True,\n",
    "         floating=True,\n",
    "         cv=0)\n",
    "\n",
    "sffs.fit(X_train, y_train)\n",
    "sffs.k_feature_names_"
   ]
  },
  {
   "cell_type": "code",
   "execution_count": 19,
   "id": "e64dfa13",
   "metadata": {},
   "outputs": [],
   "source": [
    "X_selected_train = X_train[['body_roll', 'body_yaw', 'head_roll', 'head_pitch']]\n",
    "y_selected_train = y_train"
   ]
  },
  {
   "cell_type": "markdown",
   "id": "df2d3db1",
   "metadata": {},
   "source": [
    "Using the best model from project -3 (SVM Non-Linear) with the optimized features"
   ]
  },
  {
   "cell_type": "code",
   "execution_count": 42,
   "id": "fd9e85dc",
   "metadata": {},
   "outputs": [],
   "source": [
    "from sklearn.model_selection import GridSearchCV\n",
    "SVR_Radial_Basis = SVR(kernel=\"rbf\").fit(X_selected_train,y_selected_train)\n",
    "\n",
    "svr_parameters = {\"C\": np.arange(0.2,1,0.1)}\n",
    "svr_cv_model= GridSearchCV(SVR_Radial_Basis,svr_parameters,cv=5).fit(X_selected_train,y_selected_train)"
   ]
  },
  {
   "cell_type": "code",
   "execution_count": 43,
   "id": "358a8044",
   "metadata": {},
   "outputs": [
    {
     "data": {
      "text/plain": [
       "{'C': 0.9000000000000001}"
      ]
     },
     "execution_count": 43,
     "metadata": {},
     "output_type": "execute_result"
    }
   ],
   "source": [
    "svr_cv_model.best_params_"
   ]
  },
  {
   "cell_type": "code",
   "execution_count": 44,
   "id": "3682575b",
   "metadata": {},
   "outputs": [
    {
     "data": {
      "text/plain": [
       "0.9000000000000001"
      ]
     },
     "execution_count": 44,
     "metadata": {},
     "output_type": "execute_result"
    }
   ],
   "source": [
    "svr_cv_model.best_params_['C']"
   ]
  },
  {
   "cell_type": "code",
   "execution_count": 84,
   "id": "9fa9a861",
   "metadata": {},
   "outputs": [],
   "source": [
    "svr_tuned = SVR(kernel=\"rbf\",C=40).fit(X_selected_train,y_selected_train)"
   ]
  },
  {
   "cell_type": "code",
   "execution_count": 85,
   "id": "1342b3df",
   "metadata": {},
   "outputs": [
    {
     "data": {
      "text/plain": [
       "array([0.44466533, 0.5044961 , 0.5196872 , ..., 0.5044961 , 0.5044961 ,\n",
       "       0.30222113])"
      ]
     },
     "execution_count": 85,
     "metadata": {},
     "output_type": "execute_result"
    }
   ],
   "source": [
    "y_pred=svr_tuned.predict(X_selected_train)\n",
    "y_pred"
   ]
  },
  {
   "cell_type": "code",
   "execution_count": 86,
   "id": "0b656c8d",
   "metadata": {},
   "outputs": [],
   "source": [
    "from sklearn.metrics import mean_squared_error, r2_score"
   ]
  },
  {
   "cell_type": "code",
   "execution_count": 87,
   "id": "e0e4a384",
   "metadata": {},
   "outputs": [],
   "source": [
    "X_selected_valid2 = X_valid[['body_roll', 'body_yaw', 'head_roll', 'head_pitch']]\n",
    "y_selected_valid2 = y_valid"
   ]
  },
  {
   "cell_type": "code",
   "execution_count": 88,
   "id": "290643d8",
   "metadata": {},
   "outputs": [],
   "source": [
    "y_pred=svr_tuned.predict(X_selected_valid2)"
   ]
  },
  {
   "cell_type": "code",
   "execution_count": 89,
   "id": "b8baed65",
   "metadata": {},
   "outputs": [
    {
     "data": {
      "text/plain": [
       "0.0058"
      ]
     },
     "execution_count": 89,
     "metadata": {},
     "output_type": "execute_result"
    }
   ],
   "source": [
    "np.round(mean_squared_error(y_selected_valid2,y_pred),4)"
   ]
  },
  {
   "cell_type": "code",
   "execution_count": 90,
   "id": "3044779a",
   "metadata": {},
   "outputs": [
    {
     "name": "stdout",
     "output_type": "stream",
     "text": [
      "RMSE for SVM using Bidirectional variable selection: 0.0058\n"
     ]
    }
   ],
   "source": [
    "print(\"RMSE for SVM using Bidirectional variable selection:\",np.round(mean_squared_error(y_selected_valid2,y_pred),4))"
   ]
  },
  {
   "cell_type": "code",
   "execution_count": 92,
   "id": "9b32d16a",
   "metadata": {},
   "outputs": [],
   "source": [
    "import pickle\n",
    "# open a file, where you ant to store the data\n",
    "file = open('bidirectional_feature_model.pkl', 'wb')\n",
    "\n",
    "bidirectional_mse = []\n",
    "bidirectional_mse.append(np.round(mean_squared_error(y_selected_valid,pred),4))\n",
    "bidirectional_mse.append(np.round(mean_squared_error(y_selected_valid2,y_pred),4))\n",
    "\n",
    "# dump information to that file\n",
    "pickle.dump(bidirectional_mse, file)"
   ]
  },
  {
   "cell_type": "code",
   "execution_count": null,
   "id": "5e2bdcb0",
   "metadata": {},
   "outputs": [],
   "source": []
  }
 ],
 "metadata": {
  "kernelspec": {
   "display_name": "Python 3 (ipykernel)",
   "language": "python",
   "name": "python3"
  },
  "language_info": {
   "codemirror_mode": {
    "name": "ipython",
    "version": 3
   },
   "file_extension": ".py",
   "mimetype": "text/x-python",
   "name": "python",
   "nbconvert_exporter": "python",
   "pygments_lexer": "ipython3",
   "version": "3.9.12"
  }
 },
 "nbformat": 4,
 "nbformat_minor": 5
}
