{
 "cells": [
  {
   "cell_type": "code",
   "execution_count": 1,
   "id": "be7d065b",
   "metadata": {},
   "outputs": [],
   "source": [
    "import numpy as np \n",
    "import pandas as pd\n",
    "import matplotlib.pyplot as plt \n",
    "import seaborn as sns\n",
    "\n",
    "import warnings\n",
    "warnings.filterwarnings('ignore')"
   ]
  },
  {
   "cell_type": "code",
   "execution_count": 2,
   "id": "fc5be850",
   "metadata": {},
   "outputs": [
    {
     "data": {
      "text/html": [
       "<div>\n",
       "<style scoped>\n",
       "    .dataframe tbody tr th:only-of-type {\n",
       "        vertical-align: middle;\n",
       "    }\n",
       "\n",
       "    .dataframe tbody tr th {\n",
       "        vertical-align: top;\n",
       "    }\n",
       "\n",
       "    .dataframe thead th {\n",
       "        text-align: right;\n",
       "    }\n",
       "</style>\n",
       "<table border=\"1\" class=\"dataframe\">\n",
       "  <thead>\n",
       "    <tr style=\"text-align: right;\">\n",
       "      <th></th>\n",
       "      <th>oid</th>\n",
       "      <th>timestamp</th>\n",
       "      <th>x</th>\n",
       "      <th>y</th>\n",
       "      <th>body_roll</th>\n",
       "      <th>body_pitch</th>\n",
       "      <th>body_yaw</th>\n",
       "      <th>head_roll</th>\n",
       "      <th>head_pitch</th>\n",
       "      <th>head_yaw</th>\n",
       "      <th>other_oid</th>\n",
       "      <th>other_class</th>\n",
       "      <th>other_x</th>\n",
       "      <th>other_y</th>\n",
       "    </tr>\n",
       "  </thead>\n",
       "  <tbody>\n",
       "    <tr>\n",
       "      <th>0</th>\n",
       "      <td>50187</td>\n",
       "      <td>1842.4</td>\n",
       "      <td>495854.6403</td>\n",
       "      <td>5.405751e+06</td>\n",
       "      <td>0.3</td>\n",
       "      <td>-0.71</td>\n",
       "      <td>190.56</td>\n",
       "      <td>-0.25</td>\n",
       "      <td>-1.09</td>\n",
       "      <td>186.37</td>\n",
       "      <td>[47646, 50181, 50184, 50187]</td>\n",
       "      <td>[0, 4, 4, 4]</td>\n",
       "      <td>[495923.373133135, 495899.069769386, 495899.05...</td>\n",
       "      <td>[5405744.32136751, 5405738.47595118, 5405739.1...</td>\n",
       "    </tr>\n",
       "    <tr>\n",
       "      <th>1</th>\n",
       "      <td>50187</td>\n",
       "      <td>1842.5</td>\n",
       "      <td>495854.7921</td>\n",
       "      <td>5.405751e+06</td>\n",
       "      <td>0.3</td>\n",
       "      <td>-0.71</td>\n",
       "      <td>190.56</td>\n",
       "      <td>-0.25</td>\n",
       "      <td>-1.09</td>\n",
       "      <td>186.37</td>\n",
       "      <td>[50181, 50187, 50184, 47646]</td>\n",
       "      <td>[4, 4, 4, 0]</td>\n",
       "      <td>[495899.234566716, 495854.792078353, 495899.22...</td>\n",
       "      <td>[5405738.39126416, 5405750.93930797, 5405739.2...</td>\n",
       "    </tr>\n",
       "    <tr>\n",
       "      <th>2</th>\n",
       "      <td>50187</td>\n",
       "      <td>1842.6</td>\n",
       "      <td>495854.9438</td>\n",
       "      <td>5.405751e+06</td>\n",
       "      <td>0.3</td>\n",
       "      <td>-0.71</td>\n",
       "      <td>190.56</td>\n",
       "      <td>-0.25</td>\n",
       "      <td>-1.09</td>\n",
       "      <td>186.37</td>\n",
       "      <td>[47646, 50187, 50184, 50181]</td>\n",
       "      <td>[0, 4, 4, 4]</td>\n",
       "      <td>[495921.779445452, 495854.943847121, 495899.35...</td>\n",
       "      <td>[5405744.51929698, 5405750.96626812, 5405739.1...</td>\n",
       "    </tr>\n",
       "    <tr>\n",
       "      <th>3</th>\n",
       "      <td>50187</td>\n",
       "      <td>1842.7</td>\n",
       "      <td>495855.0956</td>\n",
       "      <td>5.405751e+06</td>\n",
       "      <td>0.3</td>\n",
       "      <td>-0.71</td>\n",
       "      <td>190.56</td>\n",
       "      <td>-0.25</td>\n",
       "      <td>-1.09</td>\n",
       "      <td>186.37</td>\n",
       "      <td>[50187, 47646, 50184, 50181]</td>\n",
       "      <td>[4, 0, 4, 4]</td>\n",
       "      <td>[495855.09561589, 495920.943052671, 495899.490...</td>\n",
       "      <td>[5405750.99322827, 5405744.63008031, 5405739.1...</td>\n",
       "    </tr>\n",
       "    <tr>\n",
       "      <th>4</th>\n",
       "      <td>50187</td>\n",
       "      <td>1842.8</td>\n",
       "      <td>495855.2569</td>\n",
       "      <td>5.405751e+06</td>\n",
       "      <td>0.3</td>\n",
       "      <td>-0.71</td>\n",
       "      <td>190.56</td>\n",
       "      <td>-0.25</td>\n",
       "      <td>-1.09</td>\n",
       "      <td>186.37</td>\n",
       "      <td>[50187, 50184, 50181, 47646]</td>\n",
       "      <td>[4, 4, 4, 0]</td>\n",
       "      <td>[495855.256935427, 495899.585908147, 495899.72...</td>\n",
       "      <td>[5405751.02150176, 5405739.0332702, 5405738.08...</td>\n",
       "    </tr>\n",
       "  </tbody>\n",
       "</table>\n",
       "</div>"
      ],
      "text/plain": [
       "     oid  timestamp            x             y  body_roll  body_pitch  \\\n",
       "0  50187     1842.4  495854.6403  5.405751e+06        0.3       -0.71   \n",
       "1  50187     1842.5  495854.7921  5.405751e+06        0.3       -0.71   \n",
       "2  50187     1842.6  495854.9438  5.405751e+06        0.3       -0.71   \n",
       "3  50187     1842.7  495855.0956  5.405751e+06        0.3       -0.71   \n",
       "4  50187     1842.8  495855.2569  5.405751e+06        0.3       -0.71   \n",
       "\n",
       "   body_yaw  head_roll  head_pitch  head_yaw                     other_oid  \\\n",
       "0    190.56      -0.25       -1.09    186.37  [47646, 50181, 50184, 50187]   \n",
       "1    190.56      -0.25       -1.09    186.37  [50181, 50187, 50184, 47646]   \n",
       "2    190.56      -0.25       -1.09    186.37  [47646, 50187, 50184, 50181]   \n",
       "3    190.56      -0.25       -1.09    186.37  [50187, 47646, 50184, 50181]   \n",
       "4    190.56      -0.25       -1.09    186.37  [50187, 50184, 50181, 47646]   \n",
       "\n",
       "    other_class                                            other_x  \\\n",
       "0  [0, 4, 4, 4]  [495923.373133135, 495899.069769386, 495899.05...   \n",
       "1  [4, 4, 4, 0]  [495899.234566716, 495854.792078353, 495899.22...   \n",
       "2  [0, 4, 4, 4]  [495921.779445452, 495854.943847121, 495899.35...   \n",
       "3  [4, 0, 4, 4]  [495855.09561589, 495920.943052671, 495899.490...   \n",
       "4  [4, 4, 4, 0]  [495855.256935427, 495899.585908147, 495899.72...   \n",
       "\n",
       "                                             other_y  \n",
       "0  [5405744.32136751, 5405738.47595118, 5405739.1...  \n",
       "1  [5405738.39126416, 5405750.93930797, 5405739.2...  \n",
       "2  [5405744.51929698, 5405750.96626812, 5405739.1...  \n",
       "3  [5405750.99322827, 5405744.63008031, 5405739.1...  \n",
       "4  [5405751.02150176, 5405739.0332702, 5405738.08...  "
      ]
     },
     "execution_count": 2,
     "metadata": {},
     "output_type": "execute_result"
    }
   ],
   "source": [
    "tracks_dataset = pd.read_csv(\"Group_18_data_cleaned.csv\") #read the excel file \n",
    "tracks_dataset.head()"
   ]
  },
  {
   "cell_type": "code",
   "execution_count": 3,
   "id": "b3d4062c",
   "metadata": {},
   "outputs": [
    {
     "data": {
      "text/plain": [
       "(4759, 14)"
      ]
     },
     "execution_count": 3,
     "metadata": {},
     "output_type": "execute_result"
    }
   ],
   "source": [
    "tracks_dataset.shape"
   ]
  },
  {
   "cell_type": "code",
   "execution_count": 4,
   "id": "aca7de95",
   "metadata": {},
   "outputs": [
    {
     "data": {
      "text/html": [
       "<div>\n",
       "<style scoped>\n",
       "    .dataframe tbody tr th:only-of-type {\n",
       "        vertical-align: middle;\n",
       "    }\n",
       "\n",
       "    .dataframe tbody tr th {\n",
       "        vertical-align: top;\n",
       "    }\n",
       "\n",
       "    .dataframe thead th {\n",
       "        text-align: right;\n",
       "    }\n",
       "</style>\n",
       "<table border=\"1\" class=\"dataframe\">\n",
       "  <thead>\n",
       "    <tr style=\"text-align: right;\">\n",
       "      <th></th>\n",
       "      <th>body_roll</th>\n",
       "      <th>body_pitch</th>\n",
       "      <th>body_yaw</th>\n",
       "      <th>head_roll</th>\n",
       "      <th>head_pitch</th>\n",
       "      <th>head_yaw</th>\n",
       "    </tr>\n",
       "  </thead>\n",
       "  <tbody>\n",
       "    <tr>\n",
       "      <th>0</th>\n",
       "      <td>0.3</td>\n",
       "      <td>-0.71</td>\n",
       "      <td>190.56</td>\n",
       "      <td>-0.25</td>\n",
       "      <td>-1.09</td>\n",
       "      <td>186.37</td>\n",
       "    </tr>\n",
       "    <tr>\n",
       "      <th>1</th>\n",
       "      <td>0.3</td>\n",
       "      <td>-0.71</td>\n",
       "      <td>190.56</td>\n",
       "      <td>-0.25</td>\n",
       "      <td>-1.09</td>\n",
       "      <td>186.37</td>\n",
       "    </tr>\n",
       "    <tr>\n",
       "      <th>2</th>\n",
       "      <td>0.3</td>\n",
       "      <td>-0.71</td>\n",
       "      <td>190.56</td>\n",
       "      <td>-0.25</td>\n",
       "      <td>-1.09</td>\n",
       "      <td>186.37</td>\n",
       "    </tr>\n",
       "    <tr>\n",
       "      <th>3</th>\n",
       "      <td>0.3</td>\n",
       "      <td>-0.71</td>\n",
       "      <td>190.56</td>\n",
       "      <td>-0.25</td>\n",
       "      <td>-1.09</td>\n",
       "      <td>186.37</td>\n",
       "    </tr>\n",
       "    <tr>\n",
       "      <th>4</th>\n",
       "      <td>0.3</td>\n",
       "      <td>-0.71</td>\n",
       "      <td>190.56</td>\n",
       "      <td>-0.25</td>\n",
       "      <td>-1.09</td>\n",
       "      <td>186.37</td>\n",
       "    </tr>\n",
       "    <tr>\n",
       "      <th>...</th>\n",
       "      <td>...</td>\n",
       "      <td>...</td>\n",
       "      <td>...</td>\n",
       "      <td>...</td>\n",
       "      <td>...</td>\n",
       "      <td>...</td>\n",
       "    </tr>\n",
       "    <tr>\n",
       "      <th>4754</th>\n",
       "      <td>0.3</td>\n",
       "      <td>-0.71</td>\n",
       "      <td>190.56</td>\n",
       "      <td>-0.25</td>\n",
       "      <td>-1.09</td>\n",
       "      <td>186.37</td>\n",
       "    </tr>\n",
       "    <tr>\n",
       "      <th>4755</th>\n",
       "      <td>0.3</td>\n",
       "      <td>-0.71</td>\n",
       "      <td>190.56</td>\n",
       "      <td>-0.25</td>\n",
       "      <td>-1.09</td>\n",
       "      <td>186.37</td>\n",
       "    </tr>\n",
       "    <tr>\n",
       "      <th>4756</th>\n",
       "      <td>0.3</td>\n",
       "      <td>-0.71</td>\n",
       "      <td>190.56</td>\n",
       "      <td>-0.25</td>\n",
       "      <td>-1.09</td>\n",
       "      <td>186.37</td>\n",
       "    </tr>\n",
       "    <tr>\n",
       "      <th>4757</th>\n",
       "      <td>0.3</td>\n",
       "      <td>-0.71</td>\n",
       "      <td>190.56</td>\n",
       "      <td>-0.25</td>\n",
       "      <td>-1.09</td>\n",
       "      <td>186.37</td>\n",
       "    </tr>\n",
       "    <tr>\n",
       "      <th>4758</th>\n",
       "      <td>0.3</td>\n",
       "      <td>-0.71</td>\n",
       "      <td>190.56</td>\n",
       "      <td>-0.25</td>\n",
       "      <td>-1.09</td>\n",
       "      <td>186.37</td>\n",
       "    </tr>\n",
       "  </tbody>\n",
       "</table>\n",
       "<p>4759 rows × 6 columns</p>\n",
       "</div>"
      ],
      "text/plain": [
       "      body_roll  body_pitch  body_yaw  head_roll  head_pitch  head_yaw\n",
       "0           0.3       -0.71    190.56      -0.25       -1.09    186.37\n",
       "1           0.3       -0.71    190.56      -0.25       -1.09    186.37\n",
       "2           0.3       -0.71    190.56      -0.25       -1.09    186.37\n",
       "3           0.3       -0.71    190.56      -0.25       -1.09    186.37\n",
       "4           0.3       -0.71    190.56      -0.25       -1.09    186.37\n",
       "...         ...         ...       ...        ...         ...       ...\n",
       "4754        0.3       -0.71    190.56      -0.25       -1.09    186.37\n",
       "4755        0.3       -0.71    190.56      -0.25       -1.09    186.37\n",
       "4756        0.3       -0.71    190.56      -0.25       -1.09    186.37\n",
       "4757        0.3       -0.71    190.56      -0.25       -1.09    186.37\n",
       "4758        0.3       -0.71    190.56      -0.25       -1.09    186.37\n",
       "\n",
       "[4759 rows x 6 columns]"
      ]
     },
     "execution_count": 4,
     "metadata": {},
     "output_type": "execute_result"
    }
   ],
   "source": [
    "X = tracks_dataset[['body_roll','body_pitch','body_yaw','head_roll','head_pitch','head_yaw']]\n",
    "X"
   ]
  },
  {
   "cell_type": "code",
   "execution_count": 5,
   "id": "cd07dd48",
   "metadata": {},
   "outputs": [
    {
     "data": {
      "text/html": [
       "<div>\n",
       "<style scoped>\n",
       "    .dataframe tbody tr th:only-of-type {\n",
       "        vertical-align: middle;\n",
       "    }\n",
       "\n",
       "    .dataframe tbody tr th {\n",
       "        vertical-align: top;\n",
       "    }\n",
       "\n",
       "    .dataframe thead th {\n",
       "        text-align: right;\n",
       "    }\n",
       "</style>\n",
       "<table border=\"1\" class=\"dataframe\">\n",
       "  <thead>\n",
       "    <tr style=\"text-align: right;\">\n",
       "      <th></th>\n",
       "      <th>body_roll</th>\n",
       "      <th>body_pitch</th>\n",
       "      <th>body_yaw</th>\n",
       "      <th>head_roll</th>\n",
       "      <th>head_pitch</th>\n",
       "      <th>head_yaw</th>\n",
       "    </tr>\n",
       "  </thead>\n",
       "  <tbody>\n",
       "    <tr>\n",
       "      <th>0</th>\n",
       "      <td>0.410112</td>\n",
       "      <td>0.690168</td>\n",
       "      <td>0.532291</td>\n",
       "      <td>0.593075</td>\n",
       "      <td>0.540117</td>\n",
       "      <td>0.518761</td>\n",
       "    </tr>\n",
       "    <tr>\n",
       "      <th>1</th>\n",
       "      <td>0.410112</td>\n",
       "      <td>0.690168</td>\n",
       "      <td>0.532291</td>\n",
       "      <td>0.593075</td>\n",
       "      <td>0.540117</td>\n",
       "      <td>0.518761</td>\n",
       "    </tr>\n",
       "    <tr>\n",
       "      <th>2</th>\n",
       "      <td>0.410112</td>\n",
       "      <td>0.690168</td>\n",
       "      <td>0.532291</td>\n",
       "      <td>0.593075</td>\n",
       "      <td>0.540117</td>\n",
       "      <td>0.518761</td>\n",
       "    </tr>\n",
       "    <tr>\n",
       "      <th>3</th>\n",
       "      <td>0.410112</td>\n",
       "      <td>0.690168</td>\n",
       "      <td>0.532291</td>\n",
       "      <td>0.593075</td>\n",
       "      <td>0.540117</td>\n",
       "      <td>0.518761</td>\n",
       "    </tr>\n",
       "    <tr>\n",
       "      <th>4</th>\n",
       "      <td>0.410112</td>\n",
       "      <td>0.690168</td>\n",
       "      <td>0.532291</td>\n",
       "      <td>0.593075</td>\n",
       "      <td>0.540117</td>\n",
       "      <td>0.518761</td>\n",
       "    </tr>\n",
       "    <tr>\n",
       "      <th>...</th>\n",
       "      <td>...</td>\n",
       "      <td>...</td>\n",
       "      <td>...</td>\n",
       "      <td>...</td>\n",
       "      <td>...</td>\n",
       "      <td>...</td>\n",
       "    </tr>\n",
       "    <tr>\n",
       "      <th>4754</th>\n",
       "      <td>0.410112</td>\n",
       "      <td>0.690168</td>\n",
       "      <td>0.532291</td>\n",
       "      <td>0.593075</td>\n",
       "      <td>0.540117</td>\n",
       "      <td>0.518761</td>\n",
       "    </tr>\n",
       "    <tr>\n",
       "      <th>4755</th>\n",
       "      <td>0.410112</td>\n",
       "      <td>0.690168</td>\n",
       "      <td>0.532291</td>\n",
       "      <td>0.593075</td>\n",
       "      <td>0.540117</td>\n",
       "      <td>0.518761</td>\n",
       "    </tr>\n",
       "    <tr>\n",
       "      <th>4756</th>\n",
       "      <td>0.410112</td>\n",
       "      <td>0.690168</td>\n",
       "      <td>0.532291</td>\n",
       "      <td>0.593075</td>\n",
       "      <td>0.540117</td>\n",
       "      <td>0.518761</td>\n",
       "    </tr>\n",
       "    <tr>\n",
       "      <th>4757</th>\n",
       "      <td>0.410112</td>\n",
       "      <td>0.690168</td>\n",
       "      <td>0.532291</td>\n",
       "      <td>0.593075</td>\n",
       "      <td>0.540117</td>\n",
       "      <td>0.518761</td>\n",
       "    </tr>\n",
       "    <tr>\n",
       "      <th>4758</th>\n",
       "      <td>0.410112</td>\n",
       "      <td>0.690168</td>\n",
       "      <td>0.532291</td>\n",
       "      <td>0.593075</td>\n",
       "      <td>0.540117</td>\n",
       "      <td>0.518761</td>\n",
       "    </tr>\n",
       "  </tbody>\n",
       "</table>\n",
       "<p>4759 rows × 6 columns</p>\n",
       "</div>"
      ],
      "text/plain": [
       "      body_roll  body_pitch  body_yaw  head_roll  head_pitch  head_yaw\n",
       "0      0.410112    0.690168  0.532291   0.593075    0.540117  0.518761\n",
       "1      0.410112    0.690168  0.532291   0.593075    0.540117  0.518761\n",
       "2      0.410112    0.690168  0.532291   0.593075    0.540117  0.518761\n",
       "3      0.410112    0.690168  0.532291   0.593075    0.540117  0.518761\n",
       "4      0.410112    0.690168  0.532291   0.593075    0.540117  0.518761\n",
       "...         ...         ...       ...        ...         ...       ...\n",
       "4754   0.410112    0.690168  0.532291   0.593075    0.540117  0.518761\n",
       "4755   0.410112    0.690168  0.532291   0.593075    0.540117  0.518761\n",
       "4756   0.410112    0.690168  0.532291   0.593075    0.540117  0.518761\n",
       "4757   0.410112    0.690168  0.532291   0.593075    0.540117  0.518761\n",
       "4758   0.410112    0.690168  0.532291   0.593075    0.540117  0.518761\n",
       "\n",
       "[4759 rows x 6 columns]"
      ]
     },
     "execution_count": 5,
     "metadata": {},
     "output_type": "execute_result"
    }
   ],
   "source": [
    "from sklearn.preprocessing import MinMaxScaler\n",
    "col = X.columns\n",
    "col\n",
    "\n",
    "scaler = MinMaxScaler()\n",
    "\n",
    "for column in col:\n",
    "    scaler.fit(X[[column]])\n",
    "    X[column] = scaler.transform(X[[column]])\n",
    "X"
   ]
  },
  {
   "cell_type": "markdown",
   "id": "86f295ff",
   "metadata": {},
   "source": [
    "PCA - PRINCIPLE COMPONENT ANALYSIS"
   ]
  },
  {
   "cell_type": "code",
   "execution_count": 6,
   "id": "5c817638",
   "metadata": {},
   "outputs": [],
   "source": [
    "from sklearn.decomposition import PCA"
   ]
  },
  {
   "cell_type": "code",
   "execution_count": 7,
   "id": "7f755932",
   "metadata": {},
   "outputs": [],
   "source": [
    "pca = PCA(n_components = 2)"
   ]
  },
  {
   "cell_type": "code",
   "execution_count": 8,
   "id": "d8b140d3",
   "metadata": {},
   "outputs": [
    {
     "data": {
      "text/plain": [
       "PCA(n_components=2)"
      ]
     },
     "execution_count": 8,
     "metadata": {},
     "output_type": "execute_result"
    }
   ],
   "source": [
    "pca.fit(X)"
   ]
  },
  {
   "cell_type": "code",
   "execution_count": 9,
   "id": "63d8ccd4",
   "metadata": {},
   "outputs": [],
   "source": [
    "x_pca =  pca.transform(X)"
   ]
  },
  {
   "cell_type": "code",
   "execution_count": 10,
   "id": "73ecd4cd",
   "metadata": {},
   "outputs": [
    {
     "data": {
      "text/plain": [
       "array([[2.13006989e-06, 2.48370749e-05],\n",
       "       [2.13006989e-06, 2.48370749e-05],\n",
       "       [2.13006989e-06, 2.48370749e-05],\n",
       "       ...,\n",
       "       [2.13006989e-06, 2.48370749e-05],\n",
       "       [2.13006989e-06, 2.48370749e-05],\n",
       "       [2.13006989e-06, 2.48370749e-05]])"
      ]
     },
     "execution_count": 10,
     "metadata": {},
     "output_type": "execute_result"
    }
   ],
   "source": [
    "x_pca"
   ]
  },
  {
   "cell_type": "code",
   "execution_count": 11,
   "id": "be41bbc4",
   "metadata": {},
   "outputs": [
    {
     "data": {
      "text/plain": [
       "(4759, 6)"
      ]
     },
     "execution_count": 11,
     "metadata": {},
     "output_type": "execute_result"
    }
   ],
   "source": [
    "X.shape"
   ]
  },
  {
   "cell_type": "code",
   "execution_count": 12,
   "id": "fae3039b",
   "metadata": {},
   "outputs": [
    {
     "data": {
      "text/plain": [
       "(4759, 2)"
      ]
     },
     "execution_count": 12,
     "metadata": {},
     "output_type": "execute_result"
    }
   ],
   "source": [
    "x_pca.shape"
   ]
  },
  {
   "cell_type": "code",
   "execution_count": 13,
   "id": "55aa8121",
   "metadata": {},
   "outputs": [
    {
     "data": {
      "text/plain": [
       "0       0.518761\n",
       "1       0.518761\n",
       "2       0.518761\n",
       "3       0.518761\n",
       "4       0.518761\n",
       "          ...   \n",
       "4754    0.518761\n",
       "4755    0.518761\n",
       "4756    0.518761\n",
       "4757    0.518761\n",
       "4758    0.518761\n",
       "Name: head_yaw, Length: 4759, dtype: float64"
      ]
     },
     "execution_count": 13,
     "metadata": {},
     "output_type": "execute_result"
    }
   ],
   "source": [
    "y = X['head_yaw']\n",
    "y"
   ]
  },
  {
   "cell_type": "code",
   "execution_count": 14,
   "id": "f933e8d6",
   "metadata": {},
   "outputs": [
    {
     "data": {
      "text/plain": [
       "Text(0, 0.5, 'Second component')"
      ]
     },
     "execution_count": 14,
     "metadata": {},
     "output_type": "execute_result"
    },
    {
     "data": {
      "image/png": "[encoded data removed]",
      "text/plain": [
       "<Figure size 432x432 with 1 Axes>"
      ]
     },
     "metadata": {
      "needs_background": "light"
     },
     "output_type": "display_data"
    }
   ],
   "source": [
    "plt.figure(figsize=(6,6))\n",
    "plt.scatter(x_pca[:,0],x_pca[:,1],c=y)\n",
    "plt.xlabel('First component')\n",
    "plt.ylabel('Second component')"
   ]
  },
  {
   "cell_type": "markdown",
   "id": "aba82cab",
   "metadata": {},
   "source": [
    "SOM - SELF ORGANIZING MAPS"
   ]
  },
  {
   "cell_type": "code",
   "execution_count": 15,
   "id": "2cd4469d",
   "metadata": {},
   "outputs": [],
   "source": [
    "from minisom import MiniSom"
   ]
  },
  {
   "cell_type": "code",
   "execution_count": 16,
   "id": "c309d1e6",
   "metadata": {},
   "outputs": [],
   "source": [
    "som = MiniSom( x = 10, y = 10, input_len = 6, sigma = 1.0, learning_rate = 0.5, neighborhood_function='gaussian', random_seed=0)"
   ]
  },
  {
   "cell_type": "code",
   "execution_count": 17,
   "id": "931ba7a2",
   "metadata": {},
   "outputs": [],
   "source": [
    "scaled_data = X.to_numpy()\n",
    "scaled_data\n",
    "som.random_weights_init(scaled_data)"
   ]
  },
  {
   "cell_type": "code",
   "execution_count": 18,
   "id": "2fae2479",
   "metadata": {},
   "outputs": [],
   "source": [
    "som.train_random(data = scaled_data, num_iteration = 100)"
   ]
  },
  {
   "cell_type": "code",
   "execution_count": 19,
   "id": "eb3efe6f",
   "metadata": {},
   "outputs": [],
   "source": [
    "scaled_y = y.to_numpy()\n",
    "scaled_y = list(map(int, scaled_y))"
   ]
  },
  {
   "cell_type": "code",
   "execution_count": 20,
   "id": "5fd48de4",
   "metadata": {},
   "outputs": [
    {
     "data": {
      "image/png": "[encoded data removed]",
      "text/plain": [
       "<Figure size 432x288 with 2 Axes>"
      ]
     },
     "metadata": {
      "needs_background": "light"
     },
     "output_type": "display_data"
    }
   ],
   "source": [
    "# making a self organization map \n",
    "from pylab import bone, pcolor, colorbar, plot, show \n",
    "bone() \n",
    "pcolor(som.distance_map().T) \n",
    "colorbar() \n",
    "markers = [\"d\", \"v\", \"s\", \"*\", \"^\"] \n",
    "colors = ['pink', 'green', 'cyan', 'yellow', 'orange'] \n",
    "for i, x in enumerate(scaled_data):\n",
    "    W = som.winner(x) \n",
    "    plot(W[0] + 0.5,\n",
    "    W[1] + 0.5, markers[scaled_y[i]], markeredgecolor = colors [scaled_y[i]], markerfacecolor = 'None', markersize = 10,\n",
    "    markeredgewidth = 2) \n",
    "show()"
   ]
  },
  {
   "cell_type": "code",
   "execution_count": 21,
   "id": "ab77c423",
   "metadata": {},
   "outputs": [
    {
     "data": {
      "text/plain": [
       "[0]"
      ]
     },
     "execution_count": 21,
     "metadata": {},
     "output_type": "execute_result"
    }
   ],
   "source": [
    "label_names = [0]\n",
    "label_names"
   ]
  },
  {
   "cell_type": "code",
   "execution_count": 22,
   "id": "1f2c4502",
   "metadata": {},
   "outputs": [],
   "source": [
    "# w_x, w_y = zip(*[som.winner(d) for d in scaled_data])\n",
    "# w_x = np.array(w_x)\n",
    "# w_y = np.array(w_y)\n",
    "\n",
    "# colors = ['pink'] \n",
    "# plt.figure(figsize=(8, 6))\n",
    "# plt.pcolor(som.distance_map().T, cmap='bone_r', alpha=.2)\n",
    "# plt.colorbar()\n",
    "\n",
    "# for c in np.unique(scaled_y):\n",
    "#     idx_target = scaled_y==c\n",
    "#     plt.scatter(w_x[idx_target]+.5+(np.random.rand(np.sum(idx_target))-.5)*.8,\n",
    "#                 w_y[idx_target]+.5+(np.random.rand(np.sum(idx_target))-.5)*.8, \n",
    "#                 s=50, c=colors[c-1], label=label_names[c])\n",
    "# plt.legend(loc='upper right')\n",
    "# plt.grid()\n",
    "# # plt.savefig('resulting_images/som_seed.png')\n",
    "# plt.show()"
   ]
  },
  {
   "cell_type": "code",
   "execution_count": 23,
   "id": "3ca9cbd0",
   "metadata": {},
   "outputs": [],
   "source": [
    "import numpy as np\n",
    "from numpy.ma.core import ceil\n",
    "from scipy.spatial import distance #distance calculation\n",
    "from sklearn.preprocessing import MinMaxScaler #normalisation\n",
    "from sklearn.model_selection import train_test_split\n",
    "from sklearn.metrics import accuracy_score #scoring\n",
    "from sklearn.metrics import confusion_matrix\n",
    "import matplotlib.pyplot as plt\n",
    "from matplotlib import animation, colors"
   ]
  },
  {
   "cell_type": "code",
   "execution_count": 24,
   "id": "7d4e16be",
   "metadata": {},
   "outputs": [],
   "source": [
    "X = tracks_dataset[['body_roll','body_pitch','body_yaw','head_roll','head_pitch']]\n",
    "X\n",
    "\n",
    "y = tracks_dataset['head_yaw']"
   ]
  },
  {
   "cell_type": "code",
   "execution_count": 25,
   "id": "ad1f014b",
   "metadata": {},
   "outputs": [
    {
     "name": "stdout",
     "output_type": "stream",
     "text": [
      "(3807, 5) (3807,) (952, 5) (952,)\n"
     ]
    }
   ],
   "source": [
    "# train and test split\n",
    "train_x, test_x, train_y, test_y = train_test_split(X, y, test_size=0.2, random_state=42)\n",
    "print(train_x.shape, train_y.shape, test_x.shape, test_y.shape) # check the shapes"
   ]
  },
  {
   "cell_type": "code",
   "execution_count": 26,
   "id": "0e445790",
   "metadata": {},
   "outputs": [],
   "source": [
    "def minmax_scaler(data):\n",
    "  scaler = MinMaxScaler()\n",
    "  scaled = scaler.fit_transform(data)\n",
    "  return scaled\n",
    "\n",
    "# Euclidean distance\n",
    "def e_distance(x,y):\n",
    "  return distance.euclidean(x,y)\n",
    "\n",
    "# Manhattan distance\n",
    "def m_distance(x,y):\n",
    "  return distance.cityblock(x,y)\n",
    "\n",
    "# Best Matching Unit search\n",
    "def winning_neuron(data, t, som, num_rows, num_cols):\n",
    "  winner = [0,0]\n",
    "  shortest_distance = np.sqrt(data.shape[1]) # initialise with max distance\n",
    "  input_data = data[t]\n",
    "  for row in range(num_rows):\n",
    "    for col in range(num_cols):\n",
    "      distance = e_distance(som[row][col], data[t])\n",
    "      if distance < shortest_distance: \n",
    "        shortest_distance = distance\n",
    "        winner = [row,col]\n",
    "  return winner\n",
    "# Learning rate and neighbourhood range calculation\n",
    "def decay(step, max_steps,max_learning_rate,max_m_dsitance):\n",
    "  coefficient = 1.0 - (np.float64(step)/max_steps)\n",
    "  learning_rate = coefficient*max_learning_rate\n",
    "  neighbourhood_range = ceil(coefficient * max_m_dsitance)\n",
    "  return learning_rate, neighbourhood_range"
   ]
  },
  {
   "cell_type": "code",
   "execution_count": 27,
   "id": "826235ee",
   "metadata": {},
   "outputs": [],
   "source": [
    "# hyperparameters\n",
    "num_rows = 10\n",
    "num_cols = 10\n",
    "max_m_dsitance = 4\n",
    "max_learning_rate = 0.5\n",
    "max_steps = int(7.5*10e3)\n",
    "\n",
    "# num_nurons = 5*np.sqrt(train_x.shape[0])\n",
    "# grid_size = ceil(np.sqrt(num_nurons))\n",
    "# print(grid_size)"
   ]
  },
  {
   "cell_type": "code",
   "execution_count": 28,
   "id": "61f6b63f",
   "metadata": {},
   "outputs": [
    {
     "name": "stdout",
     "output_type": "stream",
     "text": [
      "Iteration:  1000\n",
      "Iteration:  2000\n",
      "Iteration:  3000\n",
      "Iteration:  4000\n",
      "Iteration:  5000\n",
      "Iteration:  6000\n",
      "Iteration:  7000\n",
      "Iteration:  8000\n",
      "Iteration:  9000\n",
      "Iteration:  10000\n",
      "Iteration:  11000\n",
      "Iteration:  12000\n",
      "Iteration:  13000\n",
      "Iteration:  14000\n",
      "Iteration:  15000\n",
      "Iteration:  16000\n",
      "Iteration:  17000\n",
      "Iteration:  18000\n",
      "Iteration:  19000\n",
      "Iteration:  20000\n",
      "Iteration:  21000\n",
      "Iteration:  22000\n",
      "Iteration:  23000\n",
      "Iteration:  24000\n",
      "Iteration:  25000\n",
      "Iteration:  26000\n",
      "Iteration:  27000\n",
      "Iteration:  28000\n",
      "Iteration:  29000\n",
      "Iteration:  30000\n",
      "Iteration:  31000\n",
      "Iteration:  32000\n",
      "Iteration:  33000\n",
      "Iteration:  34000\n",
      "Iteration:  35000\n",
      "Iteration:  36000\n",
      "Iteration:  37000\n",
      "Iteration:  38000\n",
      "Iteration:  39000\n",
      "Iteration:  40000\n",
      "Iteration:  41000\n",
      "Iteration:  42000\n",
      "Iteration:  43000\n",
      "Iteration:  44000\n",
      "Iteration:  45000\n",
      "Iteration:  46000\n",
      "Iteration:  47000\n",
      "Iteration:  48000\n",
      "Iteration:  49000\n",
      "Iteration:  50000\n",
      "Iteration:  51000\n",
      "Iteration:  52000\n",
      "Iteration:  53000\n",
      "Iteration:  54000\n",
      "Iteration:  55000\n",
      "Iteration:  56000\n",
      "Iteration:  57000\n",
      "Iteration:  58000\n",
      "Iteration:  59000\n",
      "Iteration:  60000\n",
      "Iteration:  61000\n",
      "Iteration:  62000\n",
      "Iteration:  63000\n",
      "Iteration:  64000\n",
      "Iteration:  65000\n",
      "Iteration:  66000\n",
      "Iteration:  67000\n",
      "Iteration:  68000\n",
      "Iteration:  69000\n",
      "Iteration:  70000\n",
      "Iteration:  71000\n",
      "Iteration:  72000\n",
      "Iteration:  73000\n",
      "Iteration:  74000\n",
      "Iteration:  75000\n",
      "SOM training completed\n"
     ]
    }
   ],
   "source": [
    "train_x_norm = minmax_scaler(train_x) # normalisation\n",
    "\n",
    "# initialising self-organising map\n",
    "num_dims = train_x_norm.shape[1] # numnber of dimensions in the input data\n",
    "np.random.seed(40)\n",
    "som = np.random.random_sample(size=(num_rows, num_cols, num_dims)) # map construction\n",
    "\n",
    "# start training iterations\n",
    "for step in range(max_steps):\n",
    "  if (step+1) % 1000 == 0:\n",
    "    print(\"Iteration: \", step+1) # print out the current iteration for every 1k\n",
    "  learning_rate, neighbourhood_range = decay(step, max_steps,max_learning_rate,max_m_dsitance)\n",
    "\n",
    "  t = np.random.randint(0,high=train_x_norm.shape[0]) # random index of traing data\n",
    "  winner = winning_neuron(train_x_norm, t, som, num_rows, num_cols)\n",
    "  for row in range(num_rows):\n",
    "    for col in range(num_cols):\n",
    "      if m_distance([row,col],winner) <= neighbourhood_range:\n",
    "        som[row][col] += learning_rate*(train_x_norm[t]-som[row][col]) #update neighbour's weight\n",
    "\n",
    "print(\"SOM training completed\")"
   ]
  },
  {
   "cell_type": "code",
   "execution_count": 30,
   "id": "2951f4e1",
   "metadata": {},
   "outputs": [
    {
     "name": "stdout",
     "output_type": "stream",
     "text": [
      "sample data:  1000\n",
      "sample data:  2000\n",
      "sample data:  3000\n"
     ]
    }
   ],
   "source": [
    "# collecting labels\n",
    "\n",
    "label_data = train_y.to_numpy()\n",
    "map = np.empty(shape=(num_rows, num_cols), dtype=object)\n",
    "\n",
    "for row in range(num_rows):\n",
    "  for col in range(num_cols):\n",
    "    map[row][col] = [] # empty list to store the label\n",
    "\n",
    "for t in range(train_x_norm.shape[0]):\n",
    "  if (t+1) % 1000 == 0:\n",
    "    print(\"sample data: \", t+1)\n",
    "  winner = winning_neuron(train_x_norm, t, som, num_rows, num_cols)\n",
    "  map[winner[0]][winner[1]].append(label_data[t]) # label of winning neuron"
   ]
  },
  {
   "cell_type": "code",
   "execution_count": 31,
   "id": "5f8d6faa",
   "metadata": {},
   "outputs": [
    {
     "data": {
      "image/png": "[encoded data removed]",
      "text/plain": [
       "<Figure size 432x288 with 2 Axes>"
      ]
     },
     "metadata": {
      "needs_background": "light"
     },
     "output_type": "display_data"
    }
   ],
   "source": [
    "# construct label map\n",
    "label_map = np.zeros(shape=(num_rows, num_cols),dtype=np.int64)\n",
    "for row in range(num_rows):\n",
    "  for col in range(num_cols):\n",
    "    label_list = map[row][col]\n",
    "    if len(label_list)==0:\n",
    "      label = 2\n",
    "    else:\n",
    "      label = max(label_list, key=label_list.count)\n",
    "    label_map[row][col] = label\n",
    "\n",
    "title = ('Iteration ' + str(max_steps))\n",
    "cmap = colors.ListedColormap(['tab:green', 'tab:red', 'tab:orange'])\n",
    "plt.imshow(label_map, cmap=cmap)\n",
    "plt.colorbar()\n",
    "plt.title(title)\n",
    "plt.show()"
   ]
  }
 ],
 "metadata": {
  "kernelspec": {
   "display_name": "Python 3 (ipykernel)",
   "language": "python",
   "name": "python3"
  },
  "language_info": {
   "codemirror_mode": {
    "name": "ipython",
    "version": 3
   },
   "file_extension": ".py",
   "mimetype": "text/x-python",
   "name": "python",
   "nbconvert_exporter": "python",
   "pygments_lexer": "ipython3",
   "version": "3.9.12"
  }
 },
 "nbformat": 4,
 "nbformat_minor": 5
}
