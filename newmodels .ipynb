{
 "cells": [
  {
   "cell_type": "code",
   "execution_count": 1,
   "id": "a4c126f1",
   "metadata": {},
   "outputs": [],
   "source": [
    "import numpy as np\n",
    "import pandas as pd\n",
    "import matplotlib.pyplot as plt\n",
    "import seaborn as sns\n",
    "\n",
    "from sklearn.preprocessing import MinMaxScaler, LabelEncoder\n",
    "from sklearn.model_selection import train_test_split\n",
    "from sklearn.metrics import accuracy_score\n",
    "from sklearn.svm import SVC\n",
    "\n",
    "from sklearn.model_selection import GridSearchCV\n",
    "\n",
    "from warnings import filterwarnings\n",
    "filterwarnings(\"ignore\")"
   ]
  },
  {
   "cell_type": "code",
   "execution_count": 2,
   "id": "956fa697",
   "metadata": {},
   "outputs": [
    {
     "data": {
      "text/html": [
       "<div>\n",
       "<style scoped>\n",
       "    .dataframe tbody tr th:only-of-type {\n",
       "        vertical-align: middle;\n",
       "    }\n",
       "\n",
       "    .dataframe tbody tr th {\n",
       "        vertical-align: top;\n",
       "    }\n",
       "\n",
       "    .dataframe thead th {\n",
       "        text-align: right;\n",
       "    }\n",
       "</style>\n",
       "<table border=\"1\" class=\"dataframe\">\n",
       "  <thead>\n",
       "    <tr style=\"text-align: right;\">\n",
       "      <th></th>\n",
       "      <th>oid</th>\n",
       "      <th>timestamp</th>\n",
       "      <th>x</th>\n",
       "      <th>y</th>\n",
       "      <th>body_roll</th>\n",
       "      <th>body_pitch</th>\n",
       "      <th>body_yaw</th>\n",
       "      <th>head_roll</th>\n",
       "      <th>head_pitch</th>\n",
       "      <th>head_yaw</th>\n",
       "      <th>other_oid</th>\n",
       "      <th>other_class</th>\n",
       "      <th>other_x</th>\n",
       "      <th>other_y</th>\n",
       "    </tr>\n",
       "  </thead>\n",
       "  <tbody>\n",
       "    <tr>\n",
       "      <th>0</th>\n",
       "      <td>50187</td>\n",
       "      <td>1842.4</td>\n",
       "      <td>495854.6403</td>\n",
       "      <td>5.405751e+06</td>\n",
       "      <td>0.3</td>\n",
       "      <td>-0.71</td>\n",
       "      <td>190.56</td>\n",
       "      <td>-0.25</td>\n",
       "      <td>-1.09</td>\n",
       "      <td>186.37</td>\n",
       "      <td>[47646, 50181, 50184, 50187]</td>\n",
       "      <td>[0, 4, 4, 4]</td>\n",
       "      <td>[495923.373133135, 495899.069769386, 495899.05...</td>\n",
       "      <td>[5405744.32136751, 5405738.47595118, 5405739.1...</td>\n",
       "    </tr>\n",
       "    <tr>\n",
       "      <th>1</th>\n",
       "      <td>50187</td>\n",
       "      <td>1842.5</td>\n",
       "      <td>495854.7921</td>\n",
       "      <td>5.405751e+06</td>\n",
       "      <td>0.3</td>\n",
       "      <td>-0.71</td>\n",
       "      <td>190.56</td>\n",
       "      <td>-0.25</td>\n",
       "      <td>-1.09</td>\n",
       "      <td>186.37</td>\n",
       "      <td>[50181, 50187, 50184, 47646]</td>\n",
       "      <td>[4, 4, 4, 0]</td>\n",
       "      <td>[495899.234566716, 495854.792078353, 495899.22...</td>\n",
       "      <td>[5405738.39126416, 5405750.93930797, 5405739.2...</td>\n",
       "    </tr>\n",
       "    <tr>\n",
       "      <th>2</th>\n",
       "      <td>50187</td>\n",
       "      <td>1842.6</td>\n",
       "      <td>495854.9438</td>\n",
       "      <td>5.405751e+06</td>\n",
       "      <td>0.3</td>\n",
       "      <td>-0.71</td>\n",
       "      <td>190.56</td>\n",
       "      <td>-0.25</td>\n",
       "      <td>-1.09</td>\n",
       "      <td>186.37</td>\n",
       "      <td>[47646, 50187, 50184, 50181]</td>\n",
       "      <td>[0, 4, 4, 4]</td>\n",
       "      <td>[495921.779445452, 495854.943847121, 495899.35...</td>\n",
       "      <td>[5405744.51929698, 5405750.96626812, 5405739.1...</td>\n",
       "    </tr>\n",
       "    <tr>\n",
       "      <th>3</th>\n",
       "      <td>50187</td>\n",
       "      <td>1842.7</td>\n",
       "      <td>495855.0956</td>\n",
       "      <td>5.405751e+06</td>\n",
       "      <td>0.3</td>\n",
       "      <td>-0.71</td>\n",
       "      <td>190.56</td>\n",
       "      <td>-0.25</td>\n",
       "      <td>-1.09</td>\n",
       "      <td>186.37</td>\n",
       "      <td>[50187, 47646, 50184, 50181]</td>\n",
       "      <td>[4, 0, 4, 4]</td>\n",
       "      <td>[495855.09561589, 495920.943052671, 495899.490...</td>\n",
       "      <td>[5405750.99322827, 5405744.63008031, 5405739.1...</td>\n",
       "    </tr>\n",
       "    <tr>\n",
       "      <th>4</th>\n",
       "      <td>50187</td>\n",
       "      <td>1842.8</td>\n",
       "      <td>495855.2569</td>\n",
       "      <td>5.405751e+06</td>\n",
       "      <td>0.3</td>\n",
       "      <td>-0.71</td>\n",
       "      <td>190.56</td>\n",
       "      <td>-0.25</td>\n",
       "      <td>-1.09</td>\n",
       "      <td>186.37</td>\n",
       "      <td>[50187, 50184, 50181, 47646]</td>\n",
       "      <td>[4, 4, 4, 0]</td>\n",
       "      <td>[495855.256935427, 495899.585908147, 495899.72...</td>\n",
       "      <td>[5405751.02150176, 5405739.0332702, 5405738.08...</td>\n",
       "    </tr>\n",
       "  </tbody>\n",
       "</table>\n",
       "</div>"
      ],
      "text/plain": [
       "     oid  timestamp            x             y  body_roll  body_pitch  \\\n",
       "0  50187     1842.4  495854.6403  5.405751e+06        0.3       -0.71   \n",
       "1  50187     1842.5  495854.7921  5.405751e+06        0.3       -0.71   \n",
       "2  50187     1842.6  495854.9438  5.405751e+06        0.3       -0.71   \n",
       "3  50187     1842.7  495855.0956  5.405751e+06        0.3       -0.71   \n",
       "4  50187     1842.8  495855.2569  5.405751e+06        0.3       -0.71   \n",
       "\n",
       "   body_yaw  head_roll  head_pitch  head_yaw                     other_oid  \\\n",
       "0    190.56      -0.25       -1.09    186.37  [47646, 50181, 50184, 50187]   \n",
       "1    190.56      -0.25       -1.09    186.37  [50181, 50187, 50184, 47646]   \n",
       "2    190.56      -0.25       -1.09    186.37  [47646, 50187, 50184, 50181]   \n",
       "3    190.56      -0.25       -1.09    186.37  [50187, 47646, 50184, 50181]   \n",
       "4    190.56      -0.25       -1.09    186.37  [50187, 50184, 50181, 47646]   \n",
       "\n",
       "    other_class                                            other_x  \\\n",
       "0  [0, 4, 4, 4]  [495923.373133135, 495899.069769386, 495899.05...   \n",
       "1  [4, 4, 4, 0]  [495899.234566716, 495854.792078353, 495899.22...   \n",
       "2  [0, 4, 4, 4]  [495921.779445452, 495854.943847121, 495899.35...   \n",
       "3  [4, 0, 4, 4]  [495855.09561589, 495920.943052671, 495899.490...   \n",
       "4  [4, 4, 4, 0]  [495855.256935427, 495899.585908147, 495899.72...   \n",
       "\n",
       "                                             other_y  \n",
       "0  [5405744.32136751, 5405738.47595118, 5405739.1...  \n",
       "1  [5405738.39126416, 5405750.93930797, 5405739.2...  \n",
       "2  [5405744.51929698, 5405750.96626812, 5405739.1...  \n",
       "3  [5405750.99322827, 5405744.63008031, 5405739.1...  \n",
       "4  [5405751.02150176, 5405739.0332702, 5405738.08...  "
      ]
     },
     "execution_count": 2,
     "metadata": {},
     "output_type": "execute_result"
    }
   ],
   "source": [
    "tracks_dataset = pd.read_csv(\"Group_18_data_cleaned.csv\") #read the excel file \n",
    "tracks_dataset.head()"
   ]
  },
  {
   "cell_type": "code",
   "execution_count": 3,
   "id": "07bdacce",
   "metadata": {},
   "outputs": [
    {
     "data": {
      "text/plain": [
       "(4759, 14)"
      ]
     },
     "execution_count": 3,
     "metadata": {},
     "output_type": "execute_result"
    }
   ],
   "source": [
    "tracks_dataset.shape"
   ]
  },
  {
   "cell_type": "code",
   "execution_count": 4,
   "id": "6a175145",
   "metadata": {},
   "outputs": [
    {
     "data": {
      "text/html": [
       "<div>\n",
       "<style scoped>\n",
       "    .dataframe tbody tr th:only-of-type {\n",
       "        vertical-align: middle;\n",
       "    }\n",
       "\n",
       "    .dataframe tbody tr th {\n",
       "        vertical-align: top;\n",
       "    }\n",
       "\n",
       "    .dataframe thead th {\n",
       "        text-align: right;\n",
       "    }\n",
       "</style>\n",
       "<table border=\"1\" class=\"dataframe\">\n",
       "  <thead>\n",
       "    <tr style=\"text-align: right;\">\n",
       "      <th></th>\n",
       "      <th>body_roll</th>\n",
       "      <th>body_pitch</th>\n",
       "      <th>body_yaw</th>\n",
       "      <th>head_roll</th>\n",
       "      <th>head_pitch</th>\n",
       "      <th>head_yaw</th>\n",
       "    </tr>\n",
       "  </thead>\n",
       "  <tbody>\n",
       "    <tr>\n",
       "      <th>0</th>\n",
       "      <td>0.3</td>\n",
       "      <td>-0.71</td>\n",
       "      <td>190.56</td>\n",
       "      <td>-0.25</td>\n",
       "      <td>-1.09</td>\n",
       "      <td>186.37</td>\n",
       "    </tr>\n",
       "    <tr>\n",
       "      <th>1</th>\n",
       "      <td>0.3</td>\n",
       "      <td>-0.71</td>\n",
       "      <td>190.56</td>\n",
       "      <td>-0.25</td>\n",
       "      <td>-1.09</td>\n",
       "      <td>186.37</td>\n",
       "    </tr>\n",
       "    <tr>\n",
       "      <th>2</th>\n",
       "      <td>0.3</td>\n",
       "      <td>-0.71</td>\n",
       "      <td>190.56</td>\n",
       "      <td>-0.25</td>\n",
       "      <td>-1.09</td>\n",
       "      <td>186.37</td>\n",
       "    </tr>\n",
       "    <tr>\n",
       "      <th>3</th>\n",
       "      <td>0.3</td>\n",
       "      <td>-0.71</td>\n",
       "      <td>190.56</td>\n",
       "      <td>-0.25</td>\n",
       "      <td>-1.09</td>\n",
       "      <td>186.37</td>\n",
       "    </tr>\n",
       "    <tr>\n",
       "      <th>4</th>\n",
       "      <td>0.3</td>\n",
       "      <td>-0.71</td>\n",
       "      <td>190.56</td>\n",
       "      <td>-0.25</td>\n",
       "      <td>-1.09</td>\n",
       "      <td>186.37</td>\n",
       "    </tr>\n",
       "    <tr>\n",
       "      <th>...</th>\n",
       "      <td>...</td>\n",
       "      <td>...</td>\n",
       "      <td>...</td>\n",
       "      <td>...</td>\n",
       "      <td>...</td>\n",
       "      <td>...</td>\n",
       "    </tr>\n",
       "    <tr>\n",
       "      <th>4754</th>\n",
       "      <td>0.3</td>\n",
       "      <td>-0.71</td>\n",
       "      <td>190.56</td>\n",
       "      <td>-0.25</td>\n",
       "      <td>-1.09</td>\n",
       "      <td>186.37</td>\n",
       "    </tr>\n",
       "    <tr>\n",
       "      <th>4755</th>\n",
       "      <td>0.3</td>\n",
       "      <td>-0.71</td>\n",
       "      <td>190.56</td>\n",
       "      <td>-0.25</td>\n",
       "      <td>-1.09</td>\n",
       "      <td>186.37</td>\n",
       "    </tr>\n",
       "    <tr>\n",
       "      <th>4756</th>\n",
       "      <td>0.3</td>\n",
       "      <td>-0.71</td>\n",
       "      <td>190.56</td>\n",
       "      <td>-0.25</td>\n",
       "      <td>-1.09</td>\n",
       "      <td>186.37</td>\n",
       "    </tr>\n",
       "    <tr>\n",
       "      <th>4757</th>\n",
       "      <td>0.3</td>\n",
       "      <td>-0.71</td>\n",
       "      <td>190.56</td>\n",
       "      <td>-0.25</td>\n",
       "      <td>-1.09</td>\n",
       "      <td>186.37</td>\n",
       "    </tr>\n",
       "    <tr>\n",
       "      <th>4758</th>\n",
       "      <td>0.3</td>\n",
       "      <td>-0.71</td>\n",
       "      <td>190.56</td>\n",
       "      <td>-0.25</td>\n",
       "      <td>-1.09</td>\n",
       "      <td>186.37</td>\n",
       "    </tr>\n",
       "  </tbody>\n",
       "</table>\n",
       "<p>4759 rows × 6 columns</p>\n",
       "</div>"
      ],
      "text/plain": [
       "      body_roll  body_pitch  body_yaw  head_roll  head_pitch  head_yaw\n",
       "0           0.3       -0.71    190.56      -0.25       -1.09    186.37\n",
       "1           0.3       -0.71    190.56      -0.25       -1.09    186.37\n",
       "2           0.3       -0.71    190.56      -0.25       -1.09    186.37\n",
       "3           0.3       -0.71    190.56      -0.25       -1.09    186.37\n",
       "4           0.3       -0.71    190.56      -0.25       -1.09    186.37\n",
       "...         ...         ...       ...        ...         ...       ...\n",
       "4754        0.3       -0.71    190.56      -0.25       -1.09    186.37\n",
       "4755        0.3       -0.71    190.56      -0.25       -1.09    186.37\n",
       "4756        0.3       -0.71    190.56      -0.25       -1.09    186.37\n",
       "4757        0.3       -0.71    190.56      -0.25       -1.09    186.37\n",
       "4758        0.3       -0.71    190.56      -0.25       -1.09    186.37\n",
       "\n",
       "[4759 rows x 6 columns]"
      ]
     },
     "execution_count": 4,
     "metadata": {},
     "output_type": "execute_result"
    }
   ],
   "source": [
    "X = tracks_dataset[['body_roll','body_pitch','body_yaw','head_roll','head_pitch','head_yaw']]\n",
    "X"
   ]
  },
  {
   "cell_type": "code",
   "execution_count": 5,
   "id": "784c91f9",
   "metadata": {},
   "outputs": [],
   "source": [
    "# MinMaxScaler\n",
    "min_max_scaler = MinMaxScaler()\n",
    "\n",
    "X_scaled = pd.DataFrame(min_max_scaler.fit_transform(X))\n",
    "\n",
    "X_scaled.columns = X.columns"
   ]
  },
  {
   "cell_type": "code",
   "execution_count": 6,
   "id": "110f02d2",
   "metadata": {},
   "outputs": [],
   "source": [
    "y_scaled = X_scaled['head_yaw']"
   ]
  },
  {
   "cell_type": "code",
   "execution_count": 7,
   "id": "8b47d949",
   "metadata": {},
   "outputs": [],
   "source": [
    "X_scaled = X_scaled.drop(['head_yaw'],axis=1)"
   ]
  },
  {
   "cell_type": "code",
   "execution_count": 8,
   "id": "18fb9aca",
   "metadata": {},
   "outputs": [],
   "source": [
    "from sklearn.model_selection import train_test_split\n",
    "\n",
    "X_train_full, X_test, y_train_full, y_test = train_test_split(X_scaled, y_scaled, test_size=0.3, random_state=38)\n",
    "X_train, X_valid, y_train, y_valid = train_test_split(X_train_full, y_train_full, test_size=0.3, random_state=38)"
   ]
  },
  {
   "cell_type": "code",
   "execution_count": 9,
   "id": "3216bd4c",
   "metadata": {},
   "outputs": [
    {
     "name": "stdout",
     "output_type": "stream",
     "text": [
      "(2331, 5) (1000, 5) (1428, 5)\n"
     ]
    }
   ],
   "source": [
    "print(X_train.shape, X_valid.shape, X_test.shape)"
   ]
  },
  {
   "cell_type": "code",
   "execution_count": 10,
   "id": "1bfcbfe9",
   "metadata": {},
   "outputs": [
    {
     "data": {
      "image/png": "[encoded data removed]",
      "text/plain": [
       "<Figure size 720x576 with 4 Axes>"
      ]
     },
     "metadata": {
      "needs_background": "light"
     },
     "output_type": "display_data"
    }
   ],
   "source": [
    "fig,ax = plt.subplots(2,2,figsize=(10,8))\n",
    "ax = ax.ravel()\n",
    "for i in range(4):\n",
    "    ax[i].scatter(X_train[X_train.columns[i]],y_train,edgecolor='k',color='magenta',alpha=0.75)\n",
    "    ax[i].set_title(f\"{X_train.columns[i]} vs. y\",fontsize=14)\n",
    "    ax[i].grid(True)\n",
    "plt.show()"
   ]
  },
  {
   "cell_type": "code",
   "execution_count": 11,
   "id": "4b8443ac",
   "metadata": {},
   "outputs": [
    {
     "data": {
      "text/plain": [
       "SVR(kernel='linear')"
      ]
     },
     "execution_count": 11,
     "metadata": {},
     "output_type": "execute_result"
    }
   ],
   "source": [
    "from sklearn.svm import SVR\n",
    "\n",
    "svr_linear = SVR(kernel='linear', C=1.0, epsilon=0.1)\n",
    "svr_linear.fit(X_train, y_train) "
   ]
  },
  {
   "cell_type": "code",
   "execution_count": 12,
   "id": "c713ad5a",
   "metadata": {},
   "outputs": [
    {
     "data": {
      "text/plain": [
       "0.718"
      ]
     },
     "execution_count": 12,
     "metadata": {},
     "output_type": "execute_result"
    }
   ],
   "source": [
    "np.round(svr_linear.score(X_test,y_test),4)"
   ]
  },
  {
   "cell_type": "markdown",
   "id": "87a8f0de",
   "metadata": {},
   "source": [
    "Linear Regressor as a baseline"
   ]
  },
  {
   "cell_type": "code",
   "execution_count": 13,
   "id": "48368438",
   "metadata": {},
   "outputs": [],
   "source": [
    "from sklearn.linear_model import LinearRegression"
   ]
  },
  {
   "cell_type": "code",
   "execution_count": 14,
   "id": "dfd42cc8",
   "metadata": {},
   "outputs": [],
   "source": [
    "linear = LinearRegression()"
   ]
  },
  {
   "cell_type": "code",
   "execution_count": 15,
   "id": "cc035df4",
   "metadata": {},
   "outputs": [
    {
     "data": {
      "text/plain": [
       "LinearRegression()"
      ]
     },
     "execution_count": 15,
     "metadata": {},
     "output_type": "execute_result"
    }
   ],
   "source": [
    "linear.fit(X_train,y_train)"
   ]
  },
  {
   "cell_type": "code",
   "execution_count": 16,
   "id": "d04dda2d",
   "metadata": {},
   "outputs": [
    {
     "data": {
      "text/plain": [
       "0.719"
      ]
     },
     "execution_count": 16,
     "metadata": {},
     "output_type": "execute_result"
    }
   ],
   "source": [
    "np.round(linear.score(X_valid,y_valid),4)"
   ]
  },
  {
   "cell_type": "markdown",
   "id": "d0c07cc9",
   "metadata": {},
   "source": [
    "Support vector regressor with Gaussian (radial basis function) kernel"
   ]
  },
  {
   "cell_type": "code",
   "execution_count": 17,
   "id": "c3d136d2",
   "metadata": {},
   "outputs": [
    {
     "data": {
      "text/plain": [
       "SVR()"
      ]
     },
     "execution_count": 17,
     "metadata": {},
     "output_type": "execute_result"
    }
   ],
   "source": [
    "svr_rbf = SVR(kernel='rbf',gamma='scale', C=1.0, epsilon=0.1)\n",
    "svr_rbf.fit(X_train, y_train) "
   ]
  },
  {
   "cell_type": "code",
   "execution_count": 18,
   "id": "784147bc",
   "metadata": {},
   "outputs": [],
   "source": [
    "from sklearn.metrics import mean_squared_error"
   ]
  },
  {
   "cell_type": "code",
   "execution_count": 19,
   "id": "14eab051",
   "metadata": {},
   "outputs": [
    {
     "name": "stdout",
     "output_type": "stream",
     "text": [
      "RMSE for linear SVR: 0.009\n",
      "RMSE for RBF kernelized SVR: 0.006\n"
     ]
    }
   ],
   "source": [
    "print(\"RMSE for linear SVR:\",np.round(mean_squared_error(y_valid,svr_linear.predict(X_valid)),4))\n",
    "print(\"RMSE for RBF kernelized SVR:\",np.round(mean_squared_error(y_valid,svr_rbf.predict(X_valid)),4))"
   ]
  },
  {
   "cell_type": "markdown",
   "id": "4a20f42e",
   "metadata": {},
   "source": [
    "We can do a grid search of hyperparameters (with 5-fold cross-validation) to see if the test/validation score be improved"
   ]
  },
  {
   "cell_type": "code",
   "execution_count": 20,
   "id": "e84bbe14",
   "metadata": {},
   "outputs": [],
   "source": [
    "from sklearn.model_selection import GridSearchCV"
   ]
  },
  {
   "cell_type": "code",
   "execution_count": 21,
   "id": "8439d879",
   "metadata": {},
   "outputs": [],
   "source": [
    "params = {'C':[0.01,0.05,0.1,0.5,1,2,5],'epsilon':[0.1,0.2,0.5,1]}"
   ]
  },
  {
   "cell_type": "code",
   "execution_count": 22,
   "id": "fe02e680",
   "metadata": {},
   "outputs": [],
   "source": [
    "grid = GridSearchCV(svr_rbf,param_grid=params,cv=5,scoring='r2',verbose=1,return_train_score=True)"
   ]
  },
  {
   "cell_type": "code",
   "execution_count": 23,
   "id": "3d4b65f7",
   "metadata": {},
   "outputs": [
    {
     "name": "stdout",
     "output_type": "stream",
     "text": [
      "Fitting 5 folds for each of 28 candidates, totalling 140 fits\n"
     ]
    },
    {
     "data": {
      "text/plain": [
       "GridSearchCV(cv=5, estimator=SVR(),\n",
       "             param_grid={'C': [0.01, 0.05, 0.1, 0.5, 1, 2, 5],\n",
       "                         'epsilon': [0.1, 0.2, 0.5, 1]},\n",
       "             return_train_score=True, scoring='r2', verbose=1)"
      ]
     },
     "execution_count": 23,
     "metadata": {},
     "output_type": "execute_result"
    }
   ],
   "source": [
    "grid.fit(X_train,y_train)"
   ]
  },
  {
   "cell_type": "code",
   "execution_count": 24,
   "id": "b7b3a070",
   "metadata": {},
   "outputs": [
    {
     "data": {
      "text/plain": [
       "SVR(C=0.5)"
      ]
     },
     "execution_count": 24,
     "metadata": {},
     "output_type": "execute_result"
    }
   ],
   "source": [
    "grid.best_estimator_"
   ]
  },
  {
   "cell_type": "markdown",
   "id": "bcc32f9c",
   "metadata": {},
   "source": [
    "Fit that estimator to the data and see"
   ]
  },
  {
   "cell_type": "code",
   "execution_count": 25,
   "id": "4f03e5e0",
   "metadata": {},
   "outputs": [
    {
     "data": {
      "text/plain": [
       "SVR(C=5.0, epsilon=0.5)"
      ]
     },
     "execution_count": 25,
     "metadata": {},
     "output_type": "execute_result"
    }
   ],
   "source": [
    "svr_best=SVR(kernel='rbf',gamma='scale', C=5.0, epsilon=0.5)\n",
    "svr_best.fit(X_train, y_train)"
   ]
  },
  {
   "cell_type": "code",
   "execution_count": 26,
   "id": "fee141ce",
   "metadata": {},
   "outputs": [
    {
     "name": "stdout",
     "output_type": "stream",
     "text": [
      "MSE for RBF kernelized SVR: 0.022\n"
     ]
    }
   ],
   "source": [
    "print(\"MSE for RBF kernelized SVR:\",np.round(mean_squared_error(y_valid,svr_best.predict(X_valid)),4))"
   ]
  },
  {
   "cell_type": "code",
   "execution_count": 27,
   "id": "1660c7ae",
   "metadata": {},
   "outputs": [],
   "source": [
    "SVR_Radial_Basis = SVR(kernel=\"rbf\").fit(X_train,y_train)\n",
    "\n",
    "svr_parameters = {\"C\": np.arange(0.2,10,0.1)}\n",
    "svr_cv_model= GridSearchCV(SVR_Radial_Basis,svr_parameters,cv=5).fit(X_train,y_train)"
   ]
  },
  {
   "cell_type": "code",
   "execution_count": 28,
   "id": "fb3d9a13",
   "metadata": {},
   "outputs": [
    {
     "data": {
      "text/plain": [
       "SVR()"
      ]
     },
     "execution_count": 28,
     "metadata": {},
     "output_type": "execute_result"
    }
   ],
   "source": [
    "SVR_Radial_Basis"
   ]
  },
  {
   "cell_type": "code",
   "execution_count": 29,
   "id": "66ab0cc1",
   "metadata": {},
   "outputs": [
    {
     "data": {
      "text/plain": [
       "0.006"
      ]
     },
     "execution_count": 29,
     "metadata": {},
     "output_type": "execute_result"
    }
   ],
   "source": [
    "y_pred=SVR_Radial_Basis.predict(X_valid)\n",
    "#Valid Error\n",
    "np.round(mean_squared_error(y_valid,y_pred),4)"
   ]
  },
  {
   "cell_type": "markdown",
   "id": "9c87389c",
   "metadata": {},
   "source": [
    "Got the best results using the model SVR with kernel as rbf and hyperparameters."
   ]
  },
  {
   "cell_type": "code",
   "execution_count": 33,
   "id": "ea80ab73",
   "metadata": {},
   "outputs": [],
   "source": [
    "import pickle\n",
    "# open a file, where you ant to store the data\n",
    "file = open('svm_model.pkl', 'wb')\n",
    "\n",
    "svm_mse = []\n",
    "svm_mse.append(np.round(mean_squared_error(y_valid,svr_linear.predict(X_valid)),4))\n",
    "svm_mse.append(np.round(mean_squared_error(y_valid,svr_rbf.predict(X_valid)),4))\n",
    "svm_mse.append(np.round(mean_squared_error(y_valid,svr_best.predict(X_valid)),4))\n",
    "\n",
    "# dump information to that file\n",
    "pickle.dump(svm_mse, file)"
   ]
  }
 ],
 "metadata": {
  "kernelspec": {
   "display_name": "Python 3 (ipykernel)",
   "language": "python",
   "name": "python3"
  },
  "language_info": {
   "codemirror_mode": {
    "name": "ipython",
    "version": 3
   },
   "file_extension": ".py",
   "mimetype": "text/x-python",
   "name": "python",
   "nbconvert_exporter": "python",
   "pygments_lexer": "ipython3",
   "version": "3.9.12"
  }
 },
 "nbformat": 4,
 "nbformat_minor": 5
}
